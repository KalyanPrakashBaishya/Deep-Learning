{
 "cells": [
  {
   "cell_type": "code",
   "execution_count": 1,
   "metadata": {},
   "outputs": [
    {
     "data": {
      "text/plain": [
       "'C:\\\\Users\\\\kalya\\\\Python\\\\NLP'"
      ]
     },
     "execution_count": 1,
     "metadata": {},
     "output_type": "execute_result"
    }
   ],
   "source": [
    "# Enabling print for all lines\n",
    "from IPython.core.interactiveshell import InteractiveShell\n",
    "InteractiveShell.ast_node_interactivity = \"all\"\n",
    "\n",
    "# Checking the working directory\n",
    "import os\n",
    "os.getcwd()"
   ]
  },
  {
   "cell_type": "code",
   "execution_count": 5,
   "metadata": {},
   "outputs": [
    {
     "name": "stderr",
     "output_type": "stream",
     "text": [
      "[nltk_data] Downloading package stopwords to\n",
      "[nltk_data]     C:\\Users\\kalya\\AppData\\Roaming\\nltk_data...\n",
      "[nltk_data]   Package stopwords is already up-to-date!\n"
     ]
    },
    {
     "data": {
      "text/plain": [
       "True"
      ]
     },
     "execution_count": 5,
     "metadata": {},
     "output_type": "execute_result"
    },
    {
     "name": "stdout",
     "output_type": "stream",
     "text": [
      "0.5714025946899135\n"
     ]
    }
   ],
   "source": [
    "# Importing libraries\n",
    "import re\n",
    "import numpy as np\n",
    "import pandas as pd\n",
    "from pprint import pprint\n",
    "\n",
    "# Stopword removal\n",
    "import nltk\n",
    "from nltk.corpus import stopwords\n",
    "nltk.download('stopwords')\n",
    "\n",
    "# Gensim\n",
    "import gensim\n",
    "import gensim.corpora as corpora\n",
    "from gensim.utils import simple_preprocess\n",
    "from gensim.models import CoherenceModel\n",
    "\n",
    "# Spacy for lemmatization\n",
    "import spacy\n",
    "\n",
    "# Plotting tools\n",
    "import pyLDAvis\n",
    "import pyLDAvis.gensim  # don't skip this\n",
    "import matplotlib.pyplot as plt\n",
    "%matplotlib inline\n",
    "\n",
    "# Enable logging for gensim - optional\n",
    "import logging\n",
    "logging.basicConfig(format='%(asctime)s : %(levelname)s : %(message)s', level=logging.ERROR)\n",
    "\n",
    "import warnings\n",
    "warnings.filterwarnings(\"ignore\",category=DeprecationWarning)\n",
    "\n",
    "import random\n",
    "random.seed(10)\n",
    "print(random.random())"
   ]
  },
  {
   "cell_type": "code",
   "execution_count": 6,
   "metadata": {},
   "outputs": [],
   "source": [
    "# !pip install gensim\n",
    "# !pip install pyLDAvis\n",
    "# !python -m spacy download en\n",
    "nlp = spacy.load('en_core_web_sm')"
   ]
  },
  {
   "cell_type": "markdown",
   "metadata": {},
   "source": [
    "**Prepare Stopwords**"
   ]
  },
  {
   "cell_type": "code",
   "execution_count": 7,
   "metadata": {},
   "outputs": [],
   "source": [
    "# NLTK Stop words\n",
    "stop_words = stopwords.words('english')\n",
    "stop_words.extend(['from', 'subject', 're', 'edu', 'use'])"
   ]
  },
  {
   "cell_type": "markdown",
   "metadata": {},
   "source": [
    "**Importing 20-Newsgroups data**"
   ]
  },
  {
   "cell_type": "code",
   "execution_count": 8,
   "metadata": {},
   "outputs": [
    {
     "data": {
      "text/plain": [
       "(11314, 3)"
      ]
     },
     "execution_count": 8,
     "metadata": {},
     "output_type": "execute_result"
    },
    {
     "data": {
      "text/plain": [
       "array(['rec.autos', 'comp.sys.mac.hardware', 'comp.graphics', 'sci.space',\n",
       "       'talk.politics.guns', 'sci.med', 'comp.sys.ibm.pc.hardware',\n",
       "       'comp.os.ms-windows.misc', 'rec.motorcycles', 'talk.religion.misc',\n",
       "       'misc.forsale', 'alt.atheism', 'sci.electronics', 'comp.windows.x',\n",
       "       'rec.sport.hockey', 'rec.sport.baseball', 'soc.religion.christian',\n",
       "       'talk.politics.mideast', 'talk.politics.misc', 'sci.crypt'],\n",
       "      dtype=object)"
      ]
     },
     "execution_count": 8,
     "metadata": {},
     "output_type": "execute_result"
    },
    {
     "data": {
      "text/html": [
       "<div>\n",
       "<style scoped>\n",
       "    .dataframe tbody tr th:only-of-type {\n",
       "        vertical-align: middle;\n",
       "    }\n",
       "\n",
       "    .dataframe tbody tr th {\n",
       "        vertical-align: top;\n",
       "    }\n",
       "\n",
       "    .dataframe thead th {\n",
       "        text-align: right;\n",
       "    }\n",
       "</style>\n",
       "<table border=\"1\" class=\"dataframe\">\n",
       "  <thead>\n",
       "    <tr style=\"text-align: right;\">\n",
       "      <th></th>\n",
       "      <th>content</th>\n",
       "      <th>target</th>\n",
       "      <th>target_names</th>\n",
       "    </tr>\n",
       "  </thead>\n",
       "  <tbody>\n",
       "    <tr>\n",
       "      <th>0</th>\n",
       "      <td>From: lerxst@wam.umd.edu (where's my thing)\\nS...</td>\n",
       "      <td>7</td>\n",
       "      <td>rec.autos</td>\n",
       "    </tr>\n",
       "    <tr>\n",
       "      <th>1</th>\n",
       "      <td>From: guykuo@carson.u.washington.edu (Guy Kuo)...</td>\n",
       "      <td>4</td>\n",
       "      <td>comp.sys.mac.hardware</td>\n",
       "    </tr>\n",
       "    <tr>\n",
       "      <th>2</th>\n",
       "      <td>From: twillis@ec.ecn.purdue.edu (Thomas E Will...</td>\n",
       "      <td>4</td>\n",
       "      <td>comp.sys.mac.hardware</td>\n",
       "    </tr>\n",
       "    <tr>\n",
       "      <th>3</th>\n",
       "      <td>From: jgreen@amber (Joe Green)\\nSubject: Re: W...</td>\n",
       "      <td>1</td>\n",
       "      <td>comp.graphics</td>\n",
       "    </tr>\n",
       "    <tr>\n",
       "      <th>4</th>\n",
       "      <td>From: jcm@head-cfa.harvard.edu (Jonathan McDow...</td>\n",
       "      <td>14</td>\n",
       "      <td>sci.space</td>\n",
       "    </tr>\n",
       "  </tbody>\n",
       "</table>\n",
       "</div>"
      ],
      "text/plain": [
       "                                             content  target  \\\n",
       "0  From: lerxst@wam.umd.edu (where's my thing)\\nS...       7   \n",
       "1  From: guykuo@carson.u.washington.edu (Guy Kuo)...       4   \n",
       "2  From: twillis@ec.ecn.purdue.edu (Thomas E Will...       4   \n",
       "3  From: jgreen@amber (Joe Green)\\nSubject: Re: W...       1   \n",
       "4  From: jcm@head-cfa.harvard.edu (Jonathan McDow...      14   \n",
       "\n",
       "            target_names  \n",
       "0              rec.autos  \n",
       "1  comp.sys.mac.hardware  \n",
       "2  comp.sys.mac.hardware  \n",
       "3          comp.graphics  \n",
       "4              sci.space  "
      ]
     },
     "execution_count": 8,
     "metadata": {},
     "output_type": "execute_result"
    }
   ],
   "source": [
    "# Dataset contains about 11k newsgroups posts from 20 different topics, available as newsgroups.json\n",
    "df = pd.read_json('https://raw.githubusercontent.com/selva86/datasets/master/newsgroups.json')\n",
    "df.shape\n",
    "df.target_names.unique()\n",
    "df.head()"
   ]
  },
  {
   "cell_type": "markdown",
   "metadata": {},
   "source": [
    "**Remove email and newline characters**"
   ]
  },
  {
   "cell_type": "code",
   "execution_count": 9,
   "metadata": {},
   "outputs": [
    {
     "name": "stdout",
     "output_type": "stream",
     "text": [
      "['From: (wheres my thing) Subject: WHAT car is this!? Nntp-Posting-Host: '\n",
      " 'rac3.wam.umd.edu Organization: University of Maryland, College Park Lines: '\n",
      " '15 I was wondering if anyone out there could enlighten me on this car I saw '\n",
      " 'the other day. It was a 2-door sports car, looked to be from the late 60s/ '\n",
      " 'early 70s. It was called a Bricklin. The doors were really small. In '\n",
      " 'addition, the front bumper was separate from the rest of the body. This is '\n",
      " 'all I know. If anyone can tellme a model name, engine specs, years of '\n",
      " 'production, where this car is made, history, or whatever info you have on '\n",
      " 'this funky looking car, please e-mail. Thanks, - IL ---- brought to you by '\n",
      " 'your neighborhood Lerxst ---- ']\n"
     ]
    }
   ],
   "source": [
    "# Convert to list\n",
    "data = df.content.values.tolist()\n",
    "\n",
    "# Remove Emails\n",
    "data = [re.sub('\\S*@\\S*\\s?', '', sent) for sent in data]\n",
    "\n",
    "# Remove new line characters\n",
    "data = [re.sub('\\s+', ' ', sent) for sent in data]\n",
    "\n",
    "# Remove distracting single quotes\n",
    "data = [re.sub(\"\\'\", \"\", sent) for sent in data]\n",
    "pprint(data[:1])"
   ]
  },
  {
   "cell_type": "markdown",
   "metadata": {},
   "source": [
    "**Tokenization and Text clean-up**"
   ]
  },
  {
   "cell_type": "code",
   "execution_count": 10,
   "metadata": {},
   "outputs": [
    {
     "name": "stdout",
     "output_type": "stream",
     "text": [
      "[['from', 'wheres', 'my', 'thing', 'subject', 'what', 'car', 'is', 'this', 'nntp', 'posting', 'host', 'rac', 'wam', 'umd', 'edu', 'organization', 'university', 'of', 'maryland', 'college', 'park', 'lines', 'was', 'wondering', 'if', 'anyone', 'out', 'there', 'could', 'enlighten', 'me', 'on', 'this', 'car', 'saw', 'the', 'other', 'day', 'it', 'was', 'door', 'sports', 'car', 'looked', 'to', 'be', 'from', 'the', 'late', 'early', 'it', 'was', 'called', 'bricklin', 'the', 'doors', 'were', 'really', 'small', 'in', 'addition', 'the', 'front', 'bumper', 'was', 'separate', 'from', 'the', 'rest', 'of', 'the', 'body', 'this', 'is', 'all', 'know', 'if', 'anyone', 'can', 'tellme', 'model', 'name', 'engine', 'specs', 'years', 'of', 'production', 'where', 'this', 'car', 'is', 'made', 'history', 'or', 'whatever', 'info', 'you', 'have', 'on', 'this', 'funky', 'looking', 'car', 'please', 'mail', 'thanks', 'il', 'brought', 'to', 'you', 'by', 'your', 'neighborhood', 'lerxst']]"
     ]
    }
   ],
   "source": [
    "# Need to break down each sentence into a list of words through tokenization\n",
    "def sent_to_words(sentences):\n",
    "    for sentence in sentences:\n",
    "        # Gensim’s simple_preprocess() is great for tokenization and deacc=True removes punctuations \n",
    "        yield(gensim.utils.simple_preprocess(str(sentence), deacc=True))\n",
    "\n",
    "data_words = list(sent_to_words(data))\n",
    "print(data_words[:1], end='')"
   ]
  },
  {
   "cell_type": "markdown",
   "metadata": {},
   "source": [
    "**Creating Bigram and Trigram Models**"
   ]
  },
  {
   "cell_type": "code",
   "execution_count": 11,
   "metadata": {},
   "outputs": [
    {
     "data": {
      "text/plain": [
       "'Bigrams are two words frequently occurring together in the document. Trigrams are 3 words frequently occurring'"
      ]
     },
     "execution_count": 11,
     "metadata": {},
     "output_type": "execute_result"
    },
    {
     "name": "stdout",
     "output_type": "stream",
     "text": [
      "['from', 'wheres', 'my', 'thing', 'subject', 'what', 'car', 'is', 'this', 'nntp_posting_host', 'rac_wam_umd_edu', 'organization', 'university', 'of', 'maryland_college_park', 'lines', 'was', 'wondering', 'if', 'anyone', 'out', 'there', 'could', 'enlighten', 'me', 'on', 'this', 'car', 'saw', 'the', 'other', 'day', 'it', 'was', 'door', 'sports', 'car', 'looked', 'to', 'be', 'from', 'the', 'late', 'early', 'it', 'was', 'called', 'bricklin', 'the', 'doors', 'were', 'really', 'small', 'in', 'addition', 'the', 'front_bumper', 'was', 'separate', 'from', 'the', 'rest', 'of', 'the', 'body', 'this', 'is', 'all', 'know', 'if', 'anyone', 'can', 'tellme', 'model', 'name', 'engine', 'specs', 'years', 'of', 'production', 'where', 'this', 'car', 'is', 'made', 'history', 'or', 'whatever', 'info', 'you', 'have', 'on', 'this', 'funky', 'looking', 'car', 'please', 'mail', 'thanks', 'il', 'brought', 'to', 'you', 'by', 'your', 'neighborhood', 'lerxst']"
     ]
    }
   ],
   "source": [
    "# Gensim’s Phrases model can build and implement the bigrams, trigrams, quadgrams\n",
    "\"Bigrams are two words frequently occurring together in the document. Trigrams are 3 words frequently occurring\"\n",
    "\n",
    "# Build the bigram and trigram models\n",
    "bigram = gensim.models.Phrases(data_words, min_count=5, threshold=100) # higher threshold fewer phrases\n",
    "trigram = gensim.models.Phrases(bigram[data_words], threshold=100)  \n",
    "\n",
    "# Faster way to get a sentence clubbed as a trigram/bigram\n",
    "bigram_mod = gensim.models.phrases.Phraser(bigram)\n",
    "trigram_mod = gensim.models.phrases.Phraser(trigram)\n",
    "\n",
    "# See trigram example\n",
    "print(trigram_mod[bigram_mod[data_words[0]]], end='')"
   ]
  },
  {
   "cell_type": "markdown",
   "metadata": {},
   "source": [
    "**Remove Stopwords, Make Bigrams and Lemmatize**\n",
    "\n",
    "- Lemmatization is nothing but converting a word to its root word\n",
    "- For example: the lemma of the word ‘machines’ is ‘machine’\n",
    "- Likewise, 'walking' –> 'walk', 'mice' –> 'mouse'"
   ]
  },
  {
   "cell_type": "code",
   "execution_count": 12,
   "metadata": {},
   "outputs": [],
   "source": [
    "# Define functions for stopwords removal, making bigrams, trigrams and lemmatization sequentially\n",
    "def remove_stopwords(texts):\n",
    "    return [[word for word in simple_preprocess(str(doc)) if word not in stop_words] for doc in texts]\n",
    "\n",
    "def make_bigrams(texts):\n",
    "    return [bigram_mod[doc] for doc in texts]\n",
    "\n",
    "def make_trigrams(texts):\n",
    "    return [trigram_mod[bigram_mod[doc]] for doc in texts]\n",
    "\n",
    "def lemmatization(texts, allowed_postags=['NOUN', 'ADJ', 'VERB', 'ADV']):\n",
    "    \"\"\"https://spacy.io/api/annotation\"\"\"\n",
    "    texts_out = []\n",
    "    for sent in texts:\n",
    "        doc = nlp(\" \".join(sent)) \n",
    "        texts_out.append([token.lemma_ for token in doc if token.pos_ in allowed_postags])\n",
    "    return texts_out"
   ]
  },
  {
   "cell_type": "code",
   "execution_count": 13,
   "metadata": {},
   "outputs": [
    {
     "name": "stdout",
     "output_type": "stream",
     "text": [
      "[['where', 'thing', 'car', 'nntp_poste', 'host', 'park', 'line', 'wonder', 'could', 'enlighten', 'car', 'see', 'day', 'door', 'sport', 'car', 'look', 'late', 'early', 'call', 'door', 'really', 'small', 'addition', 'separate', 'rest', 'body', 'know', 'model', 'name', 'engine', 'spec', 'year', 'production', 'car', 'make', 'history', 'info', 'funky', 'look', 'car', 'mail', 'thank', 'bring', 'neighborhood', 'lerxst']],"
     ]
    }
   ],
   "source": [
    "# Remove Stop Words\n",
    "data_words_nostops = remove_stopwords(data_words)\n",
    "\n",
    "# Form Bigrams\n",
    "data_words_bigrams = make_bigrams(data_words_nostops)\n",
    "\n",
    "# Initialize spacy 'en' model, keeping only tagger component (for efficiency)\n",
    "nlp = spacy.load('en_core_web_sm', disable=['parser', 'ner'])\n",
    "\n",
    "# Lemmatization keeping only noun, adj, vb, adv\n",
    "data_lemmatized = lemmatization(data_words_bigrams, allowed_postags=['NOUN', 'ADJ', 'VERB', 'ADV'])\n",
    "print(data_lemmatized[:1], end=',')"
   ]
  },
  {
   "cell_type": "markdown",
   "metadata": {},
   "source": [
    "**Create the Dictionary and Corpus needed for Topic Modeling**"
   ]
  },
  {
   "cell_type": "code",
   "execution_count": 14,
   "metadata": {},
   "outputs": [
    {
     "name": "stdout",
     "output_type": "stream",
     "text": [
      "[[(0, 1), (1, 1), (2, 1), (3, 1), (4, 5), (5, 1), (6, 1), (7, 2), (8, 1), (9, 1), (10, 1), (11, 1), (12, 1), (13, 1), (14, 1), (15, 1), (16, 1), (17, 1), (18, 1), (19, 2), (20, 1), (21, 1), (22, 1), (23, 1), (24, 1), (25, 1), (26, 1), (27, 1), (28, 1), (29, 1), (30, 1), (31, 1), (32, 1), (33, 1), (34, 1), (35, 1), (36, 1), (37, 1), (38, 1), (39, 1)]]"
     ]
    }
   ],
   "source": [
    "# The two main inputs to the LDA topic model are the dictionary and the corpus\n",
    "\n",
    "# Create Dictionary\n",
    "id2word = corpora.Dictionary(data_lemmatized)\n",
    "\n",
    "# Create Corpus\n",
    "texts = data_lemmatized\n",
    "\n",
    "# Term Document Frequency\n",
    "corpus = [id2word.doc2bow(text) for text in texts]\n",
    "print(corpus[:1], end='')"
   ]
  },
  {
   "cell_type": "markdown",
   "metadata": {},
   "source": [
    "- Gensim creates a unique id for each word in the document\n",
    "- The produced corpus shown above is a mapping of (word_id, word_frequency)\n",
    "- (0, 1) above implies, word id 0 occurs once in the first document\n",
    "- This is used as the input by the LDA model"
   ]
  },
  {
   "cell_type": "code",
   "execution_count": 15,
   "metadata": {},
   "outputs": [
    {
     "data": {
      "text/plain": [
       "'addition'"
      ]
     },
     "execution_count": 15,
     "metadata": {},
     "output_type": "execute_result"
    },
    {
     "name": "stdout",
     "output_type": "stream",
     "text": [
      "[[('addition', 1), ('body', 1), ('bring', 1), ('call', 1), ('car', 5), ('could', 1), ('day', 1), ('door', 2), ('early', 1), ('engine', 1), ('enlighten', 1), ('funky', 1), ('history', 1), ('host', 1), ('info', 1), ('know', 1), ('late', 1), ('lerxst', 1), ('line', 1), ('look', 2), ('mail', 1), ('make', 1), ('model', 1), ('name', 1), ('neighborhood', 1), ('nntp_poste', 1), ('park', 1), ('production', 1), ('really', 1), ('rest', 1), ('see', 1), ('separate', 1), ('small', 1), ('spec', 1), ('sport', 1), ('thank', 1), ('thing', 1), ('where', 1), ('wonder', 1), ('year', 1)]]"
     ]
    }
   ],
   "source": [
    "id2word[0]\n",
    "print([[(id2word[id], freq) for id, freq in cp] for cp in corpus[:1]], end='')"
   ]
  },
  {
   "cell_type": "markdown",
   "metadata": {},
   "source": [
    "**Building the Topic Model**"
   ]
  },
  {
   "cell_type": "markdown",
   "metadata": {},
   "source": [
    "- We have everything required to train the LDA model\n",
    "- In addition to the corpus and dictionary, we need to provide the `number of topics` as well\n",
    "- Apart from that, `alpha` and `eta` are hyperparameters that affect sparsity of the topics\n",
    "- According to the Gensim docs, both defaults to 1.0/num_topics prior\n",
    "- `chunksize` is the number of documents to be used in each training chunk\n",
    "- `update_every` determines how often the model parameters should be updated\n",
    "- `passes` is the total number of training passes"
   ]
  },
  {
   "cell_type": "code",
   "execution_count": 16,
   "metadata": {},
   "outputs": [],
   "source": [
    "# Build LDA model\n",
    "lda_model = gensim.models.ldamodel.LdaModel(corpus=corpus, id2word=id2word, num_topics=20, random_state=100, update_every=1,\n",
    "                                            chunksize=100, passes=10, alpha='auto',  per_word_topics=True)"
   ]
  },
  {
   "cell_type": "code",
   "execution_count": 17,
   "metadata": {},
   "outputs": [
    {
     "data": {
      "text/plain": [
       "'The above LDA model is built with 20 different topics where each topic is a combination of keywords and each keyword\\ncontributes a certain weightage to the topic'"
      ]
     },
     "execution_count": 17,
     "metadata": {},
     "output_type": "execute_result"
    },
    {
     "name": "stdout",
     "output_type": "stream",
     "text": [
      "[(0,\n",
      "  '0.175*\"file\" + 0.073*\"entry\" + 0.057*\"error\" + 0.053*\"display\" + '\n",
      "  '0.040*\"program\" + 0.030*\"sun\" + 0.025*\"version\" + 0.024*\"cool\" + '\n",
      "  '0.020*\"output\" + 0.020*\"crash\"'),\n",
      " (1,\n",
      "  '0.032*\"would\" + 0.026*\"say\" + 0.022*\"think\" + 0.022*\"people\" + 0.020*\"go\" + '\n",
      "  '0.018*\"know\" + 0.016*\"make\" + 0.016*\"see\" + 0.014*\"come\" + 0.013*\"thing\"'),\n",
      " (2,\n",
      "  '0.091*\"evidence\" + 0.048*\"book\" + 0.041*\"faith\" + 0.037*\"reason\" + '\n",
      "  '0.033*\"exist\" + 0.032*\"claim\" + 0.031*\"religion\" + 0.029*\"believe\" + '\n",
      "  '0.027*\"christian\" + 0.023*\"church\"'),\n",
      " (3,\n",
      "  '0.541*\"ax\" + 0.054*\"car\" + 0.028*\"player\" + 0.014*\"engine\" + 0.009*\"dealer\" '\n",
      "  '+ 0.009*\"mile\" + 0.009*\"expensive\" + 0.009*\"here\" + 0.008*\"extra\" + '\n",
      "  '0.008*\"specify\"'),\n",
      " (4,\n",
      "  '0.087*\"belief\" + 0.084*\"internet\" + 0.079*\"atheist\" + 0.061*\"distribution\" '\n",
      "  '+ 0.053*\"wing\" + 0.041*\"atheism\" + 0.038*\"printer\" + 0.034*\"interface\" + '\n",
      "  '0.026*\"multiple\" + 0.020*\"thinking\"'),\n",
      " (5,\n",
      "  '0.088*\"normal\" + 0.072*\"port\" + 0.071*\"mouse\" + 0.053*\"hole\" + 0.036*\"cap\" '\n",
      "  '+ 0.034*\"expansion\" + 0.033*\"default\" + 0.026*\"compute\" + 0.026*\"noise\" + '\n",
      "  '0.013*\"characteristic\"'),\n",
      " (6,\n",
      "  '0.034*\"include\" + 0.023*\"provide\" + 0.023*\"report\" + 0.021*\"receive\" + '\n",
      "  '0.021*\"follow\" + 0.021*\"name\" + 0.018*\"build\" + 0.017*\"return\" + '\n",
      "  '0.015*\"open\" + 0.014*\"suggest\"'),\n",
      " (7,\n",
      "  '0.123*\"chip\" + 0.074*\"bit\" + 0.072*\"speed\" + 0.060*\"device\" + 0.058*\"tape\" '\n",
      "  '+ 0.052*\"slow\" + 0.040*\"bus\" + 0.038*\"scsi\" + 0.037*\"direct\" + '\n",
      "  '0.036*\"mode\"'),\n",
      " (8,\n",
      "  '0.152*\"team\" + 0.103*\"play\" + 0.059*\"year\" + 0.053*\"season\" + 0.045*\"fan\" + '\n",
      "  '0.036*\"trade\" + 0.026*\"pen\" + 0.023*\"lose\" + 0.021*\"last\" + 0.016*\"next\"'),\n",
      " (9,\n",
      "  '0.021*\"year\" + 0.016*\"also\" + 0.014*\"may\" + 0.014*\"first\" + 0.011*\"work\" + '\n",
      "  '0.010*\"high\" + 0.010*\"talk\" + 0.009*\"make\" + 0.009*\"case\" + 0.009*\"power\"'),\n",
      " (10,\n",
      "  '0.052*\"system\" + 0.050*\"drive\" + 0.041*\"use\" + 0.038*\"run\" + '\n",
      "  '0.034*\"problem\" + 0.028*\"window\" + 0.027*\"card\" + 0.024*\"program\" + '\n",
      "  '0.021*\"driver\" + 0.021*\"software\"'),\n",
      " (11,\n",
      "  '0.085*\"space\" + 0.053*\"science\" + 0.024*\"scientific\" + 0.024*\"review\" + '\n",
      "  '0.023*\"orbit\" + 0.023*\"launch\" + 0.022*\"earth\" + 0.021*\"mission\" + '\n",
      "  '0.020*\"development\" + 0.019*\"vehicle\"'),\n",
      " (12,\n",
      "  '0.140*\"game\" + 0.116*\"gun\" + 0.070*\"win\" + 0.048*\"fire\" + 0.047*\"hit\" + '\n",
      "  '0.036*\"weapon\" + 0.035*\"shoot\" + 0.024*\"cop\" + 0.019*\"run\" + 0.017*\"carry\"'),\n",
      " (13,\n",
      "  '0.124*\"god\" + 0.110*\"patient\" + 0.054*\"license\" + 0.050*\"univ\" + '\n",
      "  '0.048*\"treatment\" + 0.042*\"disease\" + 0.035*\"medical\" + 0.033*\"health\" + '\n",
      "  '0.027*\"ticket\" + 0.020*\"deliver\"'),\n",
      " (14,\n",
      "  '0.040*\"kill\" + 0.030*\"israeli\" + 0.028*\"war\" + 0.027*\"soldier\" + '\n",
      "  '0.024*\"attack\" + 0.024*\"village\" + 0.023*\"child\" + 0.021*\"murder\" + '\n",
      "  '0.016*\"turkish\" + 0.016*\"force\"'),\n",
      " (15,\n",
      "  '0.098*\"goal\" + 0.077*\"moral\" + 0.059*\"animal\" + 0.046*\"link\" + '\n",
      "  '0.034*\"morality\" + 0.029*\"warrant\" + 0.028*\"scale\" + 0.027*\"relationship\" + '\n",
      "  '0.026*\"depth\" + 0.024*\"percentage\"'),\n",
      " (16,\n",
      "  '0.049*\"image\" + 0.046*\"color\" + 0.040*\"code\" + 0.038*\"source\" + 0.038*\"com\" '\n",
      "  '+ 0.031*\"available\" + 0.030*\"server\" + 0.028*\"format\" + 0.026*\"function\" + '\n",
      "  '0.024*\"information\"'),\n",
      " (17,\n",
      "  '0.111*\"motif\" + 0.067*\"session\" + 0.048*\"unknown\" + 0.028*\"moslem\" + '\n",
      "  '0.021*\"ruin\" + 0.020*\"testing\" + 0.019*\"ratio\" + 0.017*\"okay\" + '\n",
      "  '0.005*\"verification\" + 0.005*\"automate\"'),\n",
      " (18,\n",
      "  '0.074*\"line\" + 0.047*\"write\" + 0.030*\"article\" + 0.024*\"host\" + '\n",
      "  '0.022*\"nntp_poste\" + 0.022*\"organization\" + 0.021*\"get\" + 0.019*\"be\" + '\n",
      "  '0.016*\"need\" + 0.014*\"thank\"'),\n",
      " (19,\n",
      "  '0.030*\"key\" + 0.027*\"state\" + 0.021*\"law\" + 0.020*\"government\" + '\n",
      "  '0.018*\"issue\" + 0.017*\"public\" + 0.014*\"right\" + 0.013*\"use\" + '\n",
      "  '0.011*\"system\" + 0.010*\"case\"')]\n"
     ]
    }
   ],
   "source": [
    "# View the topics in LDA model\n",
    "\"\"\"The above LDA model is built with 20 different topics where each topic is a combination of keywords and each keyword\n",
    "contributes a certain weightage to the topic\"\"\"\n",
    "pprint(lda_model.print_topics())\n",
    "doc_lda = lda_model[corpus]"
   ]
  },
  {
   "cell_type": "markdown",
   "metadata": {},
   "source": [
    "**Interpretation of the model output**\n",
    "\n",
    "- Topic 0 is a represented as `0.175*\"file\" + 0.073*\"entry\" + 0.057*\"error\" + 0.053*\"display\" + 0.040*\"program\" + 0.030*\"sun\" + 0.025*\"version\" + 0.024*\"cool\" + 0.020*\"output\" + 0.020*\"crash\"`\n",
    "- It means the top 10 keywords that contribute to this topic are: `'file'`, `'entry'`, `'error'` and so on and the weight of 'file' on topic 0 is 0.175\n",
    "- The weights reflect how important a keyword is to that topic"
   ]
  },
  {
   "cell_type": "markdown",
   "metadata": {},
   "source": [
    "**Compute Model Perplexity and Coherence Score**"
   ]
  },
  {
   "cell_type": "code",
   "execution_count": 18,
   "metadata": {},
   "outputs": [
    {
     "name": "stdout",
     "output_type": "stream",
     "text": [
      "\n",
      "Perplexity:  -12.486503603840534\n",
      "\n",
      "Coherence Score:  0.49288861569721343\n"
     ]
    }
   ],
   "source": [
    "# Model perplexity and topic coherence provide a convenient measure to judge how good a given topic model is\n",
    "\n",
    "# Compute Perplexity\n",
    "print('\\nPerplexity: ', lda_model.log_perplexity(corpus))  # a measure of how good the model is - lower the better\n",
    "\n",
    "# Compute Coherence Score\n",
    "coherence_model_lda = CoherenceModel(model=lda_model, texts=data_lemmatized, dictionary=id2word, coherence='c_v')\n",
    "coherence_lda = coherence_model_lda.get_coherence()\n",
    "print('\\nCoherence Score: ', coherence_lda)"
   ]
  },
  {
   "cell_type": "markdown",
   "metadata": {},
   "source": [
    "**Visualize the topics-keywords**"
   ]
  },
  {
   "cell_type": "code",
   "execution_count": 19,
   "metadata": {},
   "outputs": [
    {
     "data": {
      "text/html": [
       "\n",
       "<link rel=\"stylesheet\" type=\"text/css\" href=\"https://cdn.rawgit.com/bmabey/pyLDAvis/files/ldavis.v1.0.0.css\">\n",
       "\n",
       "\n",
       "<div id=\"ldavis_el1072426801739239125780913011\"></div>\n",
       "<script type=\"text/javascript\">\n",
       "\n",
       "var ldavis_el1072426801739239125780913011_data = {\"mdsDat\": {\"x\": [-0.33562616517032196, -0.3020874956307942, -0.2718687324845947, -0.21391928861874895, 0.01472855563911971, -0.14486633091950646, -0.1296786468865863, -0.061846111327140275, -0.018008744055597777, 0.00023633168404779968, 0.06965711687136156, 0.1191427538112516, 0.10909515461237039, 0.08548108451014112, 0.131144525251182, 0.16073796937390783, 0.17228508804584353, 0.19840198719447508, 0.20033697287859806, 0.21665397522099175], \"y\": [-0.21774237085892184, -0.1450439475025231, -0.004531673808221815, 0.10152598466853473, 0.1216899010958691, 0.26845291205585403, 0.18563130101162809, -0.07652900188940452, -0.09323960776006682, 0.059307049347209685, 0.07444824180204064, 0.02097908553656357, -0.008042999196643546, -0.05521755447703305, -0.010038993295819289, -0.037301970927204046, -0.04278861073753091, -0.04422579863357616, -0.04855685962958652, -0.048775086801169196], \"topics\": [1, 2, 3, 4, 5, 6, 7, 8, 9, 10, 11, 12, 13, 14, 15, 16, 17, 18, 19, 20], \"cluster\": [1, 1, 1, 1, 1, 1, 1, 1, 1, 1, 1, 1, 1, 1, 1, 1, 1, 1, 1, 1], \"Freq\": [28.085712432861328, 18.153528213500977, 15.58651351928711, 8.16291618347168, 5.748532295227051, 5.679915428161621, 5.134482383728027, 2.1298182010650635, 1.9308271408081055, 1.9219037294387817, 1.4238605499267578, 1.1523948907852173, 1.0394034385681152, 0.9719231128692627, 0.8845476508140564, 0.6972904801368713, 0.44975563883781433, 0.3753472864627838, 0.33444473147392273, 0.13688714802265167]}, \"tinfo\": {\"Term\": [\"ax\", \"line\", \"write\", \"year\", \"people\", \"say\", \"file\", \"car\", \"system\", \"article\", \"reason\", \"drive\", \"use\", \"would\", \"think\", \"believe\", \"evidence\", \"host\", \"problem\", \"team\", \"nntp_poste\", \"organization\", \"game\", \"run\", \"bit\", \"go\", \"key\", \"program\", \"get\", \"be\", \"say\", \"think\", \"never\", \"sense\", \"happen\", \"wrong\", \"agree\", \"feel\", \"death\", \"explain\", \"accept\", \"love\", \"die\", \"truth\", \"thing\", \"certainly\", \"human\", \"story\", \"young\", \"conclusion\", \"spend\", \"reality\", \"guy\", \"doubt\", \"nature\", \"obviously\", \"realize\", \"revelation\", \"knowledge\", \"respect\", \"come\", \"even\", \"tell\", \"s\", \"remember\", \"life\", \"bad\", \"see\", \"go\", \"people\", \"mind\", \"let\", \"would\", \"seem\", \"can\", \"world\", \"way\", \"take\", \"know\", \"could\", \"man\", \"make\", \"well\", \"mean\", \"give\", \"many\", \"time\", \"point\", \"believe\", \"good\", \"may\", \"be\", \"reason\", \"write\", \"line\", \"host\", \"nntp_poste\", \"organization\", \"thank\", \"buy\", \"price\", \"sell\", \"net\", \"sale\", \"phone\", \"interested\", \"distribution_usa\", \"advance\", \"light\", \"cheap\", \"disk\", \"pass\", \"wonder\", \"news\", \"stuff\", \"soon\", \"bike\", \"network\", \"summary\", \"nice\", \"office\", \"ride\", \"anyway\", \"eat\", \"reply\", \"mail\", \"article\", \"write\", \"post\", \"help\", \"need\", \"get\", \"look\", \"d\", \"new\", \"be\", \"send\", \"want\", \"good\", \"have\", \"find\", \"question\", \"know\", \"call\", \"try\", \"would\", \"work\", \"use\", \"pay\", \"money\", \"whole\", \"speak\", \"face\", \"purpose\", \"level\", \"increase\", \"effect\", \"usually\", \"head\", \"stand\", \"risk\", \"save\", \"job\", \"publish\", \"university\", \"condition\", \"grant\", \"serious\", \"division\", \"major\", \"forget\", \"shall\", \"necessary\", \"replace\", \"family\", \"advice\", \"ground\", \"reduce\", \"cost\", \"large\", \"result\", \"small\", \"talk\", \"couple\", \"compare\", \"less\", \"cover\", \"low\", \"study\", \"difference\", \"power\", \"year\", \"high\", \"lead\", \"first\", \"close\", \"often\", \"base\", \"also\", \"cause\", \"area\", \"case\", \"work\", \"may\", \"end\", \"other\", \"number\", \"part\", \"make\", \"time\", \"much\", \"well\", \"key\", \"law\", \"public\", \"encryption\", \"protect\", \"security\", \"private\", \"block\", \"secure\", \"legal\", \"willing\", \"operate\", \"tap\", \"trial\", \"clipper\", \"criminal\", \"agency\", \"prevent\", \"master\", \"secret\", \"firearm\", \"room\", \"national\", \"false\", \"teach\", \"court\", \"processor\", \"worry\", \"house\", \"industry\", \"state\", \"crime\", \"citizen\", \"drug\", \"issue\", \"government\", \"religious\", \"individual\", \"rate\", \"right\", \"case\", \"allow\", \"use\", \"information\", \"person\", \"system\", \"group\", \"standard\", \"technology\", \"message\", \"country\", \"provide\", \"ax\", \"car\", \"player\", \"engine\", \"dealer\", \"mile\", \"expensive\", \"here\", \"extra\", \"specify\", \"clean\", \"insurance\", \"gift\", \"door\", \"saturn\", \"dual\", \"oil\", \"fuel\", \"production\", \"export\", \"floor\", \"gas\", \"auto\", \"coverage\", \"own\", \"combine\", \"heat\", \"finger\", \"huge\", \"reflect\", \"drive\", \"window\", \"card\", \"driver\", \"software\", \"machine\", \"test\", \"memory\", \"application\", \"appreciate\", \"screen\", \"instal\", \"graphic\", \"package\", \"score\", \"monitor\", \"hardware\", \"pc\", \"performance\", \"feature\", \"board\", \"apple\", \"library\", \"manager\", \"convert\", \"load\", \"though\", \"laboratory\", \"resolution\", \"running\", \"run\", \"system\", \"user\", \"computer\", \"problem\", \"program\", \"set\", \"use\", \"support\", \"datum\", \"fast\", \"work\", \"also\", \"receive\", \"suggest\", \"section\", \"wire\", \"input\", \"video\", \"main\", \"community\", \"notice\", \"special\", \"meet\", \"avoid\", \"internal\", \"ignore\", \"cpu\", \"proper\", \"addition\", \"future\", \"weight\", \"external\", \"count\", \"hot\", \"significant\", \"cable\", \"official\", \"particularly\", \"communication\", \"hide\", \"blank\", \"cycle\", \"report\", \"return\", \"include\", \"open\", \"provide\", \"build\", \"name\", \"follow\", \"date\", \"press\", \"member\", \"address\", \"several\", \"must\", \"number\", \"create\", \"evidence\", \"book\", \"faith\", \"religion\", \"christian\", \"church\", \"character\", \"logic\", \"clearly\", \"christianity\", \"context\", \"reject\", \"scripture\", \"excuse\", \"thread\", \"german\", \"biblical\", \"enjoy\", \"writing\", \"left\", \"corner\", \"careful\", \"trivial\", \"elsewhere\", \"classic\", \"leadership\", \"applicable\", \"superior\", \"gentile\", \"largely\", \"language\", \"bother\", \"exist\", \"argument\", \"claim\", \"deny\", \"reason\", \"prove\", \"believe\", \"indeed\", \"word\", \"question\", \"quote\", \"true\", \"jewish\", \"follow\", \"answer\", \"israeli\", \"war\", \"soldier\", \"village\", \"turkish\", \"bomb\", \"greek\", \"withdraw\", \"occupy\", \"armenian\", \"turk\", \"civilian\", \"town\", \"northern\", \"rocket\", \"girl\", \"inhabitant\", \"russian\", \"invasion\", \"arab\", \"troop\", \"escape\", \"genocide\", \"muslim\", \"disarm\", \"stone\", \"slaughter\", \"massacre\", \"tear\", \"rape\", \"murder\", \"peace\", \"kill\", \"terrorism\", \"attack\", \"military\", \"land\", \"child\", \"jewish\", \"force\", \"woman\", \"people\", \"government\", \"man\", \"image\", \"color\", \"com\", \"server\", \"format\", \"object\", \"update\", \"faq\", \"trust\", \"font\", \"compile\", \"map\", \"utility\", \"pointer\", \"mercy\", \"duo\", \"scare\", \"label\", \"generic\", \"postscript\", \"leather\", \"stroke\", \"retrieve\", \"fuzzy\", \"stuck\", \"roman\", \"fate\", \"compiler\", \"winter\", \"observer\", \"code\", \"function\", \"vendor\", \"author\", \"contain\", \"source\", \"text\", \"available\", \"expire\", \"information\", \"send\", \"list\", \"draw\", \"info\", \"include\", \"email\", \"program\", \"mail\", \"space\", \"science\", \"scientific\", \"review\", \"orbit\", \"launch\", \"mission\", \"development\", \"vehicle\", \"boy\", \"digital\", \"air\", \"satellite\", \"plane\", \"moon\", \"flight\", \"requirement\", \"facility\", \"schedule\", \"shuttle\", \"factory\", \"conference\", \"confirm\", \"role\", \"experiment\", \"lunar\", \"publication\", \"radiation\", \"sky\", \"investigation\", \"earth\", \"project\", \"research\", \"technical\", \"field\", \"program\", \"file\", \"entry\", \"error\", \"display\", \"sun\", \"cool\", \"output\", \"crash\", \"water\", \"solid\", \"nuclear\", \"configuration\", \"icon\", \"cylinder\", \"implementation\", \"stream\", \"electrical\", \"terminal\", \"entity\", \"dump\", \"thermal\", \"edit\", \"creator\", \"download\", \"parameter\", \"angel\", \"allocate\", \"openwindow\", \"grip\", \"reactor\", \"version\", \"size\", \"program\", \"game\", \"gun\", \"hit\", \"weapon\", \"cop\", \"pitch\", \"yesterday\", \"trip\", \"knock\", \"revolver\", \"trigger\", \"glass\", \"weeks_ago\", \"colt\", \"annoy\", \"turning\", \"prescription\", \"tank\", \"ok\", \"cock\", \"shoot\", \"fire\", \"along\", \"pistol\", \"confrontation\", \"tie\", \"win\", \"defense\", \"arm\", \"victory\", \"steal\", \"carry\", \"pull\", \"watch\", \"home\", \"run\", \"police\", \"spot\", \"throw\", \"kill\", \"team\", \"season\", \"fan\", \"trade\", \"pen\", \"finish\", \"decent\", \"devil\", \"cross\", \"blue\", \"penalty\", \"penguin\", \"leafs\", \"captain\", \"suitable\", \"volt\", \"cage\", \"flyer\", \"mid\", \"leak\", \"retire\", \"oiler\", \"thumb\", \"play\", \"lemieux\", \"sabre\", \"voting\", \"scorer\", \"philly\", \"tighten\", \"year\", \"final\", \"lose\", \"period\", \"last\", \"pick\", \"next\", \"opportunity\", \"second\", \"top\", \"first\", \"chip\", \"speed\", \"device\", \"tape\", \"slow\", \"bus\", \"scsi\", \"direct\", \"ide\", \"meaning\", \"daughter\", \"backup\", \"spacecraft\", \"restore\", \"meter\", \"installation\", \"maximum\", \"quadra\", \"tip\", \"dry\", \"sgi\", \"sister\", \"synchronous\", \"consent\", \"acceptance\", \"stall\", \"esdi\", \"mode\", \"bit\", \"fasst\", \"fast\", \"wide\", \"vendor\", \"version\", \"belief\", \"internet\", \"atheist\", \"distribution\", \"wing\", \"atheism\", \"printer\", \"interface\", \"multiple\", \"thinking\", \"routine\", \"widget\", \"greatly_appreciate\", \"guilty\", \"modem\", \"extension\", \"fish\", \"hi\", \"phase\", \"exposure\", \"quit\", \"partially\", \"ease\", \"redesign\", \"boundary\", \"dialog\", \"inappropriate\", \"module\", \"integration\", \"cubic\", \"core\", \"god\", \"patient\", \"license\", \"univ\", \"treatment\", \"disease\", \"medical\", \"health\", \"ticket\", \"deliver\", \"preach\", \"medicine\", \"physician\", \"traditional\", \"conviction\", \"glad\", \"subjective\", \"creature\", \"emphasis\", \"glory\", \"strictly\", \"publicly\", \"adequately\", \"accidentally\", \"treat\", \"tumor\", \"brain\", \"eeg\", \"dn\", \"diagnosis\", \"goal\", \"moral\", \"animal\", \"link\", \"morality\", \"warrant\", \"scale\", \"relationship\", \"depth\", \"percentage\", \"imho\", \"translate\", \"arbitrary\", \"scene\", \"thick\", \"worthwhile\", \"swear\", \"incidentally\", \"cart\", \"jubilees_re\", \"nec_zx\", \"wild_corn\", \"thesis\", \"rude\", \"pack\", \"specie\", \"omniscient\", \"immoral\", \"premise\", \"schneider\", \"self\", \"slave\", \"normal\", \"port\", \"mouse\", \"hole\", \"cap\", \"expansion\", \"default\", \"compute\", \"noise\", \"characteristic\", \"compress\", \"adjust\", \"disable\", \"licensing\", \"curve\", \"worse\", \"complexity\", \"incline\", \"vitamin\", \"everytime\", \"escalate\", \"switch\", \"ok\", \"slave\", \"irq\", \"keyboard\", \"marker\", \"loading\", \"edge\", \"connector\", \"ripem\", \"pin\", \"choose\", \"motif\", \"session\", \"unknown\", \"moslem\", \"ruin\", \"testing\", \"ratio\", \"okay\", \"verification\", \"automate\", \"birthday\", \"elderly\", \"sharing\", \"defenseless\", \"accelerator\", \"commercial\", \"telnet\", \"slip\", \"localtalk\", \"mac\", \"translation\", \"modifier\", \"os\", \"kjg\", \"willow\", \"xpm\", \"ff\", \"prophet\", \"route\", \"redistribute\", \"judgement\", \"tomorrow\", \"announcement\", \"baby\"], \"Freq\": [36366.0, 15682.0, 13139.0, 4567.0, 7716.0, 8663.0, 2358.0, 3608.0, 4536.0, 7665.0, 3205.0, 3297.0, 5852.0, 12699.0, 7239.0, 3143.0, 2274.0, 5023.0, 3794.0, 1727.0, 4742.0, 4666.0, 1701.0, 2777.0, 1773.0, 7157.0, 2814.0, 2541.0, 6401.0, 7371.0, 8662.59375, 7238.767578125, 2397.544921875, 1772.70654296875, 1770.0130615234375, 1443.905029296875, 1335.6151123046875, 1201.376708984375, 1155.637939453125, 1049.068359375, 1036.7734375, 1026.41015625, 1002.529296875, 842.646728515625, 4367.54638671875, 782.2474365234375, 760.170166015625, 708.7294921875, 695.9082641601562, 693.3310546875, 667.6865234375, 608.0833740234375, 665.1631469726562, 517.1713256835938, 502.055419921875, 500.9525146484375, 493.6167297363281, 491.4938659667969, 489.9200439453125, 459.2910461425781, 4472.97607421875, 3887.239013671875, 3137.28955078125, 3218.13671875, 1201.142333984375, 1455.5194091796875, 1995.491943359375, 5300.6865234375, 6724.91796875, 7089.3251953125, 902.88134765625, 1905.8564453125, 10465.9482421875, 2699.6162109375, 3134.150146484375, 1412.257568359375, 3372.7060546875, 3632.087646484375, 5806.96240234375, 3752.5771484375, 1855.3455810546875, 5339.673828125, 3755.861083984375, 2245.758056640625, 3075.0302734375, 2985.131591796875, 4040.3779296875, 2714.91064453125, 2429.332275390625, 3351.9619140625, 3405.73828125, 3354.9423828125, 2279.3134765625, 3087.1767578125, 15681.1279296875, 5022.3935546875, 4741.27685546875, 4664.98681640625, 2963.154052734375, 1614.8582763671875, 1352.7239990234375, 1260.6754150390625, 1065.97509765625, 1028.149169921875, 1001.1577758789062, 982.716552734375, 977.1784057617188, 848.1053466796875, 825.8469848632812, 793.3682861328125, 788.9129028320312, 786.8486938476562, 769.6600952148438, 765.402587890625, 739.5554809570312, 705.5625, 688.6831665039062, 636.98974609375, 615.0869750976562, 613.8216552734375, 524.01806640625, 517.2569580078125, 492.17230224609375, 488.3031005859375, 2370.117919921875, 1992.3399658203125, 6271.095703125, 10051.125, 2132.63037109375, 2283.972900390625, 3477.2978515625, 4456.87890625, 2827.471923828125, 1953.81103515625, 2294.548828125, 4015.744384765625, 1536.4173583984375, 2445.24951171875, 2514.671142578125, 1567.419189453125, 1847.6328125, 1578.9522705078125, 2242.60595703125, 1508.7364501953125, 1550.499267578125, 2103.572509765625, 1466.252197265625, 1400.0772705078125, 1293.7545166015625, 1251.9276123046875, 1094.979736328125, 1013.7621459960938, 983.4916381835938, 896.2437744140625, 885.3115234375, 882.9943237304688, 826.7693481445312, 795.4041137695312, 751.981201171875, 672.8508911132812, 663.3656005859375, 655.3743896484375, 653.1746215820312, 629.9595336914062, 626.8165893554688, 600.4461059570312, 599.5805053710938, 589.5638427734375, 587.259765625, 574.8436279296875, 574.8037109375, 574.0698852539062, 573.1397705078125, 572.8935546875, 540.8565063476562, 526.392333984375, 508.9530334472656, 504.9145812988281, 1224.2470703125, 1441.7884521484375, 1099.79296875, 1224.4713134765625, 1747.8760986328125, 880.7902221679688, 802.78857421875, 1513.990234375, 790.0789184570312, 1118.25, 797.860107421875, 906.4734497070312, 1559.738525390625, 3765.132080078125, 1845.5589599609375, 1099.157958984375, 2511.4921875, 1061.767578125, 1010.1848754882812, 1277.7657470703125, 2951.26318359375, 1104.9844970703125, 996.904052734375, 1666.657958984375, 2014.0911865234375, 2582.411376953125, 1324.431640625, 1037.1893310546875, 1277.714599609375, 1180.1673583984375, 1670.86474609375, 1114.478515625, 1059.9317626953125, 1058.915283203125, 2813.793212890625, 1961.874267578125, 1620.259521484375, 814.9759521484375, 735.7828979492188, 712.1768798828125, 664.4818115234375, 574.5624389648438, 486.8955993652344, 457.7906799316406, 447.9699401855469, 444.41522216796875, 441.3901062011719, 436.6515197753906, 417.05426025390625, 398.6880798339844, 388.8678894042969, 379.6574401855469, 378.8946838378906, 377.4463806152344, 370.1628723144531, 363.2598876953125, 363.0306091308594, 359.8570861816406, 354.9707946777344, 350.44647216796875, 346.5954284667969, 339.06622314453125, 337.70098876953125, 330.0356750488281, 2567.6240234375, 595.8596801757812, 530.6043090820312, 688.7176513671875, 1750.77001953125, 1861.465087890625, 637.8829956054688, 548.2139282226562, 698.6058959960938, 1310.5880126953125, 943.5237426757812, 694.3235473632812, 1232.6561279296875, 764.7015991210938, 700.9248657226562, 1027.60498046875, 805.46630859375, 556.662109375, 583.3679809570312, 600.4057006835938, 512.6880493164062, 550.7671508789062, 36365.6484375, 3607.64501953125, 1882.1446533203125, 949.4495849609375, 630.3640747070312, 589.1718139648438, 579.432861328125, 576.0676879882812, 569.120361328125, 552.01123046875, 520.7183837890625, 519.4779663085938, 512.823486328125, 474.84210205078125, 449.9349670410156, 434.0851135253906, 382.6233215332031, 376.9030456542969, 352.1375732421875, 350.81304931640625, 327.4028015136719, 321.9281921386719, 317.9948425292969, 292.6739807128906, 273.50872802734375, 273.3660583496094, 264.5823669433594, 264.05902099609375, 261.69903564453125, 253.35348510742188, 3296.783935546875, 1884.6234130859375, 1793.56396484375, 1417.32568359375, 1380.3099365234375, 1239.092041015625, 1032.7537841796875, 964.7362670898438, 863.72900390625, 781.34375, 776.693603515625, 732.3432006835938, 703.42041015625, 670.8862915039062, 639.82177734375, 639.4278564453125, 600.1914672851562, 530.1488647460938, 499.4565124511719, 443.68988037109375, 394.35552978515625, 371.08056640625, 358.1017761230469, 355.5874328613281, 338.9595947265625, 302.1698913574219, 293.07440185546875, 292.6212463378906, 266.00286865234375, 257.5216369628906, 2534.732177734375, 3440.39404296875, 793.3480224609375, 1203.842529296875, 2267.01123046875, 1595.0416259765625, 1216.8289794921875, 2725.03466796875, 980.1421508789062, 646.128173828125, 576.2970581054688, 937.688232421875, 712.4829711914062, 1262.404052734375, 862.3707275390625, 744.4463500976562, 719.90576171875, 660.0857543945312, 629.8553466796875, 540.4279174804688, 528.3078002929688, 512.466796875, 512.4508056640625, 460.34698486328125, 454.6744689941406, 443.2626037597656, 440.36114501953125, 416.4869689941406, 412.9764404296875, 409.59283447265625, 383.3833312988281, 382.8430480957031, 382.0135803222656, 370.8467102050781, 369.27880859375, 367.41815185546875, 358.8977966308594, 358.7427978515625, 355.285888671875, 355.0396423339844, 335.9114685058594, 311.2882995605469, 305.60247802734375, 1355.728515625, 1045.945068359375, 2049.29052734375, 918.651611328125, 1404.0682373046875, 1082.4124755859375, 1232.4588623046875, 1248.4993896484375, 462.6891784667969, 457.6155700683594, 566.8475341796875, 712.06982421875, 580.2611694335938, 737.2130126953125, 778.6279296875, 542.1167602539062, 2272.9951171875, 1200.02099609375, 1026.8236083984375, 781.4650268554688, 661.5557250976562, 571.7932739257812, 445.9290466308594, 377.2676696777344, 348.9729309082031, 308.8992919921875, 246.5058135986328, 242.45501708984375, 239.66461181640625, 226.05767822265625, 210.599365234375, 152.4016571044922, 141.68817138671875, 129.720458984375, 128.72706604003906, 126.10427856445312, 113.92011260986328, 103.90255737304688, 97.77323913574219, 88.99188995361328, 86.87544250488281, 72.95211029052734, 64.57803344726562, 61.592411041259766, 59.493743896484375, 55.22934341430664, 193.62586975097656, 187.32083129882812, 828.3119506835938, 498.9091796875, 807.2218627929688, 289.1611633300781, 924.9390258789062, 387.44061279296875, 712.7713623046875, 252.99220275878906, 386.4075927734375, 472.5876159667969, 207.18055725097656, 332.0181884765625, 211.0243377685547, 273.66552734375, 225.30694580078125, 670.5494384765625, 637.1607666015625, 598.0756225585938, 531.30615234375, 372.1139831542969, 350.4425354003906, 340.95184326171875, 333.5496520996094, 330.5877685546875, 299.1181945800781, 298.79071044921875, 261.1698303222656, 250.02037048339844, 224.33609008789062, 210.53114318847656, 206.486572265625, 184.8214111328125, 174.97048950195312, 169.57186889648438, 167.76812744140625, 159.5400848388672, 157.59085083007812, 127.60511779785156, 125.49047088623047, 119.36029052734375, 105.97835540771484, 97.18232727050781, 94.40155029296875, 93.34231567382812, 92.96237182617188, 482.5929260253906, 275.73370361328125, 897.6507568359375, 208.43748474121094, 538.7506103515625, 328.76214599609375, 286.4083251953125, 515.1318969726562, 261.0500183105469, 358.60675048828125, 225.37356567382812, 343.37738037109375, 248.1432647705078, 247.15797424316406, 1101.586669921875, 1039.3773193359375, 843.294189453125, 684.398193359375, 632.19677734375, 525.7495727539062, 413.8293762207031, 410.9010925292969, 394.9502258300781, 317.9354553222656, 277.28277587890625, 219.8358917236328, 196.4325408935547, 180.38426208496094, 179.87596130371094, 135.13882446289062, 119.50652313232422, 115.138427734375, 90.24285888671875, 84.7359848022461, 78.79279327392578, 77.92195892333984, 69.90360260009766, 66.920654296875, 64.85092163085938, 59.668270111083984, 56.77265930175781, 54.14889144897461, 50.992496490478516, 48.714298248291016, 887.363037109375, 587.3302612304688, 120.9285659790039, 368.6618347167969, 488.3578186035156, 847.7972412109375, 312.7463073730469, 701.2891845703125, 104.42063903808594, 545.5951538085938, 514.714599609375, 380.7182312011719, 244.94683837890625, 246.73440551757812, 283.1339416503906, 217.4843292236328, 256.3678894042969, 218.65185546875, 1411.330322265625, 883.126953125, 404.1444396972656, 391.2134704589844, 379.9161071777344, 375.5765075683594, 353.77423095703125, 339.0961608886719, 311.46954345703125, 302.34686279296875, 301.8190002441406, 300.92724609375, 277.6456298828125, 276.7002868652344, 245.11509704589844, 237.09896850585938, 227.88589477539062, 219.9291534423828, 206.97415161132812, 185.22702026367188, 169.9691619873047, 161.4422607421875, 158.9833984375, 158.65101623535156, 146.1651153564453, 140.85687255859375, 137.7774200439453, 134.59608459472656, 125.28233337402344, 123.42323303222656, 367.071533203125, 215.7355194091797, 278.0590515136719, 178.5089874267578, 162.8731689453125, 148.4255828857422, 2356.86181640625, 986.6226196289062, 767.952392578125, 707.0350341796875, 409.8331604003906, 329.5099792480469, 271.581787109375, 266.7703552246094, 233.0084228515625, 202.71905517578125, 189.09097290039062, 184.02073669433594, 177.26609802246094, 175.4132537841797, 169.70582580566406, 166.26051330566406, 152.72573852539062, 144.3633270263672, 127.81934356689453, 125.12159729003906, 119.23999786376953, 107.08062744140625, 106.97980499267578, 93.33721160888672, 86.35255432128906, 85.02239227294922, 66.04898834228516, 54.8199577331543, 46.4099235534668, 43.565513610839844, 339.53045654296875, 247.3098907470703, 540.54248046875, 1700.385009765625, 1408.7103271484375, 566.54296875, 433.2602233886719, 294.1507873535156, 198.09426879882812, 189.31092834472656, 139.61660766601562, 90.26556396484375, 86.86740112304688, 85.35841369628906, 50.87648010253906, 47.0601921081543, 41.143157958984375, 36.186588287353516, 28.322362899780273, 26.51336097717285, 179.63099670410156, 138.69041442871094, 10.487204551696777, 420.2557067871094, 579.4080810546875, 9.040411949157715, 7.344732284545898, 6.883382797241211, 140.1642608642578, 853.2463989257812, 171.6362762451172, 160.89317321777344, 17.48274803161621, 138.19200134277344, 200.47706604003906, 107.24735260009766, 117.68050384521484, 147.74256896972656, 234.98941040039062, 93.21588897705078, 50.388240814208984, 59.0999755859375, 68.97266387939453, 1726.1610107421875, 596.813720703125, 509.0079345703125, 406.1292419433594, 298.36468505859375, 176.03733825683594, 174.2279815673828, 165.5055694580078, 163.4322967529297, 157.65806579589844, 136.07351684570312, 135.87149047851562, 98.14576721191406, 94.14608001708984, 90.26713562011719, 84.25757598876953, 78.75601196289062, 77.15880584716797, 61.15077209472656, 50.83221435546875, 50.37905502319336, 41.012168884277344, 39.016353607177734, 1172.2113037109375, 34.126800537109375, 33.05783462524414, 29.604366302490234, 28.299619674682617, 23.140350341796875, 21.975614547729492, 672.677001953125, 133.8511962890625, 256.8689270019531, 118.97650146484375, 237.85556030273438, 129.31317138671875, 184.06271362304688, 61.022216796875, 81.07493591308594, 64.0578384399414, 70.20538330078125, 1269.0418701171875, 743.0734252929688, 623.2203979492188, 602.4721069335938, 536.73974609375, 418.42138671875, 390.36029052734375, 382.4218444824219, 264.68084716796875, 184.83554077148438, 157.44825744628906, 117.69827270507812, 101.88766479492188, 86.84795379638672, 86.12582397460938, 84.82979583740234, 68.61955261230469, 66.0051498413086, 64.43959045410156, 63.48066711425781, 61.871028900146484, 48.91989517211914, 30.32622528076172, 27.98174285888672, 15.21786880493164, 12.513324737548828, 7.322497844696045, 375.24102783203125, 762.7498779296875, 0.6848085522651672, 260.8735046386719, 78.17903900146484, 22.190425872802734, 23.478471755981445, 712.1571655273438, 680.6561279296875, 643.3983764648438, 499.9678955078125, 430.287841796875, 332.124267578125, 307.3375549316406, 276.5714111328125, 213.2279815673828, 162.05715942382812, 148.42527770996094, 147.25656127929688, 142.63543701171875, 136.5409393310547, 134.411376953125, 105.65374755859375, 102.80219268798828, 98.56912994384766, 93.21544647216797, 82.15296936035156, 81.17294311523438, 47.07804489135742, 39.45568084716797, 35.267677307128906, 33.14269256591797, 30.58715057373047, 26.996097564697266, 21.90477180480957, 18.794254302978516, 17.51949119567871, 44.95737075805664, 649.5093383789062, 579.559326171875, 284.8031921386719, 263.09783935546875, 250.9105224609375, 220.9804229736328, 182.48219299316406, 171.12411499023438, 139.5980987548828, 106.34414672851562, 89.95973205566406, 80.10263061523438, 77.52672576904297, 77.02125549316406, 72.89530181884766, 53.7946662902832, 45.6417236328125, 42.50916290283203, 38.30082702636719, 32.37702941894531, 29.270641326904297, 25.742931365966797, 24.05081558227539, 17.87272834777832, 50.36199188232422, 0.04143423214554787, 0.04143306240439415, 0.0414310023188591, 0.04143097251653671, 0.04142637923359871, 429.86602783203125, 336.54046630859375, 259.6803894042969, 202.8033447265625, 147.60064697265625, 125.20780181884766, 122.15916442871094, 116.28778076171875, 112.25027465820312, 107.23577117919922, 91.49775695800781, 62.17698669433594, 52.36778259277344, 35.763031005859375, 32.645118713378906, 32.33491897583008, 30.325481414794922, 23.29170799255371, 13.655150413513184, 13.456612586975098, 13.453582763671875, 13.108152389526367, 10.610331535339355, 10.049549102783203, 13.923992156982422, 0.04966271296143532, 0.04965955391526222, 0.04965919256210327, 0.049659013748168945, 0.04965834319591522, 0.04965902119874954, 0.04965924099087715, 342.02886962890625, 280.9117431640625, 278.3207702636719, 207.0069122314453, 140.38552856445312, 132.136474609375, 127.24170684814453, 102.3725814819336, 101.89920043945312, 52.39155578613281, 49.2191047668457, 29.486492156982422, 27.03595542907715, 25.997678756713867, 25.55646324157715, 24.765262603759766, 21.4715633392334, 20.316959381103516, 13.795445442199707, 10.582430839538574, 7.549117565155029, 50.53776931762695, 7.827267646789551, 0.045935314148664474, 0.04592981934547424, 0.04593030735850334, 0.045928556472063065, 0.045927174389362335, 0.04592885449528694, 0.04592739790678024, 0.04592955857515335, 0.04592909291386604, 0.04592905938625336, 177.35557556152344, 107.01887512207031, 76.43441009521484, 45.021121978759766, 33.483943939208984, 32.31288146972656, 31.012449264526367, 26.395910263061523, 8.659841537475586, 7.833326816558838, 6.066244602203369, 5.3472208976745605, 5.197997093200684, 1.4258917570114136, 0.026012156158685684, 0.0260124821215868, 0.026010267436504364, 0.026009056717157364, 0.02600894123315811, 0.026008950546383858, 0.026009080931544304, 0.02600809745490551, 0.02600828930735588, 0.026008112356066704, 0.026008112356066704, 0.026008112356066704, 0.026007894426584244, 0.02600822225213051, 0.02600901760160923, 0.026007791981101036, 0.026008086279034615, 0.026008160784840584, 0.026008274406194687, 0.026008129119873047], \"Total\": [36366.0, 15682.0, 13139.0, 4567.0, 7716.0, 8663.0, 2358.0, 3608.0, 4536.0, 7665.0, 3205.0, 3297.0, 5852.0, 12699.0, 7239.0, 3143.0, 2274.0, 5023.0, 3794.0, 1727.0, 4742.0, 4666.0, 1701.0, 2777.0, 1773.0, 7157.0, 2814.0, 2541.0, 6401.0, 7371.0, 8663.775390625, 7239.95068359375, 2398.72705078125, 1773.8887939453125, 1771.1953125, 1445.0872802734375, 1336.79736328125, 1202.5589599609375, 1156.8201904296875, 1050.2506103515625, 1037.9556884765625, 1027.5924072265625, 1003.711669921875, 843.8291015625, 4373.9677734375, 783.4298095703125, 761.3525390625, 709.911865234375, 697.0906372070312, 694.513427734375, 668.868896484375, 609.2657470703125, 666.5193481445312, 518.3536987304688, 503.2377014160156, 502.1347961425781, 494.79901123046875, 492.6761474609375, 491.1023254394531, 460.47332763671875, 4535.2578125, 3937.04248046875, 3185.56689453125, 3333.33447265625, 1220.13427734375, 1486.8536376953125, 2052.6455078125, 5584.87939453125, 7157.98291015625, 7716.642578125, 914.5562744140625, 2029.2669677734375, 12699.5234375, 2964.840576171875, 3517.065185546875, 1492.6556396484375, 4034.690673828125, 4510.7431640625, 8050.68359375, 4926.609375, 2103.622802734375, 7811.3349609375, 5061.25390625, 2664.21630859375, 4012.007080078125, 3930.379638671875, 6087.89013671875, 3633.5, 3143.234130859375, 5927.45458984375, 7289.267578125, 7371.8017578125, 3205.3828125, 13139.4150390625, 15682.30859375, 5023.57666015625, 4742.4599609375, 4666.169921875, 2964.336181640625, 1616.0404052734375, 1353.9061279296875, 1261.8575439453125, 1067.1572265625, 1029.331298828125, 1002.3400268554688, 983.8988037109375, 978.3606567382812, 849.28759765625, 827.0292358398438, 794.550537109375, 790.0951538085938, 788.0309448242188, 770.8423461914062, 766.5848388671875, 740.7377319335938, 706.7447509765625, 689.8654174804688, 638.1719970703125, 616.2692260742188, 615.00390625, 525.2003173828125, 518.439208984375, 493.3544921875, 489.48529052734375, 2451.488525390625, 2212.097412109375, 7665.40625, 13139.4150390625, 2421.40478515625, 2647.118896484375, 4233.0205078125, 6401.208984375, 3855.234619140625, 2497.098876953125, 3112.321533203125, 7371.8017578125, 2052.237548828125, 4399.1162109375, 5927.45458984375, 2740.603515625, 3805.311279296875, 2951.5673828125, 8050.68359375, 3002.605224609375, 3967.79296875, 12699.5234375, 4419.0966796875, 5852.748046875, 1294.9334716796875, 1253.1065673828125, 1096.15869140625, 1014.941162109375, 984.670654296875, 897.4227905273438, 886.4905395507812, 884.17333984375, 827.9483642578125, 796.5831298828125, 753.1602172851562, 674.0299072265625, 664.5446166992188, 656.5534057617188, 654.3536376953125, 631.1385498046875, 627.99560546875, 601.6251220703125, 600.759521484375, 590.7428588867188, 588.4387817382812, 576.0226440429688, 575.9827270507812, 575.2489013671875, 574.3187866210938, 574.0725708007812, 542.0355224609375, 527.5713500976562, 510.1320495605469, 506.0935974121094, 1232.6993408203125, 1466.2347412109375, 1112.8587646484375, 1243.2840576171875, 1793.4481201171875, 892.3750610351562, 811.8978881835938, 1573.2703857421875, 799.8338012695312, 1150.124755859375, 810.00341796875, 931.2407836914062, 1693.3997802734375, 4567.396484375, 2095.513427734375, 1202.661376953125, 3440.72998046875, 1190.4571533203125, 1122.7098388671875, 1624.3138427734375, 5787.2333984375, 1400.960693359375, 1177.599609375, 3019.446044921875, 4419.0966796875, 7289.267578125, 2101.365234375, 1282.2698974609375, 2890.220458984375, 2253.12890625, 7811.3349609375, 6087.89013671875, 3589.921630859375, 5061.25390625, 2814.97265625, 1963.0535888671875, 1621.4388427734375, 816.1553344726562, 736.9622802734375, 713.3562622070312, 665.6611938476562, 575.7418212890625, 488.074951171875, 458.97003173828125, 449.1492919921875, 445.5945739746094, 442.5694580078125, 437.83087158203125, 418.2336120605469, 399.867431640625, 390.0472412109375, 380.8367919921875, 380.07403564453125, 378.625732421875, 371.34222412109375, 364.4392395019531, 364.2099609375, 361.03643798828125, 356.150146484375, 351.6258239746094, 347.7747802734375, 340.2455749511719, 338.8803405761719, 331.21502685546875, 2578.71875, 613.5051879882812, 545.3495483398438, 721.9962768554688, 1959.09619140625, 2110.724609375, 679.4087524414062, 610.0443115234375, 974.0054931640625, 3565.703369140625, 3019.446044921875, 1536.66650390625, 5852.748046875, 2080.511962890625, 1679.9591064453125, 4536.236328125, 2477.551513671875, 957.0164184570312, 1165.423095703125, 1754.676025390625, 892.0588989257812, 1955.9437255859375, 36366.7890625, 3608.778564453125, 1883.2781982421875, 950.5831298828125, 631.4976196289062, 590.3053588867188, 580.56640625, 577.2012329101562, 570.25390625, 553.144775390625, 521.8519287109375, 520.6115112304688, 513.95703125, 475.97564697265625, 451.0685119628906, 435.2186584472656, 383.7568664550781, 378.0365905761719, 353.2711181640625, 351.94659423828125, 328.5363464355469, 323.0617370605469, 319.1283874511719, 293.8075256347656, 274.64227294921875, 274.4996032714844, 265.7159118652344, 265.19256591796875, 262.83258056640625, 254.48699951171875, 3297.963623046875, 1885.80322265625, 1794.7437744140625, 1418.5054931640625, 1381.4903564453125, 1240.2718505859375, 1033.93359375, 965.9161987304688, 864.908935546875, 782.523681640625, 777.87353515625, 733.5231323242188, 704.600341796875, 672.0662231445312, 641.001708984375, 640.6077880859375, 601.3713989257812, 531.3287963867188, 500.6363830566406, 444.8697509765625, 395.54736328125, 372.26043701171875, 359.2816467285156, 356.7673034667969, 340.13946533203125, 303.3497619628906, 294.2542724609375, 293.8011169433594, 267.1827392578125, 258.7015075683594, 2777.785888671875, 4536.236328125, 920.6292114257812, 1583.28173828125, 3794.599365234375, 2541.35107421875, 1919.955810546875, 5852.748046875, 1775.52490234375, 924.2720947265625, 974.3287353515625, 4419.0966796875, 5787.2333984375, 1263.582763671875, 863.549560546875, 745.6251831054688, 721.0845947265625, 661.2645874023438, 631.0341796875, 541.6067504882812, 529.4866333007812, 513.6456298828125, 513.629638671875, 461.5257568359375, 455.8532409667969, 444.4413757324219, 441.5399169921875, 417.6657409667969, 414.15521240234375, 410.7716064453125, 384.5621032714844, 384.0218200683594, 383.1923522949219, 372.0254821777344, 370.45758056640625, 368.596923828125, 360.0765686035156, 359.92156982421875, 356.46466064453125, 356.2184143066406, 337.0902404785156, 312.4670715332031, 306.78125, 1400.216796875, 1080.253173828125, 2368.609375, 1042.568359375, 1955.9437255859375, 1456.650146484375, 1736.7506103515625, 2209.097412109375, 526.6210327148438, 533.8721923828125, 822.2672119140625, 1343.1729736328125, 1081.1787109375, 2315.884033203125, 2890.220458984375, 1045.0938720703125, 2274.193603515625, 1201.21923828125, 1028.0218505859375, 782.6633911132812, 662.7540893554688, 572.9916381835938, 447.1274108886719, 378.4660339355469, 350.1712951660156, 310.09765625, 247.7041473388672, 243.65335083007812, 240.86294555664062, 227.25601196289062, 211.79769897460938, 153.59999084472656, 142.88650512695312, 130.91879272460938, 129.92539978027344, 127.3026351928711, 115.11846923828125, 105.10091400146484, 98.97159576416016, 90.19024658203125, 88.07379913330078, 74.15046691894531, 65.7763900756836, 62.79076385498047, 60.69209671020508, 56.427696228027344, 205.89236450195312, 203.79702758789062, 1533.9610595703125, 854.1326904296875, 1803.7894287109375, 486.3428649902344, 3205.3828125, 886.708740234375, 3143.234130859375, 514.7279052734375, 1264.190673828125, 2951.5673828125, 420.35113525390625, 1578.820068359375, 473.20941162109375, 2209.097412109375, 1073.5712890625, 671.736328125, 638.34765625, 599.2625122070312, 532.4930419921875, 373.30084228515625, 351.62939453125, 342.1387023925781, 334.73651123046875, 331.7746276855469, 300.3050537109375, 299.9775695800781, 262.356689453125, 251.20721435546875, 225.52293395996094, 211.71798706054688, 207.6734161376953, 186.0082550048828, 176.15733337402344, 170.7587127685547, 168.95497131347656, 160.7269287109375, 158.77769470214844, 128.79196166992188, 126.67733764648438, 120.54716491699219, 107.16522216796875, 98.36919403076172, 95.58841705322266, 94.52918243408203, 94.14923858642578, 549.3963012695312, 325.3647155761719, 1331.6751708984375, 251.22808837890625, 884.0823364257812, 511.19427490234375, 488.8932800292969, 1447.2052001953125, 473.20941162109375, 984.2697143554688, 679.0333862304688, 7716.642578125, 2110.724609375, 2103.622802734375, 1102.76025390625, 1040.5509033203125, 844.4677734375, 685.57177734375, 633.370361328125, 526.9231567382812, 415.0029296875, 412.07464599609375, 396.123779296875, 319.1090087890625, 278.4563293457031, 221.0094451904297, 197.60609436035156, 181.5578155517578, 181.0495147705078, 136.3123779296875, 120.68008422851562, 116.3119888305664, 91.41641998291016, 85.9095458984375, 79.96635437011719, 79.09552001953125, 71.07716369628906, 68.0942153930664, 66.02448272705078, 60.84183120727539, 57.94622039794922, 55.322452545166016, 52.16605758666992, 49.88785934448242, 974.5887451171875, 751.1806030273438, 144.23558044433594, 568.889404296875, 859.6427001953125, 1730.30322265625, 515.0323486328125, 1533.984375, 123.46195983886719, 2080.511962890625, 2052.237548828125, 1523.4296875, 717.236572265625, 1086.733154296875, 2368.609375, 1153.3118896484375, 2541.35107421875, 2212.097412109375, 1412.5198974609375, 884.3165283203125, 405.33404541015625, 392.403076171875, 381.105712890625, 376.76611328125, 354.9638366699219, 340.2857666015625, 312.6591491699219, 303.5364685058594, 303.00860595703125, 302.1168518066406, 278.8352355957031, 277.889892578125, 246.30467224121094, 238.28854370117188, 229.07546997070312, 221.1187286376953, 208.16372680664062, 186.41659545898438, 171.1587371826172, 162.6318359375, 160.1729736328125, 159.84059143066406, 147.3546905517578, 142.04644775390625, 138.9669952392578, 135.78565979003906, 126.471923828125, 124.61282348632812, 685.4158935546875, 415.4538879394531, 839.4288330078125, 377.9761962890625, 620.0438232421875, 2541.35107421875, 2358.042724609375, 987.8035278320312, 769.13330078125, 708.2159423828125, 411.0140686035156, 330.6908874511719, 272.7626953125, 267.9512634277344, 234.1893310546875, 203.89996337890625, 190.27188110351562, 185.20164489746094, 178.44700622558594, 176.5941619873047, 170.88673400878906, 167.44142150878906, 153.90664672851562, 145.5442352294922, 129.000244140625, 126.3025131225586, 120.42091369628906, 108.26154327392578, 108.16072082519531, 94.51812744140625, 87.5334701538086, 86.20330810546875, 67.22990417480469, 56.0008659362793, 47.5908317565918, 44.746421813964844, 887.6184692382812, 653.2030029296875, 2541.35107421875, 1701.5732421875, 1409.8985595703125, 567.731201171875, 434.44842529296875, 295.3389892578125, 199.28248596191406, 190.4991455078125, 140.80482482910156, 91.45378112792969, 88.05561828613281, 86.546630859375, 52.064693450927734, 48.24840545654297, 42.33137130737305, 37.37480163574219, 29.510574340820312, 27.70157241821289, 189.87863159179688, 147.65997314453125, 11.675420761108398, 470.6336669921875, 651.9437866210938, 10.228628158569336, 8.532947540283203, 8.071598052978516, 169.97097778320312, 1057.2337646484375, 282.1708068847656, 313.31451416015625, 42.40203094482422, 479.85089111328125, 760.1880493164062, 416.1746826171875, 535.84912109375, 872.3579711914062, 2777.785888671875, 511.1932678222656, 152.75474548339844, 443.8564453125, 1331.6751708984375, 1727.3564453125, 598.009033203125, 510.20330810546875, 407.3246154785156, 299.56005859375, 177.23269653320312, 175.42333984375, 166.700927734375, 164.62765502929688, 158.85342407226562, 137.2688751220703, 137.0668487548828, 99.34113311767578, 95.34144592285156, 91.4625015258789, 85.45294189453125, 79.95137786865234, 78.35417175292969, 62.346126556396484, 52.02756881713867, 51.57440948486328, 42.207523345947266, 40.211708068847656, 1209.98046875, 35.3221549987793, 34.25318908691406, 30.79972267150879, 29.494976043701172, 24.33570671081543, 23.170970916748047, 4567.396484375, 398.75543212890625, 1162.9539794921875, 423.288330078125, 2141.419921875, 596.496337890625, 1355.5587158203125, 180.25445556640625, 1264.0885009765625, 568.0033569335938, 3440.72998046875, 1270.2349853515625, 744.2666015625, 624.41357421875, 603.665283203125, 537.9329223632812, 419.61456298828125, 391.553466796875, 383.6150207519531, 265.8740234375, 186.02870178222656, 158.64141845703125, 118.89144897460938, 103.08084106445312, 88.04113006591797, 87.31900024414062, 86.0229721069336, 69.81272888183594, 67.19832611083984, 65.63276672363281, 64.67384338378906, 63.0641975402832, 50.11306381225586, 31.51939582824707, 29.17491340637207, 16.411039352416992, 13.706497192382812, 8.515669822692871, 477.8974609375, 1773.919677734375, 1.8779798746109009, 974.3287353515625, 288.591796875, 144.23558044433594, 887.6184692382812, 713.3512573242188, 681.8502197265625, 644.5924682617188, 501.16204833984375, 431.48199462890625, 333.31842041015625, 308.5317077636719, 277.76556396484375, 214.422119140625, 163.2512969970703, 149.61941528320312, 148.45069885253906, 143.82957458496094, 137.73507690429688, 135.6055145263672, 106.84788513183594, 103.99633026123047, 99.76326751708984, 94.40958404541016, 83.34710693359375, 82.36708068847656, 48.272178649902344, 40.64981460571289, 36.46181106567383, 34.33682632446289, 31.781286239624023, 28.19023323059082, 23.098907470703125, 19.98838996887207, 18.713626861572266, 83.62678527832031, 650.7180786132812, 580.76806640625, 286.0119323730469, 264.30657958984375, 252.11924743652344, 222.18914794921875, 183.69091796875, 172.3328399658203, 140.80682373046875, 107.5528793334961, 91.16846466064453, 81.31136322021484, 78.73545837402344, 78.22998809814453, 74.10403442382812, 55.003395080566406, 46.8504524230957, 43.717891693115234, 39.50955581665039, 33.585758209228516, 30.479373931884766, 26.951663970947266, 25.25954818725586, 19.08146095275879, 365.3612365722656, 1.2501916885375977, 1.2502164840698242, 1.250185251235962, 1.2501842975616455, 1.2501811981201172, 431.0665283203125, 337.740966796875, 260.8808898925781, 204.0038299560547, 148.80113220214844, 126.40828704833984, 123.35964965820312, 117.48826599121094, 113.45075988769531, 108.4362564086914, 92.6982421875, 63.377471923828125, 53.568267822265625, 36.96351623535156, 33.845603942871094, 33.53540802001953, 31.525968551635742, 24.49219512939453, 14.855637550354004, 14.657099723815918, 14.654069900512695, 14.308639526367188, 11.810818672180176, 11.250036239624023, 319.6294250488281, 1.2501592636108398, 1.2501513957977295, 1.2501630783081055, 1.250160813331604, 1.2501527070999146, 1.2502373456954956, 1.25030517578125, 343.23309326171875, 282.115966796875, 279.5249938964844, 208.21112060546875, 141.58973693847656, 133.34068298339844, 128.4459228515625, 103.57679748535156, 103.1034164428711, 53.59577178955078, 50.42332077026367, 30.690710067749023, 28.24017333984375, 27.20189666748047, 26.76068115234375, 25.969480514526367, 22.67578125, 21.521177291870117, 14.999662399291992, 11.78664779663086, 8.753334999084473, 393.8145446777344, 147.65997314453125, 1.25030517578125, 1.2501614093780518, 1.2501925230026245, 1.2501685619354248, 1.2501531839370728, 1.250199317932129, 1.2501775026321411, 1.2502515316009521, 1.2502610683441162, 1.250278115272522, 178.5797119140625, 108.24301147460938, 77.6585464477539, 46.24525451660156, 34.70807647705078, 33.537017822265625, 32.2365837097168, 27.620044708251953, 9.883975982666016, 9.05746078491211, 7.290379047393799, 6.57135534286499, 6.422131538391113, 2.650026321411133, 1.250179409980774, 1.2502045631408691, 1.2501810789108276, 1.2501709461212158, 1.2501667737960815, 1.2501763105392456, 1.2501875162124634, 1.250150442123413, 1.250160813331604, 1.2501548528671265, 1.2501548528671265, 1.2501548528671265, 1.2501473426818848, 1.2501634359359741, 1.2502033710479736, 1.2501451969146729, 1.2501633167266846, 1.250168800354004, 1.2501964569091797, 1.2501733303070068], \"Category\": [\"Default\", \"Default\", \"Default\", \"Default\", \"Default\", \"Default\", \"Default\", \"Default\", \"Default\", \"Default\", \"Default\", \"Default\", \"Default\", \"Default\", \"Default\", \"Default\", \"Default\", \"Default\", \"Default\", \"Default\", \"Default\", \"Default\", \"Default\", \"Default\", \"Default\", \"Default\", \"Default\", \"Default\", \"Default\", \"Default\", \"Topic1\", \"Topic1\", \"Topic1\", \"Topic1\", \"Topic1\", \"Topic1\", \"Topic1\", \"Topic1\", \"Topic1\", \"Topic1\", \"Topic1\", \"Topic1\", \"Topic1\", \"Topic1\", \"Topic1\", \"Topic1\", \"Topic1\", \"Topic1\", \"Topic1\", \"Topic1\", \"Topic1\", \"Topic1\", \"Topic1\", \"Topic1\", \"Topic1\", \"Topic1\", \"Topic1\", \"Topic1\", \"Topic1\", \"Topic1\", \"Topic1\", \"Topic1\", \"Topic1\", \"Topic1\", \"Topic1\", \"Topic1\", \"Topic1\", \"Topic1\", \"Topic1\", \"Topic1\", \"Topic1\", \"Topic1\", \"Topic1\", \"Topic1\", \"Topic1\", \"Topic1\", \"Topic1\", \"Topic1\", \"Topic1\", \"Topic1\", \"Topic1\", \"Topic1\", \"Topic1\", \"Topic1\", \"Topic1\", \"Topic1\", \"Topic1\", \"Topic1\", \"Topic1\", \"Topic1\", \"Topic1\", \"Topic1\", \"Topic1\", \"Topic1\", \"Topic2\", \"Topic2\", \"Topic2\", \"Topic2\", \"Topic2\", \"Topic2\", \"Topic2\", \"Topic2\", \"Topic2\", \"Topic2\", \"Topic2\", \"Topic2\", \"Topic2\", \"Topic2\", \"Topic2\", \"Topic2\", \"Topic2\", \"Topic2\", \"Topic2\", \"Topic2\", \"Topic2\", \"Topic2\", \"Topic2\", \"Topic2\", \"Topic2\", \"Topic2\", \"Topic2\", \"Topic2\", \"Topic2\", \"Topic2\", \"Topic2\", \"Topic2\", \"Topic2\", \"Topic2\", \"Topic2\", \"Topic2\", \"Topic2\", \"Topic2\", \"Topic2\", \"Topic2\", \"Topic2\", \"Topic2\", \"Topic2\", \"Topic2\", \"Topic2\", \"Topic2\", \"Topic2\", \"Topic2\", \"Topic2\", \"Topic2\", \"Topic2\", \"Topic2\", \"Topic2\", \"Topic2\", \"Topic3\", \"Topic3\", \"Topic3\", \"Topic3\", \"Topic3\", \"Topic3\", \"Topic3\", \"Topic3\", \"Topic3\", \"Topic3\", \"Topic3\", \"Topic3\", \"Topic3\", \"Topic3\", \"Topic3\", \"Topic3\", \"Topic3\", \"Topic3\", \"Topic3\", \"Topic3\", \"Topic3\", \"Topic3\", \"Topic3\", \"Topic3\", \"Topic3\", \"Topic3\", \"Topic3\", \"Topic3\", \"Topic3\", \"Topic3\", \"Topic3\", \"Topic3\", \"Topic3\", \"Topic3\", \"Topic3\", \"Topic3\", \"Topic3\", \"Topic3\", \"Topic3\", \"Topic3\", \"Topic3\", \"Topic3\", \"Topic3\", \"Topic3\", \"Topic3\", \"Topic3\", \"Topic3\", \"Topic3\", \"Topic3\", \"Topic3\", \"Topic3\", \"Topic3\", \"Topic3\", \"Topic3\", \"Topic3\", \"Topic3\", \"Topic3\", \"Topic3\", \"Topic3\", \"Topic3\", \"Topic3\", \"Topic3\", \"Topic3\", \"Topic3\", \"Topic4\", \"Topic4\", \"Topic4\", \"Topic4\", \"Topic4\", \"Topic4\", \"Topic4\", \"Topic4\", \"Topic4\", \"Topic4\", \"Topic4\", \"Topic4\", \"Topic4\", \"Topic4\", \"Topic4\", \"Topic4\", \"Topic4\", \"Topic4\", \"Topic4\", \"Topic4\", \"Topic4\", \"Topic4\", \"Topic4\", \"Topic4\", \"Topic4\", \"Topic4\", \"Topic4\", \"Topic4\", \"Topic4\", \"Topic4\", \"Topic4\", \"Topic4\", \"Topic4\", \"Topic4\", \"Topic4\", \"Topic4\", \"Topic4\", \"Topic4\", \"Topic4\", \"Topic4\", \"Topic4\", \"Topic4\", \"Topic4\", \"Topic4\", \"Topic4\", \"Topic4\", \"Topic4\", \"Topic4\", \"Topic4\", \"Topic4\", \"Topic4\", \"Topic4\", \"Topic5\", \"Topic5\", \"Topic5\", \"Topic5\", \"Topic5\", \"Topic5\", \"Topic5\", \"Topic5\", \"Topic5\", \"Topic5\", \"Topic5\", \"Topic5\", \"Topic5\", \"Topic5\", \"Topic5\", \"Topic5\", \"Topic5\", \"Topic5\", \"Topic5\", \"Topic5\", \"Topic5\", \"Topic5\", \"Topic5\", \"Topic5\", \"Topic5\", \"Topic5\", \"Topic5\", \"Topic5\", \"Topic5\", \"Topic5\", \"Topic6\", \"Topic6\", \"Topic6\", \"Topic6\", \"Topic6\", \"Topic6\", \"Topic6\", \"Topic6\", \"Topic6\", \"Topic6\", \"Topic6\", \"Topic6\", \"Topic6\", \"Topic6\", \"Topic6\", \"Topic6\", \"Topic6\", \"Topic6\", \"Topic6\", \"Topic6\", \"Topic6\", \"Topic6\", \"Topic6\", \"Topic6\", \"Topic6\", \"Topic6\", \"Topic6\", \"Topic6\", \"Topic6\", \"Topic6\", \"Topic6\", \"Topic6\", \"Topic6\", \"Topic6\", \"Topic6\", \"Topic6\", \"Topic6\", \"Topic6\", \"Topic6\", \"Topic6\", \"Topic6\", \"Topic6\", \"Topic6\", \"Topic7\", \"Topic7\", \"Topic7\", \"Topic7\", \"Topic7\", \"Topic7\", \"Topic7\", \"Topic7\", \"Topic7\", \"Topic7\", \"Topic7\", \"Topic7\", \"Topic7\", \"Topic7\", \"Topic7\", \"Topic7\", \"Topic7\", \"Topic7\", \"Topic7\", \"Topic7\", \"Topic7\", \"Topic7\", \"Topic7\", \"Topic7\", \"Topic7\", \"Topic7\", \"Topic7\", \"Topic7\", \"Topic7\", \"Topic7\", \"Topic7\", \"Topic7\", \"Topic7\", \"Topic7\", \"Topic7\", \"Topic7\", \"Topic7\", \"Topic7\", \"Topic7\", \"Topic7\", \"Topic7\", \"Topic7\", \"Topic7\", \"Topic7\", \"Topic7\", \"Topic7\", \"Topic8\", \"Topic8\", \"Topic8\", \"Topic8\", \"Topic8\", \"Topic8\", \"Topic8\", \"Topic8\", \"Topic8\", \"Topic8\", \"Topic8\", \"Topic8\", \"Topic8\", \"Topic8\", \"Topic8\", \"Topic8\", \"Topic8\", \"Topic8\", \"Topic8\", \"Topic8\", \"Topic8\", \"Topic8\", \"Topic8\", \"Topic8\", \"Topic8\", \"Topic8\", \"Topic8\", \"Topic8\", \"Topic8\", \"Topic8\", \"Topic8\", \"Topic8\", \"Topic8\", \"Topic8\", \"Topic8\", \"Topic8\", \"Topic8\", \"Topic8\", \"Topic8\", \"Topic8\", \"Topic8\", \"Topic8\", \"Topic8\", \"Topic8\", \"Topic8\", \"Topic8\", \"Topic8\", \"Topic9\", \"Topic9\", \"Topic9\", \"Topic9\", \"Topic9\", \"Topic9\", \"Topic9\", \"Topic9\", \"Topic9\", \"Topic9\", \"Topic9\", \"Topic9\", \"Topic9\", \"Topic9\", \"Topic9\", \"Topic9\", \"Topic9\", \"Topic9\", \"Topic9\", \"Topic9\", \"Topic9\", \"Topic9\", \"Topic9\", \"Topic9\", \"Topic9\", \"Topic9\", \"Topic9\", \"Topic9\", \"Topic9\", \"Topic9\", \"Topic9\", \"Topic9\", \"Topic9\", \"Topic9\", \"Topic9\", \"Topic9\", \"Topic9\", \"Topic9\", \"Topic9\", \"Topic9\", \"Topic9\", \"Topic9\", \"Topic9\", \"Topic9\", \"Topic10\", \"Topic10\", \"Topic10\", \"Topic10\", \"Topic10\", \"Topic10\", \"Topic10\", \"Topic10\", \"Topic10\", \"Topic10\", \"Topic10\", \"Topic10\", \"Topic10\", \"Topic10\", \"Topic10\", \"Topic10\", \"Topic10\", \"Topic10\", \"Topic10\", \"Topic10\", \"Topic10\", \"Topic10\", \"Topic10\", \"Topic10\", \"Topic10\", \"Topic10\", \"Topic10\", \"Topic10\", \"Topic10\", \"Topic10\", \"Topic10\", \"Topic10\", \"Topic10\", \"Topic10\", \"Topic10\", \"Topic10\", \"Topic10\", \"Topic10\", \"Topic10\", \"Topic10\", \"Topic10\", \"Topic10\", \"Topic10\", \"Topic10\", \"Topic10\", \"Topic10\", \"Topic10\", \"Topic10\", \"Topic11\", \"Topic11\", \"Topic11\", \"Topic11\", \"Topic11\", \"Topic11\", \"Topic11\", \"Topic11\", \"Topic11\", \"Topic11\", \"Topic11\", \"Topic11\", \"Topic11\", \"Topic11\", \"Topic11\", \"Topic11\", \"Topic11\", \"Topic11\", \"Topic11\", \"Topic11\", \"Topic11\", \"Topic11\", \"Topic11\", \"Topic11\", \"Topic11\", \"Topic11\", \"Topic11\", \"Topic11\", \"Topic11\", \"Topic11\", \"Topic11\", \"Topic11\", \"Topic11\", \"Topic11\", \"Topic11\", \"Topic11\", \"Topic12\", \"Topic12\", \"Topic12\", \"Topic12\", \"Topic12\", \"Topic12\", \"Topic12\", \"Topic12\", \"Topic12\", \"Topic12\", \"Topic12\", \"Topic12\", \"Topic12\", \"Topic12\", \"Topic12\", \"Topic12\", \"Topic12\", \"Topic12\", \"Topic12\", \"Topic12\", \"Topic12\", \"Topic12\", \"Topic12\", \"Topic12\", \"Topic12\", \"Topic12\", \"Topic12\", \"Topic12\", \"Topic12\", \"Topic12\", \"Topic12\", \"Topic12\", \"Topic12\", \"Topic13\", \"Topic13\", \"Topic13\", \"Topic13\", \"Topic13\", \"Topic13\", \"Topic13\", \"Topic13\", \"Topic13\", \"Topic13\", \"Topic13\", \"Topic13\", \"Topic13\", \"Topic13\", \"Topic13\", \"Topic13\", \"Topic13\", \"Topic13\", \"Topic13\", \"Topic13\", \"Topic13\", \"Topic13\", \"Topic13\", \"Topic13\", \"Topic13\", \"Topic13\", \"Topic13\", \"Topic13\", \"Topic13\", \"Topic13\", \"Topic13\", \"Topic13\", \"Topic13\", \"Topic13\", \"Topic13\", \"Topic13\", \"Topic13\", \"Topic13\", \"Topic13\", \"Topic13\", \"Topic14\", \"Topic14\", \"Topic14\", \"Topic14\", \"Topic14\", \"Topic14\", \"Topic14\", \"Topic14\", \"Topic14\", \"Topic14\", \"Topic14\", \"Topic14\", \"Topic14\", \"Topic14\", \"Topic14\", \"Topic14\", \"Topic14\", \"Topic14\", \"Topic14\", \"Topic14\", \"Topic14\", \"Topic14\", \"Topic14\", \"Topic14\", \"Topic14\", \"Topic14\", \"Topic14\", \"Topic14\", \"Topic14\", \"Topic14\", \"Topic14\", \"Topic14\", \"Topic14\", \"Topic14\", \"Topic14\", \"Topic14\", \"Topic14\", \"Topic14\", \"Topic14\", \"Topic14\", \"Topic14\", \"Topic15\", \"Topic15\", \"Topic15\", \"Topic15\", \"Topic15\", \"Topic15\", \"Topic15\", \"Topic15\", \"Topic15\", \"Topic15\", \"Topic15\", \"Topic15\", \"Topic15\", \"Topic15\", \"Topic15\", \"Topic15\", \"Topic15\", \"Topic15\", \"Topic15\", \"Topic15\", \"Topic15\", \"Topic15\", \"Topic15\", \"Topic15\", \"Topic15\", \"Topic15\", \"Topic15\", \"Topic15\", \"Topic15\", \"Topic15\", \"Topic15\", \"Topic15\", \"Topic15\", \"Topic15\", \"Topic16\", \"Topic16\", \"Topic16\", \"Topic16\", \"Topic16\", \"Topic16\", \"Topic16\", \"Topic16\", \"Topic16\", \"Topic16\", \"Topic16\", \"Topic16\", \"Topic16\", \"Topic16\", \"Topic16\", \"Topic16\", \"Topic16\", \"Topic16\", \"Topic16\", \"Topic16\", \"Topic16\", \"Topic16\", \"Topic16\", \"Topic16\", \"Topic16\", \"Topic16\", \"Topic16\", \"Topic16\", \"Topic16\", \"Topic16\", \"Topic16\", \"Topic17\", \"Topic17\", \"Topic17\", \"Topic17\", \"Topic17\", \"Topic17\", \"Topic17\", \"Topic17\", \"Topic17\", \"Topic17\", \"Topic17\", \"Topic17\", \"Topic17\", \"Topic17\", \"Topic17\", \"Topic17\", \"Topic17\", \"Topic17\", \"Topic17\", \"Topic17\", \"Topic17\", \"Topic17\", \"Topic17\", \"Topic17\", \"Topic17\", \"Topic17\", \"Topic17\", \"Topic17\", \"Topic17\", \"Topic17\", \"Topic18\", \"Topic18\", \"Topic18\", \"Topic18\", \"Topic18\", \"Topic18\", \"Topic18\", \"Topic18\", \"Topic18\", \"Topic18\", \"Topic18\", \"Topic18\", \"Topic18\", \"Topic18\", \"Topic18\", \"Topic18\", \"Topic18\", \"Topic18\", \"Topic18\", \"Topic18\", \"Topic18\", \"Topic18\", \"Topic18\", \"Topic18\", \"Topic18\", \"Topic18\", \"Topic18\", \"Topic18\", \"Topic18\", \"Topic18\", \"Topic18\", \"Topic18\", \"Topic19\", \"Topic19\", \"Topic19\", \"Topic19\", \"Topic19\", \"Topic19\", \"Topic19\", \"Topic19\", \"Topic19\", \"Topic19\", \"Topic19\", \"Topic19\", \"Topic19\", \"Topic19\", \"Topic19\", \"Topic19\", \"Topic19\", \"Topic19\", \"Topic19\", \"Topic19\", \"Topic19\", \"Topic19\", \"Topic19\", \"Topic19\", \"Topic19\", \"Topic19\", \"Topic19\", \"Topic19\", \"Topic19\", \"Topic19\", \"Topic19\", \"Topic19\", \"Topic19\", \"Topic20\", \"Topic20\", \"Topic20\", \"Topic20\", \"Topic20\", \"Topic20\", \"Topic20\", \"Topic20\", \"Topic20\", \"Topic20\", \"Topic20\", \"Topic20\", \"Topic20\", \"Topic20\", \"Topic20\", \"Topic20\", \"Topic20\", \"Topic20\", \"Topic20\", \"Topic20\", \"Topic20\", \"Topic20\", \"Topic20\", \"Topic20\", \"Topic20\", \"Topic20\", \"Topic20\", \"Topic20\", \"Topic20\", \"Topic20\", \"Topic20\", \"Topic20\", \"Topic20\", \"Topic20\"], \"logprob\": [30.0, 29.0, 28.0, 27.0, 26.0, 25.0, 24.0, 23.0, 22.0, 21.0, 20.0, 19.0, 18.0, 17.0, 16.0, 15.0, 14.0, 13.0, 12.0, 11.0, 10.0, 9.0, 8.0, 7.0, 6.0, 5.0, 4.0, 3.0, 2.0, 1.0, -3.634399890899658, -3.8138999938964844, -4.918900012969971, -5.220900058746338, -5.222400188446045, -5.426000118255615, -5.504000186920166, -5.609899997711182, -5.64870023727417, -5.745500087738037, -5.757299900054932, -5.767300128936768, -5.790900230407715, -5.964600086212158, -4.319200038909912, -6.039000034332275, -6.067599773406982, -6.137700080871582, -6.155900001525879, -6.159599781036377, -6.197299957275391, -6.290800094604492, -6.201099872589111, -6.4527997970581055, -6.482399940490723, -6.484600067138672, -6.4994001388549805, -6.503699779510498, -6.506899833679199, -6.571499824523926, -4.295300006866455, -4.435699939727783, -4.650000095367432, -4.624599933624268, -5.610099792480469, -5.418000221252441, -5.102499961853027, -4.1255998611450195, -3.8875999450683594, -3.8348000049591064, -5.895599842071533, -5.148499965667725, -3.4453001022338867, -4.800300121307373, -4.651000022888184, -5.448200225830078, -4.577700138092041, -4.503600120544434, -4.034299850463867, -4.470900058746338, -5.175300121307373, -4.118199825286865, -4.470099925994873, -4.984300136566162, -4.670100212097168, -4.699699878692627, -4.396999835968018, -4.794600009918213, -4.905799865722656, -4.583799839019775, -4.56790018081665, -4.583000183105469, -4.9695000648498535, -4.666100025177002, -2.6045000553131104, -3.7430999279022217, -3.8006999492645264, -3.8169000148773193, -4.270699977874756, -4.877699851989746, -5.054900169372559, -5.12529993057251, -5.293099880218506, -5.32919979095459, -5.355800151824951, -5.3744001388549805, -5.380099773406982, -5.521699905395508, -5.548299789428711, -5.588500022888184, -5.594099998474121, -5.596700191497803, -5.618800163269043, -5.624300003051758, -5.658699989318848, -5.7058000564575195, -5.730000019073486, -5.808000087738037, -5.8429999351501465, -5.84499979019165, -6.003200054168701, -6.016200065612793, -6.065899848937988, -6.073800086975098, -4.494100093841553, -4.667699813842773, -3.5209999084472656, -3.049299955368042, -4.599599838256836, -4.531099796295166, -4.1107001304626465, -3.862499952316284, -4.317599773406982, -4.68720006942749, -4.526500225067139, -3.9667999744415283, -4.927499771118164, -4.462800025939941, -4.434899806976318, -4.907599925994873, -4.743100166320801, -4.900199890136719, -4.5493998527526855, -4.945700168609619, -4.918399810791016, -4.613399982452393, -4.974299907684326, -5.020500183105469, -4.947000026702881, -4.979800224304199, -5.113800048828125, -5.190899848937988, -5.221199989318848, -5.3140997886657715, -5.326300144195557, -5.328999996185303, -5.394800186157227, -5.4334001541137695, -5.48960018157959, -5.600800037384033, -5.614999771118164, -5.627099990844727, -5.63040018081665, -5.666600227355957, -5.671599864959717, -5.714600086212158, -5.716100215911865, -5.732900142669678, -5.736800193786621, -5.758200168609619, -5.758299827575684, -5.759500026702881, -5.761199951171875, -5.761600017547607, -5.8190999031066895, -5.846199989318848, -5.879899978637695, -5.887899875640869, -5.002200126647949, -4.838600158691406, -5.109399795532227, -5.001999855041504, -4.646100044250488, -5.331500053405762, -5.424200057983398, -4.78980016708374, -5.440199851989746, -5.092800140380859, -5.4303998947143555, -5.302700042724609, -4.760000228881836, -3.8787999153137207, -4.591800212860107, -5.110000133514404, -4.283699989318848, -5.144599914550781, -5.194399833679199, -4.959400177001953, -4.122300148010254, -5.104700088500977, -5.207600116729736, -4.693699836730957, -4.50439977645874, -4.255799770355225, -4.923600196838379, -5.168000221252441, -4.959499835968018, -5.038899898529053, -4.691199779510498, -5.096099853515625, -5.146299839019775, -5.147299766540527, -3.523200035095215, -3.8838000297546387, -4.075099945068359, -4.76230001449585, -4.864500045776367, -4.897200107574463, -4.9664998054504395, -5.1118998527526855, -5.277400016784668, -5.339099884033203, -5.360799789428711, -5.36870002746582, -5.3755998611450195, -5.386300086975098, -5.432300090789795, -5.47730016708374, -5.502200126647949, -5.526199817657471, -5.528200149536133, -5.532100200653076, -5.551499843597412, -5.570400238037109, -5.571000099182129, -5.579800128936768, -5.593400001525879, -5.606299877166748, -5.617300033569336, -5.6392998695373535, -5.6433000564575195, -5.666299819946289, -3.6147000789642334, -5.075500011444092, -5.191500186920166, -4.930699825286865, -3.9976999759674072, -3.9363999366760254, -5.007299900054932, -5.15880012512207, -4.916399955749512, -4.287300109863281, -4.615900039672852, -4.922500133514404, -4.348599910736084, -4.826000213623047, -4.913099765777588, -4.5304999351501465, -4.774099826812744, -5.143499851226807, -5.096700191497803, -5.06790018081665, -5.225800037384033, -5.154200077056885, -0.6133999824523926, -2.9240000247955322, -3.574700117111206, -4.258900165557861, -4.668499946594238, -4.736100196838379, -4.752799987792969, -4.758600234985352, -4.770699977874756, -4.801300048828125, -4.859600067138672, -4.861999988555908, -4.874899864196777, -4.9517998695373535, -5.00570011138916, -5.041600227355957, -5.167799949645996, -5.182799816131592, -5.250800132751465, -5.2546000480651855, -5.323599815368652, -5.3404998779296875, -5.352799892425537, -5.435800075531006, -5.503499984741211, -5.504000186920166, -5.5366997718811035, -5.538700103759766, -5.547599792480469, -5.579999923706055, -3.0020999908447266, -3.561300039291382, -3.6108999252319336, -3.846299886703491, -3.87280011177063, -3.9807000160217285, -4.162799835205078, -4.230999946594238, -4.341599941253662, -4.441800117492676, -4.447800159454346, -4.5065999031066895, -4.546899795532227, -4.594200134277344, -4.641600131988525, -4.642199993133545, -4.705599784851074, -4.829699993133545, -4.8892998695373535, -5.007699966430664, -5.1255998611450195, -5.186399936676025, -5.2220001220703125, -5.229000091552734, -5.276899814605713, -5.3917999267578125, -5.422399997711182, -5.423900127410889, -5.5192999839782715, -5.551700115203857, -3.265000104904175, -2.9595000743865967, -4.426599979400635, -4.009500026702881, -3.3766000270843506, -3.7281999588012695, -3.998800039291382, -3.1926000118255615, -4.215099811553955, -4.631800174713135, -4.746200084686279, -4.259399890899658, -4.53410005569458, -3.8610999584198, -4.242199897766113, -4.389200210571289, -4.422699928283691, -4.509500026702881, -4.556399822235107, -4.709499835968018, -4.7322001457214355, -4.762599945068359, -4.762700080871582, -4.869900226593018, -4.882299900054932, -4.907700061798096, -4.914299964904785, -4.96999979019165, -4.978499889373779, -4.986700057983398, -5.052800178527832, -5.054200172424316, -5.056399822235107, -5.086100101470947, -5.0903000831604, -5.095399856567383, -5.118800163269043, -5.11929988861084, -5.128900051116943, -5.1296000480651855, -5.184999942779541, -5.261099815368652, -5.279600143432617, -3.789799928665161, -4.049200057983398, -3.3766000270843506, -4.178999900817871, -3.754699945449829, -4.014900207519531, -3.8850998878479004, -3.8722000122070312, -4.864799976348877, -4.875800132751465, -4.661799907684326, -4.433700084686279, -4.638400077819824, -4.39900016784668, -4.344299793243408, -4.706399917602539, -2.3931000232696533, -3.0318000316619873, -3.187700033187866, -3.460700035095215, -3.6273000240325928, -3.773099899291992, -4.0218000411987305, -4.189000129699707, -4.266900062561035, -4.388899803161621, -4.614500045776367, -4.631100177764893, -4.6427001953125, -4.701099872589111, -4.771999835968018, -5.095399856567383, -5.168300151824951, -5.256499767303467, -5.264200210571289, -5.284800052642822, -5.38640022277832, -5.478499889373779, -5.539299964904785, -5.633399963378906, -5.657400131225586, -5.832099914550781, -5.953999996185303, -6.001399993896484, -6.035999774932861, -6.110400199890137, -4.855999946594238, -4.889100074768066, -3.4024999141693115, -3.9094998836517334, -3.428299903869629, -4.454899787902832, -3.2922000885009766, -4.162399768829346, -3.552799940109253, -4.588600158691406, -4.164999961853027, -3.96370005607605, -4.788300037384033, -4.316699981689453, -4.769899845123291, -4.510000228881836, -4.704500198364258, -3.515700101852417, -3.566800117492676, -3.6301000118255615, -3.748500108718872, -4.104599952697754, -4.164599895477295, -4.1921000480651855, -4.214000225067139, -4.2230000495910645, -4.322999954223633, -4.324100017547607, -4.458700180053711, -4.502299785614014, -4.6107001304626465, -4.674200057983398, -4.693600177764893, -4.8043999671936035, -4.8592000007629395, -4.890600204467773, -4.901199817657471, -4.951499938964844, -4.963799953460693, -5.174900054931641, -5.1915998458862305, -5.241700172424316, -5.360599994659424, -5.447199821472168, -5.47629976272583, -5.487599849700928, -5.491600036621094, -3.8447000980377197, -4.404399871826172, -3.2239999771118164, -4.684199810028076, -3.734600067138672, -4.228499889373779, -4.366399765014648, -3.779400110244751, -4.459099769592285, -4.141600131988525, -4.606100082397461, -4.184999942779541, -4.509799957275391, -4.513800144195557, -3.014699935913086, -3.0727999210357666, -3.281899929046631, -3.4907000064849854, -3.569999933242798, -3.7544000148773193, -3.9937000274658203, -4.000800132751465, -4.04040002822876, -4.257400035858154, -4.394199848175049, -4.626299858093262, -4.738900184631348, -4.824100017547607, -4.826900005340576, -5.1128997802734375, -5.235799789428711, -5.273099899291992, -5.51669979095459, -5.579699993133545, -5.652400016784668, -5.66349983215332, -5.77209997177124, -5.815700054168701, -5.847099781036377, -5.9303998947143555, -5.980100154876709, -6.027500152587891, -6.087500095367432, -6.133200168609619, -3.2309000492095947, -3.6435999870300293, -5.223999977111816, -4.109300136566162, -3.828200101852417, -3.276599884033203, -4.273799896240234, -3.4663000106811523, -5.370800018310547, -3.7172999382019043, -3.775599956512451, -4.077099800109863, -4.518199920654297, -4.510900020599365, -4.373300075531006, -4.6371002197265625, -4.472599983215332, -4.631700038909912, -2.4670000076293945, -2.935800075531006, -3.7174999713897705, -3.75, -3.7792999744415283, -3.790800094604492, -3.850600004196167, -3.8929998874664307, -3.9779999256134033, -4.007699966430664, -4.009399890899658, -4.012400150299072, -4.092899799346924, -4.09630012512207, -4.21750020980835, -4.250800132751465, -4.29040002822876, -4.325900077819824, -4.38670015335083, -4.497700214385986, -4.583600044250488, -4.6350998878479, -4.6504998207092285, -4.652500152587891, -4.734499931335449, -4.771500110626221, -4.793600082397461, -4.816999912261963, -4.888700008392334, -4.903600215911865, -3.813699960708618, -4.345200061798096, -4.091400146484375, -4.534599781036377, -4.626299858093262, -4.719200134277344, -1.7425999641418457, -2.6133999824523926, -2.864000082015991, -2.9465999603271484, -3.492000102996826, -3.710099935531616, -3.9035000801086426, -3.921299934387207, -4.056600093841553, -4.195899963378906, -4.265500068664551, -4.292699813842773, -4.330100059509277, -4.34060001373291, -4.373700141906738, -4.394199848175049, -4.479100227355957, -4.535399913787842, -4.657100200653076, -4.678400039672852, -4.726600170135498, -4.834099769592285, -4.835100173950195, -4.971499919891357, -5.049300193786621, -5.064799785614014, -5.317299842834473, -5.503699779510498, -5.670199871063232, -5.733500003814697, -3.6802000999450684, -3.9971001148223877, -3.2151999473571777, -1.96589994430542, -2.154099941253662, -3.065000057220459, -3.333199977874756, -3.720400094985962, -4.115799903869629, -4.161099910736084, -4.46560001373291, -4.901800155639648, -4.940100193023682, -4.957699775695801, -5.475100040435791, -5.553100109100342, -5.6875, -5.815800189971924, -6.0609002113342285, -6.1269001960754395, -4.213600158691406, -4.472300052642822, -7.0543999671936035, -3.3636999130249023, -3.0425000190734863, -7.2027997970581055, -7.4105000495910645, -7.475399971008301, -4.461699962615967, -2.6554999351501465, -4.259200096130371, -4.323800086975098, -6.543300151824951, -4.475900173187256, -4.103799819946289, -4.729400157928467, -4.636600017547607, -4.40910005569458, -3.944999933242798, -4.86959981918335, -5.484799861907959, -5.325300216674805, -5.17080020904541, -1.8837000131607056, -2.9458000659942627, -3.1048998832702637, -3.330699920654297, -3.6391000747680664, -4.1666998863220215, -4.177000045776367, -4.228400230407715, -4.241000175476074, -4.2769999504089355, -4.424200057983398, -4.4257001876831055, -4.750999927520752, -4.792600154876709, -4.83459997177124, -4.903500080108643, -4.9710001945495605, -4.991499900817871, -5.224100112915039, -5.408899784088135, -5.417799949645996, -5.623499870300293, -5.673399925231934, -2.2708001136779785, -5.807300090789795, -5.839099884033203, -5.94950008392334, -5.99459981918335, -6.195799827575684, -6.247499942779541, -2.8261001110076904, -4.440700054168701, -3.788800001144409, -4.558499813079834, -3.8657000064849854, -4.475200176239014, -4.122099876403809, -5.226200103759766, -4.941999912261963, -5.177599906921387, -5.085999965667725, -2.0971999168395996, -2.6324000358581543, -2.808300018310547, -2.8422000408172607, -2.95770001411438, -3.206700086593628, -3.276099920272827, -3.2967000007629395, -3.6647000312805176, -4.02370023727417, -4.184100151062012, -4.475100040435791, -4.61929988861084, -4.7789998054504395, -4.787399768829346, -4.802599906921387, -5.014599800109863, -5.053500175476074, -5.077499866485596, -5.09250020980835, -5.118199825286865, -5.353000164031982, -5.831200122833252, -5.9116997718811035, -6.520699977874756, -6.716400146484375, -7.252299785614014, -3.3155999183654785, -2.606300115585327, -9.621800422668457, -3.6791999340057373, -4.884200096130371, -6.143499851226807, -6.087100028991699, -2.437000036239624, -2.482300043106079, -2.538599967956543, -2.790800094604492, -2.9409000873565674, -3.1998000144958496, -3.277400016784668, -3.3828999996185303, -3.6429998874664307, -3.9173998832702637, -4.005199909210205, -4.013199806213379, -4.045000076293945, -4.088699817657471, -4.104400157928467, -4.345200061798096, -4.372499942779541, -4.414599895477295, -4.470399856567383, -4.596700191497803, -4.608699798583984, -5.153500080108643, -5.3302001953125, -5.442399978637695, -5.504499912261963, -5.584700107574463, -5.70959997177124, -5.918600082397461, -6.071800231933594, -6.142000198364258, -5.1996002197265625, -2.09060001373291, -2.2046000957489014, -2.9149999618530273, -2.99429988861084, -3.0416998863220215, -3.168800115585327, -3.3601999282836914, -3.4244000911712646, -3.6280999183654785, -3.9001998901367188, -4.067500114440918, -4.183499813079834, -4.21619987487793, -4.222799777984619, -4.2778000831604, -4.581699848175049, -4.745999813079834, -4.8171000480651855, -4.92140007019043, -5.089399814605713, -5.190199851989746, -5.318699836730957, -5.38670015335083, -5.683599948883057, -4.647600173950195, -11.750499725341797, -11.750499725341797, -11.75059986114502, -11.75059986114502, -11.750699996948242, -2.322499990463257, -2.5673000812530518, -2.8264999389648438, -3.073699951171875, -3.3914999961853027, -3.555999994277954, -3.580699920654297, -3.6298999786376953, -3.6651999950408936, -3.710900068283081, -3.8696999549865723, -4.25600004196167, -4.427700042724609, -4.809100151062012, -4.900300025939941, -4.909800052642822, -4.973999977111816, -5.2378997802734375, -5.771900177001953, -5.786499977111816, -5.7866997718811035, -5.812699794769287, -6.024199962615967, -6.078499794006348, -5.752399921417236, -11.388500213623047, -11.388500213623047, -11.38860034942627, -11.38860034942627, -11.38860034942627, -11.38860034942627, -11.38860034942627, -2.435699939727783, -2.6326000690460205, -2.6417999267578125, -2.9377999305725098, -3.326200008392334, -3.3868000507354736, -3.424499988555908, -3.6419999599456787, -3.6466000080108643, -4.3119001388549805, -4.374300003051758, -4.88670015335083, -4.973400115966797, -5.012599945068359, -5.029699802398682, -5.061200141906738, -5.20389986038208, -5.259099960327148, -5.646299839019775, -5.911399841308594, -6.249199867248535, -4.347899913787842, -6.2129998207092285, -11.351099967956543, -11.351200103759766, -11.351200103759766, -11.351300239562988, -11.351300239562988, -11.351300239562988, -11.351300239562988, -11.351200103759766, -11.351300239562988, -11.351300239562988, -2.1991000175476074, -2.7042999267578125, -3.0408999919891357, -3.570199966430664, -3.8661999702453613, -3.9017999172210693, -3.9428999423980713, -4.104100227355957, -5.218599796295166, -5.318900108337402, -5.57450008392334, -5.700699806213379, -5.729000091552734, -7.022500038146973, -11.02649974822998, -11.02649974822998, -11.02649974822998, -11.026599884033203, -11.026599884033203, -11.026599884033203, -11.026599884033203, -11.026599884033203, -11.026599884033203, -11.026599884033203, -11.026599884033203, -11.026599884033203, -11.026599884033203, -11.026599884033203, -11.026599884033203, -11.026599884033203, -11.026599884033203, -11.026599884033203, -11.026599884033203, -11.026599884033203], \"loglift\": [30.0, 29.0, 28.0, 27.0, 26.0, 25.0, 24.0, 23.0, 22.0, 21.0, 20.0, 19.0, 18.0, 17.0, 16.0, 15.0, 14.0, 13.0, 12.0, 11.0, 10.0, 9.0, 8.0, 7.0, 6.0, 5.0, 4.0, 3.0, 2.0, 1.0, 1.2697999477386475, 1.269700050354004, 1.2694000005722046, 1.2691999673843384, 1.2691999673843384, 1.2690999507904053, 1.2690000534057617, 1.2689000368118286, 1.2689000368118286, 1.2688000202178955, 1.2688000202178955, 1.2688000202178955, 1.2687000036239624, 1.2684999704360962, 1.268399953842163, 1.268399953842163, 1.268399953842163, 1.2682000398635864, 1.2682000398635864, 1.2682000398635864, 1.2681000232696533, 1.2680000066757202, 1.267899990081787, 1.2676000595092773, 1.2676000595092773, 1.2676000595092773, 1.2675000429153442, 1.2675000429153442, 1.2675000429153442, 1.267300009727478, 1.256100058555603, 1.257200002670288, 1.2546000480651855, 1.2346999645233154, 1.2541999816894531, 1.2486000061035156, 1.2417000532150269, 1.2177000045776367, 1.2074999809265137, 1.1850999593734741, 1.257099986076355, 1.207200050354004, 1.0765000581741333, 1.176200032234192, 1.1546000242233276, 1.2144999504089355, 1.0907000303268433, 1.0533000230789185, 0.9431999921798706, 0.9976999759674072, 1.1442999839782715, 0.8895000219345093, 0.9715999960899353, 1.0989999771118164, 1.0039000511169434, 0.9947999715805054, 0.8598999977111816, 0.9785000085830688, 1.0123000144958496, 0.6998999714851379, 0.5090000033378601, 0.482699990272522, 0.9290000200271606, -0.1784999966621399, 1.7062000036239624, 1.7060999870300293, 1.7060999870300293, 1.7060999870300293, 1.705899953842163, 1.7056000232696533, 1.705399990081787, 1.705399990081787, 1.705199956893921, 1.705199956893921, 1.7051000595092773, 1.7051000595092773, 1.7051000595092773, 1.7049000263214111, 1.7049000263214111, 1.704800009727478, 1.704800009727478, 1.704800009727478, 1.704800009727478, 1.704800009727478, 1.704699993133545, 1.7045999765396118, 1.7045999765396118, 1.7044999599456787, 1.7043999433517456, 1.7043999433517456, 1.7041000127792358, 1.7039999961853027, 1.7038999795913696, 1.7038999795913696, 1.6725000143051147, 1.601699948310852, 1.5054999589920044, 1.4384000301361084, 1.579300045967102, 1.5586999654769897, 1.509600043296814, 1.3443000316619873, 1.396299958229065, 1.4609999656677246, 1.4014999866485596, 1.0988999605178833, 1.4168000221252441, 1.11899995803833, 0.8489000201225281, 1.1476000547409058, 0.9837999939918518, 1.0807000398635864, 0.42820000648498535, 1.0181000232696533, 0.766700029373169, -0.09160000085830688, 0.6031000018119812, 0.2759000062942505, 1.8579000234603882, 1.857800006866455, 1.857699990272522, 1.8575999736785889, 1.8575999736785889, 1.8573999404907227, 1.8573999404907227, 1.8573999404907227, 1.857300043106079, 1.857300043106079, 1.857200026512146, 1.8569999933242798, 1.8569999933242798, 1.8569999933242798, 1.8569999933242798, 1.8568999767303467, 1.8568999767303467, 1.8567999601364136, 1.8567999601364136, 1.8567999601364136, 1.8567999601364136, 1.8566999435424805, 1.8566999435424805, 1.8566999435424805, 1.8566999435424805, 1.8566999435424805, 1.856600046157837, 1.8565000295639038, 1.8565000295639038, 1.8564000129699707, 1.8518999814987183, 1.8420000076293945, 1.847000002861023, 1.843500018119812, 1.8329999446868896, 1.8457000255584717, 1.847499966621399, 1.8203999996185303, 1.846500039100647, 1.8307000398635864, 1.8437000513076782, 1.8317999839782715, 1.7764999866485596, 1.6655999422073364, 1.7316999435424805, 1.7688000202178955, 1.5440000295639038, 1.7444000244140625, 1.7532000541687012, 1.6188000440597534, 1.1852999925613403, 1.621399998664856, 1.692199945449829, 1.2645000219345093, 1.0729999542236328, 0.8210999965667725, 1.3971999883651733, 1.6466000080108643, 1.0425000190734863, 1.2121000289916992, 0.3165000081062317, 0.1607999950647354, 0.6388000249862671, 0.29440000653266907, 2.5051000118255615, 2.505000114440918, 2.5048000812530518, 2.5041000843048096, 2.503999948501587, 2.5039000511169434, 2.5037999153137207, 2.503499984741211, 2.5030999183654785, 2.503000020980835, 2.5028998851776123, 2.5028998851776123, 2.5028998851776123, 2.5028998851776123, 2.502700090408325, 2.5025999546051025, 2.502500057220459, 2.502500057220459, 2.502500057220459, 2.5023999214172363, 2.5023999214172363, 2.5023000240325928, 2.5023000240325928, 2.5023000240325928, 2.5023000240325928, 2.50219988822937, 2.50219988822937, 2.5020999908447266, 2.5020999908447266, 2.502000093460083, 2.501300096511841, 2.4763998985290527, 2.4781999588012695, 2.458400011062622, 2.3931000232696533, 2.3798999786376953, 2.442500114440918, 2.398699998855591, 2.1731998920440674, 1.504699945449829, 1.3423999547958374, 1.7110999822616577, 0.9477999806404114, 1.504699945449829, 1.6313999891281128, 1.0206999778747559, 1.3819999694824219, 1.9637000560760498, 1.8135000467300415, 1.4330999851226807, 1.95169997215271, 1.2382999658584595, 2.8561999797821045, 2.8559000492095947, 2.855600118637085, 2.8550000190734863, 2.8543999195098877, 2.854300022125244, 2.854300022125244, 2.854300022125244, 2.8541998863220215, 2.8541998863220215, 2.854099988937378, 2.8540000915527344, 2.8540000915527344, 2.853800058364868, 2.8536999225616455, 2.853600025177002, 2.853300094604492, 2.8531999588012695, 2.8529999256134033, 2.8529999256134033, 2.852799892425537, 2.8526999950408936, 2.8526999950408936, 2.852400064468384, 2.852099895477295, 2.852099895477295, 2.8519999980926514, 2.851900100708008, 2.851900100708008, 2.851799964904785, 2.8678998947143555, 2.8675999641418457, 2.8675999641418457, 2.8673999309539795, 2.8673999309539795, 2.867300033569336, 2.8671000003814697, 2.867000102996826, 2.8668999671936035, 2.8666999340057373, 2.8666999340057373, 2.8666000366210938, 2.8666000366210938, 2.866499900817871, 2.8664000034332275, 2.8664000034332275, 2.866300106048584, 2.865999937057495, 2.8659000396728516, 2.865600109100342, 2.8652000427246094, 2.8650999069213867, 2.8649001121520996, 2.8649001121520996, 2.864799976348877, 2.864300012588501, 2.8642001152038574, 2.8642001152038574, 2.863800048828125, 2.8636999130249023, 2.776700019836426, 2.5917000770568848, 2.719399929046631, 2.5943000316619873, 2.353100061416626, 2.402400016784668, 2.4121999740600586, 2.103800058364868, 2.2741000652313232, 2.510200023651123, 2.343100070953369, 1.3179999589920044, 0.7735999822616577, 2.9683001041412354, 2.9677999019622803, 2.967600107192993, 2.967600107192993, 2.967400074005127, 2.9672999382019043, 2.9670000076293945, 2.9670000076293945, 2.966900110244751, 2.966900110244751, 2.966599941253662, 2.966599941253662, 2.9665000438690186, 2.9665000438690186, 2.966399908065796, 2.9663000106811523, 2.9663000106811523, 2.966099977493286, 2.966099977493286, 2.966099977493286, 2.9660000801086426, 2.9660000801086426, 2.9660000801086426, 2.96589994430542, 2.96589994430542, 2.96589994430542, 2.96589994430542, 2.9656999111175537, 2.965399980545044, 2.9653000831604004, 2.9368999004364014, 2.9368999004364014, 2.824399948120117, 2.8427000045776367, 2.637700080871582, 2.6721999645233154, 2.626199960708618, 2.3984999656677246, 2.8397998809814453, 2.8150999546051025, 2.5971999168395996, 2.3345999717712402, 2.34689998626709, 1.8244999647140503, 1.6576000452041626, 2.3127999305725098, 3.848599910736084, 3.848099946975708, 3.8480000495910645, 3.847599983215332, 3.8473000526428223, 3.8469998836517334, 3.846400022506714, 3.8459999561309814, 3.8457000255584717, 3.8452999591827393, 3.8443000316619873, 3.8441998958587646, 3.844099998474121, 3.8438000679016113, 3.8434998989105225, 3.8413000106811523, 3.8406999111175537, 3.839900016784668, 3.839900016784668, 3.8396999835968018, 3.83870005607605, 3.8376998901367188, 3.8369998931884766, 3.8357999324798584, 3.835400104522705, 3.8327999114990234, 3.830699920654297, 3.829900026321411, 3.829200029373169, 3.827699899673462, 3.7876999378204346, 3.7648000717163086, 3.2328999042510986, 3.311500072479248, 3.045099973678589, 3.329200029373169, 2.606300115585327, 3.021199941635132, 2.365299940109253, 3.1389000415802, 2.663800001144409, 2.0172998905181885, 3.1415998935699463, 2.289900064468384, 3.041599988937378, 1.760699987411499, 2.287899971008301, 3.945499897003174, 3.9453999996185303, 3.945199966430664, 3.944999933242798, 3.944000005722046, 3.9437999725341797, 3.943700075149536, 3.943700075149536, 3.9435999393463135, 3.9433000087738037, 3.9433000087738037, 3.942699909210205, 3.942500114440918, 3.9419000148773193, 3.9416000843048096, 3.941499948501587, 3.9407999515533447, 3.940500020980835, 3.940200090408325, 3.940200090408325, 3.9398000240325928, 3.93969988822937, 3.937999963760376, 3.9377999305725098, 3.937299966812134, 3.9361000061035156, 3.9351000785827637, 3.9347000122070312, 3.9346001148223877, 3.934499979019165, 3.8176000118255615, 3.7816998958587646, 3.552799940109253, 3.760499954223633, 3.451900005340576, 3.5058000087738037, 3.4124999046325684, 2.914299964904785, 3.352400064468384, 2.9375, 2.8443000316619873, 0.8349000215530396, 1.806399941444397, 1.805799961090088, 3.9507999420166016, 3.950700044631958, 3.950500011444092, 3.9500999450683594, 3.950000047683716, 3.9495999813079834, 3.9489998817443848, 3.9489998817443848, 3.948899984359741, 3.948199987411499, 3.9475998878479004, 3.946500062942505, 3.9458999633789062, 3.9453999996185303, 3.9453999996185303, 3.94320011138916, 3.9421000480651855, 3.941699981689453, 3.9388999938964844, 3.9381000995635986, 3.9370999336242676, 3.9368999004364014, 3.9351999759674072, 3.934499979019165, 3.9339001178741455, 3.9323999881744385, 3.9314000606536865, 3.9303998947143555, 3.9291000366210938, 3.927999973297119, 3.858099937438965, 3.7058000564575195, 3.775599956512451, 3.5179998874664307, 3.386399984359741, 3.2383999824523926, 3.453000068664551, 3.1691999435424805, 3.7843000888824463, 2.6133999824523926, 2.5687999725341797, 2.565200090408325, 2.877500057220459, 2.4691998958587646, 1.8277000188827515, 2.283600091934204, 1.6579999923706055, 1.6375999450683594, 4.250999927520752, 4.250500202178955, 4.248899936676025, 4.248799800872803, 4.248700141906738, 4.248600006103516, 4.2484002113342285, 4.248300075531006, 4.248000144958496, 4.247900009155273, 4.247900009155273, 4.247900009155273, 4.247499942779541, 4.247499942779541, 4.247000217437744, 4.246799945831299, 4.246600151062012, 4.246399879455566, 4.246099948883057, 4.2453999519348145, 4.244800090789795, 4.244500160217285, 4.24429988861084, 4.24429988861084, 4.24370002746582, 4.2434000968933105, 4.243199825286865, 4.243000030517578, 4.242300033569336, 4.242199897766113, 3.6273000240325928, 3.5964999198913574, 3.146899938583374, 3.5016000270843506, 2.9149999618530273, 1.4113999605178833, 4.462800025939941, 4.462100028991699, 4.4618000984191895, 4.461699962615967, 4.4604997634887695, 4.459799766540527, 4.459000110626221, 4.458899974822998, 4.4583001136779785, 4.457499980926514, 4.457099914550781, 4.456900119781494, 4.456699848175049, 4.456600189208984, 4.456399917602539, 4.456200122833252, 4.455599784851074, 4.4552001953125, 4.454100131988525, 4.45389986038208, 4.453499794006348, 4.452400207519531, 4.452300071716309, 4.450799942016602, 4.449699878692627, 4.44950008392334, 4.4456000328063965, 4.441999912261963, 4.438199996948242, 4.436600208282471, 3.5023000240325928, 3.4921000003814697, 2.9154000282287598, 4.565800189971924, 4.565700054168701, 4.5644001960754395, 4.563799858093262, 4.5625, 4.560500144958496, 4.560299873352051, 4.558000087738037, 4.553400039672852, 4.5528998374938965, 4.552700042724609, 4.543399810791016, 4.541600227355957, 4.538099765777588, 4.534200191497803, 4.525400161743164, 4.52269983291626, 4.511000156402588, 4.503900051116943, 4.459199905395508, 4.4532999992370605, 4.448599815368652, 4.442999839782715, 4.416600227355957, 4.407299995422363, 4.373700141906738, 4.352200031280518, 4.069399833679199, 3.900099992752075, 3.680500030517578, 3.321700096130371, 3.2337000370025635, 3.210599899291992, 3.050600051879883, 2.790800094604492, 2.0966999530792236, 2.8647000789642334, 3.45740008354187, 2.550299882888794, 1.6059999465942383, 4.632999897003174, 4.6315999031066895, 4.63129997253418, 4.63070011138916, 4.629700183868408, 4.6269001960754395, 4.626800060272217, 4.626500129699707, 4.626399993896484, 4.626100063323975, 4.624899864196777, 4.624899864196777, 4.621500015258789, 4.620999813079834, 4.620500087738037, 4.61959981918335, 4.618599891662598, 4.618299961090088, 4.614299774169922, 4.610400199890137, 4.610199928283691, 4.604899883270264, 4.603499889373779, 4.601900100708008, 4.5991997718811035, 4.598100185394287, 4.594099998474121, 4.592299938201904, 4.5833001136779785, 4.580699920654297, 2.7181999683380127, 3.5420000553131104, 3.123500108718872, 3.364500045776367, 2.4361000061035156, 3.10479998588562, 2.63700008392334, 3.55049991607666, 1.8868999481201172, 2.4512999057769775, 0.741599977016449, 4.726900100708008, 4.726200103759766, 4.725900173187256, 4.725900173187256, 4.725599765777588, 4.724999904632568, 4.724800109863281, 4.724699974060059, 4.723400115966797, 4.721399784088135, 4.720300197601318, 4.717800140380859, 4.71619987487793, 4.714200019836426, 4.714099884033203, 4.713900089263916, 4.710599899291992, 4.70989990234375, 4.709499835968018, 4.709199905395508, 4.708700180053711, 4.703800201416016, 4.689300060272217, 4.686100006103516, 4.652400016784668, 4.6367998123168945, 4.576900005340576, 4.486000061035156, 3.8838000297546387, 3.7190001010894775, 3.410099983215332, 3.421799898147583, 2.856100082397461, 1.0953999757766724, 4.964000225067139, 4.964000225067139, 4.963900089263916, 4.9633002281188965, 4.9629998207092285, 4.962100028991699, 4.9618000984191895, 4.961400032043457, 4.960100173950195, 4.958399772644043, 4.957699775695801, 4.957600116729736, 4.957399845123291, 4.956999778747559, 4.956900119781494, 4.954500198364258, 4.95419979095459, 4.953700065612793, 4.953000068664551, 4.951300144195557, 4.951099872589111, 4.940700054168701, 4.9359002113342285, 4.932400226593018, 4.930300235748291, 4.9274001121521, 4.922399997711182, 4.912600040435791, 4.904099941253662, 4.899799823760986, 4.345099925994873, 5.402400016784668, 5.402100086212158, 5.400000095367432, 5.399600028991699, 5.399400234222412, 5.398799896240234, 5.397600173950195, 5.397200107574463, 5.395599842071533, 5.392899990081787, 5.390900135040283, 5.389200210571289, 5.388800144195557, 5.388599872589111, 5.387800216674805, 5.381999969482422, 5.3780999183654785, 5.376200199127197, 5.373199939727783, 5.367599964141846, 5.363800048828125, 5.35830020904541, 5.355199813842773, 5.338799953460693, 3.422600030899048, 1.9973000288009644, 1.9972000122070312, 1.9972000122070312, 1.9972000122070312, 1.9970999956130981, 5.582300186157227, 5.581500053405762, 5.58050012588501, 5.57919979095459, 5.577000141143799, 5.575500011444092, 5.575300216674805, 5.57480001449585, 5.574399948120117, 5.57390022277832, 5.572000026702881, 5.565999984741211, 5.562399864196777, 5.55210018157959, 5.548999786376953, 5.548600196838379, 5.546299934387207, 5.534800052642822, 5.500800132751465, 5.499599933624268, 5.499599933624268, 5.497399806976318, 5.47790002822876, 5.4721999168396, 2.4514999389648438, 2.359299898147583, 2.3592000007629395, 2.3592000007629395, 2.3592000007629395, 2.3592000007629395, 2.3592000007629395, 2.359100103378296, 5.696899890899658, 5.696199893951416, 5.696100234985352, 5.694699764251709, 5.69189977645874, 5.691400051116943, 5.690999984741211, 5.688799858093262, 5.688700199127197, 5.677700042724609, 5.676300048828125, 5.660399913787842, 5.656899929046631, 5.655200004577637, 5.654399871826172, 5.6529998779296875, 5.645899772644043, 5.642899990081787, 5.616799831390381, 5.592700004577637, 5.5524001121521, 3.6473000049591064, 2.763200044631958, 2.3965001106262207, 2.3965001106262207, 2.3965001106262207, 2.3965001106262207, 2.3965001106262207, 2.3965001106262207, 2.3965001106262207, 2.3965001106262207, 2.396399974822998, 2.396399974822998, 6.586900234222412, 6.582399845123291, 6.577899932861328, 6.56689977645874, 6.5578999519348145, 6.556600093841553, 6.555099964141846, 6.548399925231934, 6.461599826812744, 6.448599815368652, 6.409999847412109, 6.387599945068359, 6.382299900054932, 5.973999977111816, 2.721299886703491, 2.721299886703491, 2.7211999893188477, 2.7211999893188477, 2.7211999893188477, 2.7211999893188477, 2.7211999893188477, 2.7211999893188477, 2.7211999893188477, 2.7211999893188477, 2.7211999893188477, 2.7211999893188477, 2.7211999893188477, 2.7211999893188477, 2.7211999893188477, 2.7211999893188477, 2.721100091934204, 2.721100091934204, 2.721100091934204, 2.721100091934204]}, \"token.table\": {\"Topic\": [1, 15, 17, 7, 2, 7, 10, 17, 19, 2, 3, 4, 1, 11, 12, 1, 4, 6, 7, 13, 1, 2, 3, 4, 6, 7, 10, 12, 18, 13, 1, 2, 8, 2, 6, 8, 6, 6, 9, 18, 2, 3, 9, 1, 8, 4, 9, 13, 9, 1, 2, 16, 16, 4, 9, 4, 10, 5, 20, 2, 4, 6, 10, 7, 5, 15, 1, 2, 1, 3, 6, 1, 2, 16, 1, 8, 8, 2, 20, 2, 4, 6, 10, 15, 7, 4, 14, 6, 9, 8, 8, 13, 16, 11, 2, 6, 7, 15, 2, 7, 14, 1, 2, 3, 4, 6, 7, 1, 2, 6, 19, 14, 5, 6, 8, 3, 4, 9, 13, 18, 1, 3, 4, 7, 1, 3, 1, 8, 19, 2, 1, 9, 15, 8, 8, 8, 4, 9, 9, 1, 8, 9, 8, 5, 8, 4, 1, 3, 9, 14, 13, 2, 4, 10, 10, 13, 10, 5, 1, 2, 7, 7, 3, 15, 10, 10, 19, 19, 19, 2, 6, 1, 3, 11, 12, 11, 13, 15, 4, 10, 8, 6, 17, 12, 13, 12, 16, 8, 3, 6, 1, 2, 3, 4, 7, 1, 4, 9, 3, 13, 4, 3, 9, 5, 7, 12, 1, 7, 12, 12, 17, 4, 9, 4, 14, 16, 19, 7, 12, 1, 2, 5, 2, 7, 4, 6, 11, 15, 5, 1, 14, 19, 1, 13, 20, 17, 4, 8, 18, 11, 15, 14, 16, 1, 1, 3, 11, 15, 19, 9, 17, 2, 12, 16, 2, 3, 5, 1, 12, 4, 10, 6, 6, 1, 4, 15, 5, 12, 10, 1, 11, 16, 2, 12, 3, 20, 12, 8, 2, 10, 17, 4, 1, 2, 3, 5, 7, 14, 5, 8, 12, 12, 12, 19, 9, 15, 1, 3, 4, 19, 8, 8, 1, 7, 8, 19, 5, 11, 10, 11, 1, 5, 16, 16, 7, 5, 3, 11, 11, 8, 4, 3, 14, 10, 15, 2, 6, 15, 10, 6, 1, 1, 4, 11, 12, 3, 10, 14, 1, 2, 3, 10, 5, 14, 9, 13, 4, 1, 2, 3, 14, 16, 11, 5, 14, 1, 2, 3, 4, 7, 8, 10, 10, 1, 3, 4, 9, 3, 10, 5, 4, 10, 7, 10, 13, 5, 10, 9, 8, 8, 1, 2, 5, 9, 1, 2, 3, 4, 17, 13, 17, 1, 2, 18, 17, 1, 2, 3, 14, 4, 9, 3, 6, 16, 9, 12, 3, 1, 2, 4, 16, 13, 1, 1, 6, 1, 2, 3, 17, 5, 2, 3, 6, 5, 16, 7, 3, 6, 13, 19, 2, 9, 13, 2, 7, 4, 5, 1, 12, 15, 7, 10, 18, 12, 16, 18, 19, 2, 6, 7, 10, 3, 1, 8, 1, 4, 4, 2, 10, 2, 4, 10, 9, 7, 6, 15, 5, 16, 2, 16, 7, 16, 9, 11, 9, 1, 4, 8, 9, 3, 18, 4, 1, 9, 13, 13, 1, 2, 1, 10, 6, 3, 9, 8, 16, 3, 6, 8, 1, 2, 3, 9, 14, 11, 4, 1, 3, 13, 8, 14, 14, 10, 8, 4, 14, 1, 3, 4, 1, 2, 3, 6, 17, 19, 1, 9, 2, 2, 18, 2, 10, 6, 8, 1, 2, 3, 1, 2, 14, 1, 3, 6, 11, 6, 2, 10, 7, 3, 1, 2, 3, 4, 1, 9, 6, 1, 3, 4, 7, 10, 10, 9, 4, 15, 1, 2, 3, 4, 7, 10, 1, 4, 15, 17, 17, 7, 1, 7, 9, 6, 10, 2, 4, 6, 15, 14, 5, 4, 9, 1, 4, 11, 10, 15, 16, 16, 3, 6, 11, 18, 18, 20, 20, 19, 1, 2, 3, 16, 4, 9, 9, 1, 3, 4, 7, 8, 1, 7, 4, 1, 18, 3, 2, 3, 4, 6, 2, 2, 1, 2, 3, 4, 7, 2, 1, 2, 14, 2, 2, 19, 19, 9, 7, 12, 2, 3, 4, 7, 10, 10, 10, 1, 9, 2, 7, 1, 3, 5, 14, 13, 19, 20, 1, 7, 12, 4, 11, 14, 11, 2, 3, 4, 8, 12, 5, 6, 18, 6, 12, 1, 2, 3, 4, 5, 7, 8, 16, 7, 2, 17, 3, 6, 8, 9, 14, 14, 14, 1, 4, 9, 18, 6, 7, 14, 1, 4, 16, 14, 2, 17, 1, 2, 14, 13, 13, 11, 4, 14, 5, 1, 3, 10, 4, 13, 19, 1, 2, 10, 3, 7, 17, 13, 1, 7, 4, 2, 16, 4, 1, 3, 6, 4, 5, 6, 10, 11, 12, 3, 11, 7, 4, 1, 4, 8, 4, 7, 4, 11, 17, 3, 3, 13, 3, 15, 1, 2, 3, 4, 8, 16, 1, 8, 11, 9, 4, 6, 20, 12, 1, 1, 1, 8, 7, 16, 3, 5, 8, 18, 8, 4, 9, 16, 1, 2, 3, 2, 9, 7, 9, 11, 2, 3, 11, 6, 1, 15, 3, 6, 14, 10, 7, 9, 1, 11, 13, 2, 1, 2, 4, 3, 9, 11, 10, 4, 16, 18, 20, 2, 6, 13, 6, 9, 1, 2, 14, 2, 11, 5, 3, 1, 18, 10, 18, 11, 11, 11, 6, 14, 6, 8, 15, 14, 1, 2, 3, 6, 14, 4, 7, 4, 4, 1, 2, 3, 1, 2, 6, 2, 2, 10, 1, 3, 10, 20, 1, 3, 6, 7, 10, 1, 2, 3, 7, 15, 3, 20, 9, 13, 11, 7, 15, 2, 12, 11, 9, 15, 2, 3, 6, 9, 12, 2, 3, 8, 9, 10, 11, 15, 3, 7, 5, 15, 1, 3, 13, 15, 3, 4, 6, 10, 4, 9, 3, 13, 9, 1, 12, 17, 10, 10, 3, 11, 2, 17, 7, 14, 2, 12, 8, 1, 3, 4, 6, 7, 18, 2, 19, 15, 4, 6, 11, 1, 2, 3, 3, 8, 9, 13, 4, 15, 4, 14, 9, 4, 11, 2, 4, 11, 1, 2, 12, 4, 9, 6, 20, 4, 8, 10, 2, 12, 18, 18, 1, 2, 1, 16, 6, 8, 1, 13, 14, 17, 3, 13, 14, 1, 2, 3, 6, 15, 2, 6, 14, 9, 14, 17, 18, 1, 17, 17, 4, 13, 13, 8, 9, 1, 4, 8, 10, 1, 1, 2, 6, 9, 9, 13, 17, 3, 20, 10, 2, 3, 4, 6, 7, 4, 6, 7, 3, 10, 11, 10, 15, 20, 2, 12, 15, 1, 13, 7, 9, 19, 14, 14, 1, 2, 9, 18, 2, 13, 12, 1, 2, 3, 9, 13, 13, 7, 1, 2, 3, 3, 2, 3, 15, 16, 18, 4, 6, 13, 6, 16, 10, 7, 9, 1, 9, 2, 1, 4, 6, 8, 2, 3, 6, 1, 9, 4, 19, 18, 1, 2, 3, 4, 1, 2, 8, 1, 1, 3, 14, 13, 1], \"Freq\": [0.9990792870521545, 0.9140188694000244, 0.9433239698410034, 0.9981215596199036, 0.3997995853424072, 0.5300880670547485, 0.06923903524875641, 0.9501357674598694, 0.9449113607406616, 0.9984838962554932, 0.9970215559005737, 0.9973151087760925, 0.9994035363197327, 0.9963032603263855, 0.9817060232162476, 0.10672452300786972, 0.4516269564628601, 0.2739696502685547, 0.16659437119960785, 0.8798834085464478, 0.1290772259235382, 0.1776323765516281, 0.5099154710769653, 0.00708455964922905, 0.123029425740242, 0.05287500470876694, 0.00017279414169024676, 0.9860410690307617, 0.9966233968734741, 0.9632158279418945, 0.28596144914627075, 0.5029940605163574, 0.20958086848258972, 0.9972545504570007, 0.9966140985488892, 0.9881965517997742, 0.9989491105079651, 0.9980528354644775, 0.9943477511405945, 0.9707239270210266, 0.0866168737411499, 0.846637487411499, 0.06623643636703491, 0.41445550322532654, 0.5842183828353882, 0.2106509506702423, 0.2744845747947693, 0.5138606429100037, 0.9956542253494263, 0.18172553181648254, 0.8180910348892212, 0.9960445761680603, 0.9975295066833496, 0.38910403847694397, 0.6096717119216919, 0.3498043715953827, 0.6486322283744812, 0.9964641332626343, 0.8832497596740723, 0.19948051869869232, 0.054107461124658585, 0.2881385385990143, 0.4569798707962036, 0.9981282353401184, 0.9999783039093018, 0.992501974105835, 0.9719164967536926, 0.02728186547756195, 0.0030782229732722044, 0.7867937684059143, 0.20931915938854218, 0.45511260628700256, 0.5447786450386047, 0.9981057643890381, 0.7727709412574768, 0.2268364280462265, 0.9937957525253296, 0.9987455010414124, 0.8230024576187134, 0.4724001884460449, 0.01973031833767891, 0.02311265841126442, 0.05411744490265846, 0.43012094497680664, 0.9953048825263977, 0.9987115263938904, 0.9946275949478149, 0.9960880279541016, 0.9953661561012268, 0.9989849925041199, 0.9175796508789062, 0.07360264658927917, 0.961067259311676, 0.9949381351470947, 0.15240447223186493, 0.10434900969266891, 0.7428001761436462, 0.9961522817611694, 0.999356210231781, 0.9970101714134216, 0.988100528717041, 0.1885029673576355, 0.5025635957717896, 0.22713609039783478, 0.0642775148153305, 0.007326970342546701, 0.010324367322027683, 0.891083836555481, 0.04378650709986687, 0.06482677906751633, 0.9887722134590149, 0.9859300851821899, 0.9997842311859131, 0.9995855689048767, 0.9895251989364624, 0.5261855721473694, 0.17232577502727509, 0.035517528653144836, 0.2630927860736847, 0.9424031972885132, 0.07816003262996674, 0.5520880222320557, 0.31264013051986694, 0.05696409195661545, 0.21056978404521942, 0.7887444496154785, 0.9981749653816223, 0.9974785447120667, 0.9702258110046387, 0.9980485439300537, 0.6433089375495911, 0.35585832595825195, 0.9990277290344238, 0.9988622069358826, 0.9964602589607239, 0.9982693791389465, 0.9736874103546143, 0.02567160874605179, 0.9948288202285767, 0.5322129130363464, 0.44739148020744324, 0.01995798386633396, 0.9878079891204834, 0.9983674883842468, 0.9966551065444946, 0.997050404548645, 0.013440215028822422, 0.8920942544937134, 0.08232131600379944, 0.011760188266634941, 0.8565002083778381, 0.006156443152576685, 0.08208590745925903, 0.9101274609565735, 0.9985095262527466, 0.9685488343238831, 0.9982618689537048, 0.9945369362831116, 0.9862725138664246, 0.01345017272979021, 0.9965795874595642, 0.9971923232078552, 0.9890406131744385, 0.009853456169366837, 0.9947699904441833, 0.9760955572128296, 0.9260981678962708, 0.9717725515365601, 0.9847765564918518, 0.2387446165084839, 0.7604458332061768, 0.9978208541870117, 0.9972987771034241, 0.989966094493866, 0.9935116767883301, 0.992676854133606, 0.8672384023666382, 0.9597286581993103, 0.43041136860847473, 0.5676777362823486, 0.9971572756767273, 0.996649980545044, 0.985101580619812, 0.9979107975959778, 0.9954662919044495, 0.45439985394477844, 0.5381051301956177, 0.9902842044830322, 0.9929428696632385, 0.0056785945780575275, 0.7617815136909485, 0.2338322252035141, 0.0008119174162857234, 0.003450649091973901, 0.9972435235977173, 0.21523243188858032, 0.5750741362571716, 0.20850640535354614, 0.9872530698776245, 0.011206050403416157, 0.9953762888908386, 0.9877051711082458, 0.01125233806669712, 0.9972515106201172, 0.9960117936134338, 0.996449887752533, 0.47172796726226807, 0.5186136960983276, 0.008611666969954967, 0.9892685413360596, 0.9835789799690247, 0.9714668989181519, 0.027709627524018288, 0.9978306889533997, 0.9901131391525269, 0.9618659019470215, 0.9715746641159058, 0.9974533915519714, 0.9909727573394775, 0.21585048735141754, 0.7825080752372742, 0.0016018588794395328, 0.11963061988353729, 0.8791900873184204, 0.17094533145427704, 0.6989283561706543, 0.12874996662139893, 0.9896532893180847, 0.9976284503936768, 0.9992910027503967, 0.9918862581253052, 0.9887429475784302, 0.38629084825515747, 0.6095598936080933, 0.3773547410964966, 0.985561728477478, 0.4030078649520874, 0.5942310094833374, 0.9872124195098877, 0.9962214827537537, 0.9977361559867859, 0.9957953095436096, 0.9754167795181274, 0.999290943145752, 0.02577206678688526, 0.9728955626487732, 0.9966713786125183, 0.9957900047302246, 0.9560847878456116, 0.9871654510498047, 0.9946480393409729, 0.9986138939857483, 0.9982830882072449, 0.9976813197135925, 0.9986092448234558, 0.9975548982620239, 0.9979501962661743, 0.997388482093811, 0.9839382171630859, 0.6566870808601379, 0.3415888249874115, 0.999707818031311, 0.9989386796951294, 0.044321559369564056, 0.9542985558509827, 0.974118709564209, 0.9971998929977417, 0.9896873831748962, 0.9903723001480103, 0.4624929130077362, 0.5354413390159607, 0.9594139456748962, 0.9969655871391296, 0.9883472919464111, 0.9988545775413513, 0.7608780264854431, 0.9941090941429138, 0.9868029356002808, 0.8107087016105652, 0.18815378844738007, 0.9617926478385925, 0.9985843896865845, 0.2217605859041214, 0.10279031842947006, 0.6300665736198425, 0.0038070487789809704, 0.03569108247756958, 0.005710573401302099, 0.9983345866203308, 0.9929819703102112, 0.9922462105751038, 0.9991865754127502, 0.9985265135765076, 0.9139373898506165, 0.9951019883155823, 0.8220140337944031, 0.987289309501648, 0.007619933225214481, 0.004825957585126162, 0.9332594275474548, 0.9994751811027527, 0.9944731593132019, 0.29987722635269165, 0.15971721708774567, 0.539779007434845, 0.9899454116821289, 0.9973019361495972, 0.9908065795898438, 0.8423647284507751, 0.14579389989376068, 0.9988092184066772, 0.9973104000091553, 0.983837366104126, 0.9920645356178284, 0.9968883991241455, 0.9978011250495911, 0.9983033537864685, 0.9949405789375305, 0.9932300448417664, 0.9990059733390808, 0.9971292614936829, 0.9980895519256592, 0.9976415038108826, 0.9973921179771423, 0.5324870944023132, 0.1395832747220993, 0.5911762714385986, 0.2678767442703247, 0.983670711517334, 0.9980449080467224, 0.99870365858078, 0.554799497127533, 0.18063239753246307, 0.26288464665412903, 0.9995577931404114, 0.6470131278038025, 0.015046817250549793, 0.33604559302330017, 0.3447812497615814, 0.48563700914382935, 0.15084180235862732, 0.01865813136100769, 0.9955030083656311, 0.9930447340011597, 0.10890509188175201, 0.8881133794784546, 0.9963854551315308, 0.23454324901103973, 0.014822435565292835, 0.7297869920730591, 0.02034451998770237, 0.9904195666313171, 0.9945924878120422, 0.995323657989502, 0.9827172756195068, 0.07378578931093216, 0.19102823734283447, 0.011769512668251991, 0.03395051881670952, 0.564936637878418, 0.12403255701065063, 0.00045267355744726956, 0.9965246915817261, 0.011175798252224922, 0.4754794239997864, 0.1483333259820938, 0.3647374212741852, 0.9982938170433044, 0.9978364109992981, 0.9972579479217529, 0.21699175238609314, 0.781436562538147, 0.9959379434585571, 0.9839308857917786, 0.9990754127502441, 0.9967135190963745, 0.984505832195282, 0.993850827217102, 0.9721199870109558, 0.9895833730697632, 0.30353641510009766, 0.6962746977806091, 0.998137891292572, 0.9919421076774597, 0.7664492726325989, 0.07577254623174667, 0.12512440979480743, 0.03240273520350456, 0.9817575812339783, 0.9795505404472351, 0.9527847766876221, 0.9395104646682739, 0.06035219877958298, 0.9975258111953735, 0.9988964796066284, 0.5655041337013245, 0.4242967963218689, 0.006242139730602503, 0.0038802491035312414, 0.8816877603530884, 0.11749519407749176, 0.9987357258796692, 0.997728705406189, 0.9942322373390198, 0.9966717958450317, 0.9665727019309998, 0.9977808594703674, 0.4084677994251251, 0.26598840951919556, 0.3249175548553467, 0.9946631193161011, 0.9993627071380615, 0.99772047996521, 0.999325156211853, 0.9977195262908936, 0.4276430308818817, 0.5717718601226807, 0.99845951795578, 0.9922658801078796, 0.9973057508468628, 0.8628248572349548, 0.025688305497169495, 0.11106414347887039, 0.9979188442230225, 0.9923492074012756, 0.9967657327651978, 0.880929708480835, 0.11882529407739639, 0.9987120628356934, 0.9941831827163696, 0.7886670827865601, 0.04126746207475662, 0.16965512931346893, 0.9996861219406128, 0.9960654377937317, 0.9974021911621094, 0.9968322515487671, 0.9982234835624695, 0.991891086101532, 0.9967126250267029, 0.9965124130249023, 0.9993106126785278, 0.9816799163818359, 0.9948109984397888, 0.9577785134315491, 0.939074695110321, 0.9293171763420105, 0.013510037213563919, 0.0012665659887716174, 0.8650645613670349, 0.11947938799858093, 0.9986729621887207, 0.5070640444755554, 0.49152183532714844, 0.09999273717403412, 0.8982954025268555, 0.9963316321372986, 0.7720386385917664, 0.2272867113351822, 0.36962056159973145, 0.36769795417785645, 0.2624354064464569, 0.9945794939994812, 0.9980876445770264, 0.9979235529899597, 0.9881081581115723, 0.9969045519828796, 0.9505518078804016, 0.9990864992141724, 0.9972438216209412, 0.996756911277771, 0.9987530708312988, 0.9955568313598633, 0.9870573282241821, 0.9989038705825806, 0.10566096752882004, 0.8937795162200928, 0.4458913803100586, 0.5515528321266174, 0.9979313611984253, 0.8869422078132629, 0.9996544718742371, 0.2733399271965027, 0.6743386387825012, 0.05181443691253662, 0.9841036796569824, 0.7213051915168762, 0.27860987186431885, 0.9977554082870483, 0.9887201189994812, 0.9972732663154602, 0.41113266348838806, 0.5849947333335876, 0.9422398805618286, 0.053425975143909454, 0.9834714531898499, 0.015686437487602234, 0.9746986627578735, 0.3334236145019531, 0.17465047538280487, 0.378253698348999, 0.0023348992690443993, 0.11114121228456497, 0.9979665875434875, 0.9994633197784424, 0.07150807231664658, 0.913806676864624, 0.01413531694561243, 0.9844846725463867, 0.9864997267723083, 0.9802495241165161, 0.9879155158996582, 0.9897674322128296, 0.9978864789009094, 0.9625687003135681, 0.001271237269975245, 0.9623266458511353, 0.035594645887613297, 0.93925541639328, 0.06012023240327835, 0.998318612575531, 0.9964327812194824, 0.9964619278907776, 0.9558157324790955, 0.9792490601539612, 0.020176835358142853, 0.9987555146217346, 0.9999165534973145, 0.9950793385505676, 0.7496243715286255, 0.25009357929229736, 0.9955504536628723, 0.9961263537406921, 0.2599063515663147, 0.7332887053489685, 0.00648468965664506, 0.6216927170753479, 0.1564980298280716, 0.22098897397518158, 0.9984503388404846, 0.9720684885978699, 0.026953598484396935, 0.992633044719696, 0.9989745616912842, 0.9005028605461121, 0.09900106489658356, 0.9970333576202393, 0.998224675655365, 0.6836219429969788, 0.09729450941085815, 0.21391990780830383, 0.0051207635551691055, 0.8818120956420898, 0.11741648614406586, 0.9978492856025696, 0.7594686150550842, 0.15163929760456085, 0.06284379959106445, 0.007123993709683418, 0.018573269248008728, 0.9954325556755066, 0.9833827614784241, 0.9971741437911987, 0.9883584380149841, 0.46726229786872864, 0.06598742306232452, 0.3542194068431854, 0.03292511776089668, 0.05857927352190018, 0.020852575078606606, 0.8430246710777283, 0.156518816947937, 0.9944701790809631, 0.9907947778701782, 0.9838723540306091, 0.9966940879821777, 0.18485474586486816, 0.6895568370819092, 0.12526342272758484, 0.9990514516830444, 0.9942031502723694, 0.6365847587585449, 0.3419434726238251, 0.02051660791039467, 0.9848944544792175, 0.9784088134765625, 0.997788667678833, 0.35407280921936035, 0.6435909271240234, 0.9873640537261963, 0.01202769111841917, 0.9972847104072571, 0.21343490481376648, 0.7846871614456177, 0.9881604313850403, 0.952426016330719, 0.9991169571876526, 0.9974902272224426, 0.9947029948234558, 0.9978061318397522, 0.9946160912513733, 0.9730728268623352, 0.9911540150642395, 0.9945443272590637, 0.4832974672317505, 0.22117474675178528, 0.2952710688114166, 0.9933676719665527, 0.12013185769319534, 0.8791468143463135, 0.9867589473724365, 0.5423414707183838, 0.00043180055217817426, 0.10751833766698837, 0.3182370066642761, 0.03065783903002739, 0.2896213233470917, 0.7093706727027893, 0.9966778755187988, 0.9975405335426331, 0.887125551700592, 0.9977037310600281, 0.8213992714881897, 0.03000221773982048, 0.07465118914842606, 0.0737062320113182, 0.9989156126976013, 0.9981635212898254, 0.9996969103813171, 0.7373916506767273, 0.048838142305612564, 0.13591140508651733, 0.07775546610355377, 0.9979326128959656, 0.25893381237983704, 0.6049166321754456, 0.13573738932609558, 0.9983676671981812, 0.9996921420097351, 0.9892979860305786, 0.9964073896408081, 0.9932470917701721, 0.996796190738678, 0.9933154582977295, 0.2830233871936798, 0.4421808123588562, 0.002075966214761138, 0.2695296108722687, 0.003113949205726385, 0.9982480406761169, 0.9822028875350952, 0.9977400302886963, 0.9976652264595032, 0.9977145791053772, 0.9974395036697388, 0.09886793047189713, 0.8996090888977051, 0.9980277419090271, 0.9713907837867737, 0.9413519501686096, 0.05417852848768234, 0.9413453340530396, 0.11797787249088287, 0.8814769983291626, 0.9821276664733887, 0.9964214563369751, 0.6546301245689392, 0.33841049671173096, 0.9970986843109131, 0.9997493028640747, 0.8087220788002014, 0.10918138176202774, 0.08110617101192474, 0.9972038269042969, 0.9976614117622375, 0.9542300701141357, 0.0438007228076458, 0.9984135031700134, 0.9824813008308411, 0.08654631674289703, 0.0772259384393692, 0.523716151714325, 0.17398028075695038, 0.0066574085503816605, 0.0443827249109745, 0.08654631674289703, 0.9736457467079163, 0.9958911538124084, 0.998691737651825, 0.9986774921417236, 0.9992791414260864, 0.9974991083145142, 0.14752675592899323, 0.848278820514679, 0.9947921633720398, 0.9907562732696533, 0.9922165870666504, 0.9186637997627258, 0.036673981696367264, 0.04444938153028488, 0.986754834651947, 0.9967314004898071, 0.7158241271972656, 0.2811322510242462, 0.5821570158004761, 0.41727206110954285, 0.9850694537162781, 0.9451133012771606, 0.9986631274223328, 0.9906591176986694, 0.29673275351524353, 0.4844958484172821, 0.2162628471851349, 0.8203495740890503, 0.9935644865036011, 0.9967976808547974, 0.030579006299376488, 0.9686107039451599, 0.9993212819099426, 0.7472134232521057, 0.25237375497817993, 0.9914197325706482, 0.8157384395599365, 0.18192727863788605, 0.9960442781448364, 0.11893922090530396, 0.8808935880661011, 0.9894127249717712, 0.9212237000465393, 0.07854022830724716, 0.9871834516525269, 0.9746739268302917, 0.1404830664396286, 0.8578832149505615, 0.997802734375, 0.9993307590484619, 0.9950354695320129, 0.997504472732544, 0.28514209389686584, 0.11700840294361115, 0.597428023815155, 0.9977721571922302, 0.996401846408844, 0.6276189088821411, 0.10073381662368774, 0.0582367405295372, 0.21287889778614044, 0.4789941906929016, 0.5199133157730103, 0.997210681438446, 0.9986942410469055, 0.4251677989959717, 0.13758745789527893, 0.4364454448223114, 0.28170543909072876, 0.7178120613098145, 0.999112606048584, 0.9930415749549866, 0.9646899700164795, 0.9981960654258728, 0.7400738596916199, 0.2571035921573639, 0.9984145760536194, 0.9821673035621643, 0.20260421931743622, 0.5349699854850769, 0.04573841020464897, 0.05624130368232727, 0.1602538377046585, 0.9834026098251343, 0.5043402314186096, 0.4924454391002655, 0.9942139983177185, 0.9877934455871582, 0.7176550626754761, 0.28131258487701416, 0.9616403579711914, 0.9833188652992249, 0.9979224801063538, 0.9983851909637451, 0.7109915018081665, 0.2885770797729492, 0.9987474083900452, 0.9599084258079529, 0.9978391528129578, 0.9941568970680237, 0.9932143092155457, 0.9873326420783997, 0.9978746771812439, 0.9390518069267273, 0.0382685661315918, 0.020606152713298798, 0.9843178987503052, 0.01475247461348772, 0.9981316328048706, 0.9667595624923706, 0.032633233815431595, 0.968421459197998, 0.030709529295563698, 0.9953051805496216, 0.2847174108028412, 0.3835941553115845, 0.33117756247520447, 0.9955732822418213, 0.996800422668457, 0.9881744980812073, 0.9884452819824219, 0.010783039033412933, 0.9694730639457703, 0.9848451614379883, 0.9682915210723877, 0.030548393726348877, 0.9965978860855103, 0.9964243769645691, 0.98801189661026, 0.997223973274231, 0.6321333646774292, 0.00028044957434758544, 0.36766940355300903, 0.9976756572723389, 0.9966087341308594, 0.9947410821914673, 0.9861636161804199, 0.9960508346557617, 0.9891764521598816, 0.888886034488678, 0.950787365436554, 0.002519992645829916, 0.9125973582267761, 0.08459975570440292, 0.9972883462905884, 0.9934301376342773, 0.9653996825218201, 0.03419998660683632, 0.9634139537811279, 0.9987066388130188, 0.9970045685768127, 0.9976311326026917, 0.9976339936256409, 0.9999104738235474, 0.9889781475067139, 0.9943645596504211, 0.9739333391189575, 0.9944095611572266, 0.9985112547874451, 0.9967087507247925, 0.9984372854232788, 0.9493142366409302, 0.9988770484924316, 0.9964172840118408, 0.9960325360298157, 0.9983126521110535, 0.09097464382648468, 0.025314683094620705, 0.7404544949531555, 0.0783172994852066, 0.06407779455184937, 0.9957062005996704, 0.9978203773498535, 0.9977975487709045, 0.9980987310409546, 0.9491699934005737, 0.04351034015417099, 0.007341250777244568, 0.9106729030609131, 0.08567070960998535, 0.0033728627022355795, 0.999320387840271, 0.7484513521194458, 0.2509455978870392, 0.9994989633560181, 0.9987425208091736, 0.9977073669433594, 0.9885164499282837, 0.1854209303855896, 0.10260652750730515, 0.6338687539100647, 0.008854370564222336, 0.06875158101320267, 0.044395990669727325, 0.07029365003108978, 0.34869351983070374, 0.5364515781402588, 0.9831251502037048, 0.9978289604187012, 0.7785577178001404, 0.10411494970321655, 0.892413854598999, 0.9924009442329407, 0.995667576789856, 0.9777889251708984, 0.620021641254425, 0.37813666462898254, 0.988361656665802, 0.986081063747406, 0.9982657432556152, 0.014477785676717758, 0.9844894409179688, 0.9989212155342102, 0.997893214225769, 0.9955862760543823, 0.9989462494850159, 0.438651442527771, 0.050858136266469955, 0.020227668806910515, 0.49008750915527344, 0.9989239573478699, 0.9895146489143372, 0.9990726709365845, 0.9968271851539612, 0.9979304075241089, 0.998298168182373, 0.9987009167671204, 0.6611905694007874, 0.3273220658302307, 0.9484553337097168, 0.9984720349311829, 0.582017183303833, 0.4158758223056793, 0.0020898282527923584, 0.9958434104919434, 0.0038778947200626135, 0.7106374502182007, 0.28758934140205383, 0.9891268610954285, 0.9987155199050903, 0.9913914799690247, 0.9514631032943726, 0.9861494302749634, 0.9844833016395569, 0.9851810336112976, 0.013580190017819405, 0.999004065990448, 0.9818475246429443, 0.9982056021690369, 0.9840098023414612, 0.9979404807090759, 0.9975327849388123, 0.9874063730239868, 0.06307993829250336, 0.06307993829250336, 0.27428507804870605, 0.5519494414329529, 0.04730995371937752, 0.9515964388847351, 0.8684290647506714, 0.1295025795698166, 0.9517949223518372, 0.22661958634853363, 0.7583379149436951, 0.014769953675568104, 0.8051888346672058, 0.012414805591106415, 0.18200992047786713, 0.9746587872505188, 0.024533744901418686, 0.04739869758486748, 0.9479739665985107, 0.9964537620544434, 0.9972413778305054, 0.9967706203460693, 0.9992147088050842, 0.9838231801986694, 0.5238425135612488, 0.47357478737831116, 0.40929341316223145, 0.5002475380897522, 0.08923798054456711, 0.9847540855407715, 0.014754045754671097, 0.9893898963928223, 0.16717876493930817, 0.8279328942298889, 0.9990970492362976, 0.954169511795044, 0.1902793049812317, 0.19998744130134583, 0.6077288389205933, 0.9995492696762085, 0.9882004261016846, 0.931349515914917, 0.9750158190727234, 0.9986355900764465, 0.0011431268649175763, 0.9998686909675598, 0.9923351407051086, 0.9957374334335327, 0.9962337017059326, 0.8651446104049683, 0.1329258680343628, 0.9698668122291565, 0.9942699670791626, 0.17061735689640045, 0.8236700296401978, 0.9494639039039612, 0.6636124849319458, 0.13617196679115295, 0.18298621475696564, 0.016918834298849106, 0.9751226902008057, 0.6883761882781982, 0.19718194007873535, 0.11267539113759995, 0.9951943755149841, 0.9967480301856995, 0.9842773079872131, 0.9782655835151672, 0.8594233989715576, 0.13685086369514465, 0.9955606460571289, 0.9981023073196411, 0.9821295142173767, 0.9942840933799744, 0.9901830554008484, 0.9954772591590881, 0.7708288431167603, 0.018368147313594818, 0.21028362214565277, 0.9971630573272705, 0.9990174770355225, 0.553960382938385, 0.3906453847885132, 0.054942384362220764, 0.9967411756515503, 0.9965152740478516, 0.9488124251365662, 0.9950565695762634, 0.9984146356582642, 0.9786431193351746, 0.9975833296775818, 0.23920387029647827, 0.07278632372617722, 0.21067026257514954, 0.46559324860572815, 0.011618473567068577, 0.09124194830656052, 0.861367404460907, 0.04562097415328026, 0.9980126023292542, 0.991872251033783, 0.994693398475647, 0.8389053344726562, 0.15252824127674103, 0.9105647206306458, 0.590343713760376, 0.3830474615097046, 0.025912033393979073, 0.566010594367981, 0.4009242057800293, 0.9983611106872559, 0.9971961379051208, 0.9333543181419373, 0.9829971790313721, 0.9740347266197205, 0.4439527988433838, 0.5557934641838074, 0.9978888630867004, 0.988859236240387, 0.7782041430473328, 0.2202112376689911, 0.9949215054512024, 0.8359996676445007, 0.022058691829442978, 0.13656561076641083, 0.005204860121011734, 0.9966660737991333, 0.9741254448890686, 0.9973391890525818, 0.7421085834503174, 0.04840697720646858, 0.20923668146133423, 0.9989429712295532, 0.027720816433429718, 0.6999505758285522, 0.2702779471874237, 0.9902277588844299, 0.9085419774055481, 0.9974411725997925, 0.1920105218887329, 0.8068225383758545, 0.9995740652084351, 0.9965653419494629, 0.9776471853256226, 0.998495876789093, 0.9977997541427612, 0.6671248078346252, 0.3313533663749695, 0.9989072680473328, 0.684232234954834, 0.006328159477561712, 0.002373059745877981, 0.30533367395401, 0.3317420184612274, 0.4557492434978485, 0.21226057410240173, 0.9459649920463562, 0.052925802767276764, 0.9963392019271851, 0.9626684784889221, 0.9542152881622314, 0.8241254091262817, 0.16567550599575043, 0.007165623363107443, 0.002992238150909543, 0.23494195938110352, 0.7649503350257874, 0.9928774237632751, 0.9992476105690002, 0.028243660926818848, 0.8243207931518555, 0.14734871685504913, 0.99213045835495, 0.9984354376792908], \"Term\": [\"accept\", \"acceptance\", \"accidentally\", \"addition\", \"address\", \"address\", \"address\", \"adequately\", \"adjust\", \"advance\", \"advice\", \"agency\", \"agree\", \"air\", \"allocate\", \"allow\", \"allow\", \"allow\", \"allow\", \"along\", \"also\", \"also\", \"also\", \"also\", \"also\", \"also\", \"also\", \"angel\", \"animal\", \"annoy\", \"answer\", \"answer\", \"answer\", \"anyway\", \"apple\", \"applicable\", \"application\", \"appreciate\", \"arab\", \"arbitrary\", \"area\", \"area\", \"area\", \"argument\", \"argument\", \"arm\", \"arm\", \"arm\", \"armenian\", \"article\", \"article\", \"atheism\", \"atheist\", \"attack\", \"attack\", \"author\", \"author\", \"auto\", \"automate\", \"available\", \"available\", \"available\", \"available\", \"avoid\", \"ax\", \"backup\", \"bad\", \"bad\", \"base\", \"base\", \"base\", \"be\", \"be\", \"belief\", \"believe\", \"believe\", \"biblical\", \"bike\", \"birthday\", \"bit\", \"bit\", \"bit\", \"bit\", \"bit\", \"blank\", \"block\", \"blue\", \"board\", \"bomb\", \"book\", \"bother\", \"bother\", \"boundary\", \"boy\", \"build\", \"build\", \"build\", \"bus\", \"buy\", \"cable\", \"cage\", \"call\", \"call\", \"call\", \"call\", \"call\", \"call\", \"can\", \"can\", \"can\", \"cap\", \"captain\", \"car\", \"card\", \"careful\", \"carry\", \"carry\", \"carry\", \"carry\", \"cart\", \"case\", \"case\", \"case\", \"case\", \"cause\", \"cause\", \"certainly\", \"character\", \"characteristic\", \"cheap\", \"child\", \"child\", \"chip\", \"christian\", \"christianity\", \"church\", \"citizen\", \"citizen\", \"civilian\", \"claim\", \"claim\", \"claim\", \"classic\", \"clean\", \"clearly\", \"clipper\", \"close\", \"close\", \"close\", \"close\", \"cock\", \"code\", \"code\", \"code\", \"color\", \"colt\", \"com\", \"combine\", \"come\", \"come\", \"communication\", \"community\", \"compare\", \"compare\", \"compile\", \"compiler\", \"complexity\", \"compress\", \"compute\", \"computer\", \"computer\", \"conclusion\", \"condition\", \"conference\", \"configuration\", \"confirm\", \"confrontation\", \"consent\", \"contain\", \"contain\", \"context\", \"convert\", \"conviction\", \"cool\", \"cop\", \"core\", \"core\", \"corner\", \"cost\", \"cost\", \"could\", \"could\", \"could\", \"could\", \"count\", \"country\", \"country\", \"country\", \"couple\", \"couple\", \"court\", \"cover\", \"cover\", \"coverage\", \"cpu\", \"crash\", \"create\", \"create\", \"create\", \"creator\", \"creature\", \"crime\", \"crime\", \"criminal\", \"cross\", \"cubic\", \"curve\", \"cycle\", \"cylinder\", \"d\", \"d\", \"d\", \"date\", \"date\", \"datum\", \"datum\", \"datum\", \"daughter\", \"dealer\", \"death\", \"decent\", \"default\", \"defense\", \"defense\", \"defenseless\", \"deliver\", \"deny\", \"deny\", \"depth\", \"development\", \"device\", \"devil\", \"dialog\", \"die\", \"difference\", \"difference\", \"digital\", \"direct\", \"disable\", \"disarm\", \"disease\", \"disk\", \"display\", \"distribution\", \"distribution_usa\", \"division\", \"door\", \"doubt\", \"download\", \"draw\", \"draw\", \"drive\", \"driver\", \"drug\", \"drug\", \"dry\", \"dual\", \"dump\", \"duo\", \"earth\", \"earth\", \"ease\", \"eat\", \"edit\", \"effect\", \"elderly\", \"electrical\", \"elsewhere\", \"email\", \"email\", \"emphasis\", \"encryption\", \"end\", \"end\", \"end\", \"end\", \"end\", \"end\", \"engine\", \"enjoy\", \"entity\", \"entry\", \"error\", \"escalate\", \"escape\", \"esdi\", \"even\", \"even\", \"even\", \"everytime\", \"evidence\", \"excuse\", \"exist\", \"exist\", \"exist\", \"expansion\", \"expensive\", \"experiment\", \"expire\", \"expire\", \"explain\", \"export\", \"exposure\", \"extension\", \"external\", \"extra\", \"face\", \"facility\", \"factory\", \"faith\", \"false\", \"family\", \"fan\", \"faq\", \"fasst\", \"fast\", \"fast\", \"fast\", \"fate\", \"feature\", \"feel\", \"field\", \"field\", \"field\", \"file\", \"final\", \"final\", \"final\", \"find\", \"find\", \"find\", \"find\", \"finger\", \"finish\", \"fire\", \"fire\", \"firearm\", \"first\", \"first\", \"first\", \"first\", \"fish\", \"flight\", \"floor\", \"flyer\", \"follow\", \"follow\", \"follow\", \"follow\", \"follow\", \"follow\", \"follow\", \"font\", \"force\", \"force\", \"force\", \"force\", \"forget\", \"format\", \"fuel\", \"function\", \"function\", \"future\", \"fuzzy\", \"game\", \"gas\", \"generic\", \"genocide\", \"gentile\", \"german\", \"get\", \"get\", \"gift\", \"girl\", \"give\", \"give\", \"give\", \"give\", \"glad\", \"glass\", \"glory\", \"go\", \"go\", \"goal\", \"god\", \"good\", \"good\", \"good\", \"good\", \"government\", \"government\", \"grant\", \"graphic\", \"greatly_appreciate\", \"greek\", \"grip\", \"ground\", \"group\", \"group\", \"group\", \"guilty\", \"gun\", \"guy\", \"happen\", \"hardware\", \"have\", \"have\", \"head\", \"health\", \"heat\", \"help\", \"help\", \"help\", \"here\", \"hi\", \"hide\", \"high\", \"high\", \"hit\", \"hole\", \"home\", \"home\", \"home\", \"host\", \"hot\", \"house\", \"huge\", \"human\", \"icon\", \"ide\", \"ignore\", \"image\", \"imho\", \"implementation\", \"inappropriate\", \"incidentally\", \"incline\", \"include\", \"include\", \"include\", \"include\", \"increase\", \"indeed\", \"indeed\", \"individual\", \"individual\", \"industry\", \"info\", \"info\", \"information\", \"information\", \"information\", \"inhabitant\", \"input\", \"instal\", \"installation\", \"insurance\", \"integration\", \"interested\", \"interface\", \"internal\", \"internet\", \"invasion\", \"investigation\", \"israeli\", \"issue\", \"issue\", \"jewish\", \"jewish\", \"job\", \"jubilees_re\", \"key\", \"kill\", \"kill\", \"kill\", \"knock\", \"know\", \"know\", \"knowledge\", \"label\", \"laboratory\", \"land\", \"land\", \"language\", \"language\", \"large\", \"large\", \"largely\", \"last\", \"last\", \"last\", \"last\", \"last\", \"launch\", \"law\", \"lead\", \"lead\", \"lead\", \"leadership\", \"leafs\", \"leak\", \"leather\", \"left\", \"legal\", \"lemieux\", \"less\", \"less\", \"less\", \"let\", \"let\", \"level\", \"library\", \"license\", \"licensing\", \"life\", \"life\", \"light\", \"line\", \"link\", \"list\", \"list\", \"load\", \"logic\", \"look\", \"look\", \"look\", \"lose\", \"lose\", \"lose\", \"love\", \"low\", \"low\", \"lunar\", \"machine\", \"mail\", \"mail\", \"main\", \"major\", \"make\", \"make\", \"make\", \"make\", \"man\", \"man\", \"manager\", \"many\", \"many\", \"many\", \"many\", \"many\", \"map\", \"massacre\", \"master\", \"maximum\", \"may\", \"may\", \"may\", \"may\", \"may\", \"may\", \"mean\", \"mean\", \"meaning\", \"medical\", \"medicine\", \"meet\", \"member\", \"member\", \"member\", \"memory\", \"mercy\", \"message\", \"message\", \"message\", \"meter\", \"mid\", \"mile\", \"military\", \"military\", \"mind\", \"mind\", \"mission\", \"mode\", \"mode\", \"modem\", \"module\", \"money\", \"monitor\", \"moon\", \"moral\", \"morality\", \"moslem\", \"motif\", \"mouse\", \"much\", \"much\", \"much\", \"multiple\", \"murder\", \"murder\", \"muslim\", \"must\", \"must\", \"must\", \"must\", \"must\", \"name\", \"name\", \"national\", \"nature\", \"nec_zx\", \"necessary\", \"need\", \"need\", \"need\", \"need\", \"net\", \"network\", \"never\", \"new\", \"new\", \"new\", \"new\", \"news\", \"next\", \"next\", \"next\", \"nice\", \"nntp_poste\", \"noise\", \"normal\", \"northern\", \"notice\", \"nuclear\", \"number\", \"number\", \"number\", \"number\", \"number\", \"object\", \"observer\", \"obviously\", \"occupy\", \"office\", \"official\", \"often\", \"often\", \"oil\", \"oiler\", \"ok\", \"ok\", \"okay\", \"open\", \"open\", \"openwindow\", \"operate\", \"opportunity\", \"opportunity\", \"orbit\", \"organization\", \"other\", \"other\", \"other\", \"output\", \"own\", \"pack\", \"pack\", \"package\", \"parameter\", \"part\", \"part\", \"part\", \"part\", \"part\", \"part\", \"part\", \"partially\", \"particularly\", \"pass\", \"patient\", \"pay\", \"pc\", \"peace\", \"peace\", \"pen\", \"penalty\", \"penguin\", \"people\", \"people\", \"people\", \"percentage\", \"performance\", \"period\", \"period\", \"person\", \"person\", \"phase\", \"philly\", \"phone\", \"physician\", \"pick\", \"pick\", \"pick\", \"pistol\", \"pitch\", \"plane\", \"play\", \"play\", \"player\", \"point\", \"point\", \"pointer\", \"police\", \"police\", \"port\", \"post\", \"post\", \"postscript\", \"power\", \"power\", \"preach\", \"prescription\", \"press\", \"press\", \"prevent\", \"price\", \"printer\", \"private\", \"problem\", \"problem\", \"problem\", \"processor\", \"production\", \"program\", \"program\", \"program\", \"program\", \"project\", \"project\", \"proper\", \"protect\", \"prove\", \"prove\", \"prove\", \"provide\", \"provide\", \"public\", \"publication\", \"publicly\", \"publish\", \"pull\", \"pull\", \"purpose\", \"quadra\", \"question\", \"question\", \"question\", \"question\", \"question\", \"quit\", \"quote\", \"quote\", \"radiation\", \"rape\", \"rate\", \"rate\", \"ratio\", \"reactor\", \"reality\", \"realize\", \"reason\", \"reason\", \"receive\", \"redesign\", \"reduce\", \"reflect\", \"reject\", \"relationship\", \"religion\", \"religious\", \"religious\", \"religious\", \"remember\", \"remember\", \"replace\", \"reply\", \"reply\", \"report\", \"report\", \"requirement\", \"research\", \"research\", \"research\", \"resolution\", \"respect\", \"restore\", \"result\", \"result\", \"retire\", \"retrieve\", \"return\", \"return\", \"revelation\", \"review\", \"revolver\", \"ride\", \"right\", \"right\", \"right\", \"risk\", \"rocket\", \"role\", \"roman\", \"room\", \"routine\", \"rude\", \"ruin\", \"run\", \"run\", \"run\", \"running\", \"russian\", \"s\", \"s\", \"sabre\", \"sale\", \"satellite\", \"saturn\", \"save\", \"say\", \"scale\", \"scare\", \"scene\", \"schedule\", \"science\", \"scientific\", \"score\", \"scorer\", \"screen\", \"scripture\", \"scsi\", \"season\", \"second\", \"second\", \"second\", \"second\", \"second\", \"secret\", \"section\", \"secure\", \"security\", \"see\", \"see\", \"see\", \"seem\", \"seem\", \"seem\", \"sell\", \"send\", \"send\", \"sense\", \"serious\", \"server\", \"session\", \"set\", \"set\", \"set\", \"set\", \"set\", \"several\", \"several\", \"several\", \"several\", \"sgi\", \"shall\", \"sharing\", \"shoot\", \"shoot\", \"shuttle\", \"significant\", \"sister\", \"size\", \"size\", \"sky\", \"slaughter\", \"slow\", \"small\", \"small\", \"software\", \"soldier\", \"solid\", \"soon\", \"source\", \"source\", \"source\", \"source\", \"space\", \"spacecraft\", \"speak\", \"special\", \"specify\", \"speed\", \"spend\", \"spot\", \"spot\", \"stall\", \"stand\", \"standard\", \"standard\", \"standard\", \"state\", \"state\", \"steal\", \"steal\", \"stone\", \"story\", \"stream\", \"strictly\", \"stroke\", \"stuck\", \"study\", \"study\", \"stuff\", \"subjective\", \"suggest\", \"suitable\", \"summary\", \"sun\", \"superior\", \"support\", \"support\", \"support\", \"support\", \"support\", \"swear\", \"switch\", \"switch\", \"synchronous\", \"system\", \"system\", \"system\", \"take\", \"take\", \"take\", \"talk\", \"talk\", \"tank\", \"tank\", \"tap\", \"tape\", \"teach\", \"team\", \"tear\", \"technical\", \"technical\", \"technology\", \"technology\", \"technology\", \"tell\", \"tell\", \"terminal\", \"terrorism\", \"terrorism\", \"test\", \"testing\", \"text\", \"text\", \"text\", \"thank\", \"thermal\", \"thesis\", \"thick\", \"thing\", \"thing\", \"think\", \"thinking\", \"though\", \"thread\", \"throw\", \"throw\", \"thumb\", \"ticket\", \"tie\", \"tie\", \"tighten\", \"time\", \"time\", \"time\", \"time\", \"tip\", \"top\", \"top\", \"top\", \"town\", \"trade\", \"traditional\", \"translate\", \"treat\", \"treat\", \"treatment\", \"trial\", \"trigger\", \"trip\", \"trivial\", \"troop\", \"true\", \"true\", \"true\", \"trust\", \"truth\", \"try\", \"try\", \"try\", \"turk\", \"turkish\", \"turning\", \"univ\", \"university\", \"unknown\", \"update\", \"use\", \"use\", \"use\", \"use\", \"use\", \"user\", \"user\", \"user\", \"usually\", \"utility\", \"vehicle\", \"vendor\", \"vendor\", \"verification\", \"version\", \"version\", \"version\", \"victory\", \"victory\", \"video\", \"village\", \"vitamin\", \"volt\", \"voting\", \"want\", \"want\", \"war\", \"warrant\", \"watch\", \"watch\", \"water\", \"way\", \"way\", \"way\", \"way\", \"weapon\", \"weeks_ago\", \"weight\", \"well\", \"well\", \"well\", \"whole\", \"wide\", \"wide\", \"wide\", \"widget\", \"wild_corn\", \"willing\", \"win\", \"win\", \"window\", \"wing\", \"winter\", \"wire\", \"withdraw\", \"woman\", \"woman\", \"wonder\", \"word\", \"word\", \"word\", \"word\", \"work\", \"work\", \"work\", \"world\", \"world\", \"worry\", \"worse\", \"worthwhile\", \"would\", \"would\", \"would\", \"would\", \"write\", \"write\", \"writing\", \"wrong\", \"year\", \"year\", \"year\", \"yesterday\", \"young\"]}, \"R\": 30, \"lambda.step\": 0.01, \"plot.opts\": {\"xlab\": \"PC1\", \"ylab\": \"PC2\"}, \"topic.order\": [2, 19, 10, 20, 4, 11, 7, 3, 15, 17, 12, 1, 13, 9, 8, 5, 14, 16, 6, 18]};\n",
       "\n",
       "function LDAvis_load_lib(url, callback){\n",
       "  var s = document.createElement('script');\n",
       "  s.src = url;\n",
       "  s.async = true;\n",
       "  s.onreadystatechange = s.onload = callback;\n",
       "  s.onerror = function(){console.warn(\"failed to load library \" + url);};\n",
       "  document.getElementsByTagName(\"head\")[0].appendChild(s);\n",
       "}\n",
       "\n",
       "if(typeof(LDAvis) !== \"undefined\"){\n",
       "   // already loaded: just create the visualization\n",
       "   !function(LDAvis){\n",
       "       new LDAvis(\"#\" + \"ldavis_el1072426801739239125780913011\", ldavis_el1072426801739239125780913011_data);\n",
       "   }(LDAvis);\n",
       "}else if(typeof define === \"function\" && define.amd){\n",
       "   // require.js is available: use it to load d3/LDAvis\n",
       "   require.config({paths: {d3: \"https://cdnjs.cloudflare.com/ajax/libs/d3/3.5.5/d3.min\"}});\n",
       "   require([\"d3\"], function(d3){\n",
       "      window.d3 = d3;\n",
       "      LDAvis_load_lib(\"https://cdn.rawgit.com/bmabey/pyLDAvis/files/ldavis.v1.0.0.js\", function(){\n",
       "        new LDAvis(\"#\" + \"ldavis_el1072426801739239125780913011\", ldavis_el1072426801739239125780913011_data);\n",
       "      });\n",
       "    });\n",
       "}else{\n",
       "    // require.js not available: dynamically load d3 & LDAvis\n",
       "    LDAvis_load_lib(\"https://cdnjs.cloudflare.com/ajax/libs/d3/3.5.5/d3.min.js\", function(){\n",
       "         LDAvis_load_lib(\"https://cdn.rawgit.com/bmabey/pyLDAvis/files/ldavis.v1.0.0.js\", function(){\n",
       "                 new LDAvis(\"#\" + \"ldavis_el1072426801739239125780913011\", ldavis_el1072426801739239125780913011_data);\n",
       "            })\n",
       "         });\n",
       "}\n",
       "</script>"
      ],
      "text/plain": [
       "PreparedData(topic_coordinates=              x         y  topics  cluster       Freq\n",
       "topic                                                \n",
       "1     -0.335626 -0.217742       1        1  28.085712\n",
       "18    -0.302087 -0.145044       2        1  18.153528\n",
       "9     -0.271869 -0.004532       3        1  15.586514\n",
       "19    -0.213919  0.101526       4        1   8.162916\n",
       "3      0.014729  0.121690       5        1   5.748532\n",
       "10    -0.144866  0.268453       6        1   5.679915\n",
       "6     -0.129679  0.185631       7        1   5.134482\n",
       "2     -0.061846 -0.076529       8        1   2.129818\n",
       "14    -0.018009 -0.093240       9        1   1.930827\n",
       "16     0.000236  0.059307      10        1   1.921904\n",
       "11     0.069657  0.074448      11        1   1.423861\n",
       "0      0.119143  0.020979      12        1   1.152395\n",
       "12     0.109095 -0.008043      13        1   1.039403\n",
       "8      0.085481 -0.055218      14        1   0.971923\n",
       "7      0.131145 -0.010039      15        1   0.884548\n",
       "4      0.160738 -0.037302      16        1   0.697290\n",
       "13     0.172285 -0.042789      17        1   0.449756\n",
       "15     0.198402 -0.044226      18        1   0.375347\n",
       "5      0.200337 -0.048557      19        1   0.334445\n",
       "17     0.216654 -0.048775      20        1   0.136887, topic_info=              Term          Freq         Total Category  logprob  loglift\n",
       "3718            ax  36366.000000  36366.000000  Default  30.0000  30.0000\n",
       "18            line  15682.000000  15682.000000  Default  29.0000  29.0000\n",
       "197          write  13139.000000  13139.000000  Default  28.0000  28.0000\n",
       "39            year   4567.000000   4567.000000  Default  27.0000  27.0000\n",
       "140         people   7716.000000   7716.000000  Default  26.0000  26.0000\n",
       "...            ...           ...           ...      ...      ...      ...\n",
       "6226  redistribute      0.026008      1.250145  Topic20 -11.0266   2.7212\n",
       "6951     judgement      0.026008      1.250163  Topic20 -11.0266   2.7211\n",
       "9115      tomorrow      0.026008      1.250169  Topic20 -11.0266   2.7211\n",
       "5664  announcement      0.026008      1.250196  Topic20 -11.0266   2.7211\n",
       "4072          baby      0.026008      1.250173  Topic20 -11.0266   2.7211\n",
       "\n",
       "[866 rows x 6 columns], token_table=      Topic      Freq          Term\n",
       "term                               \n",
       "1227      1  0.999079        accept\n",
       "345      15  0.914019    acceptance\n",
       "326      17  0.943324  accidentally\n",
       "0         7  0.998122      addition\n",
       "175       2  0.399800       address\n",
       "...     ...       ...           ...\n",
       "39        1  0.028244          year\n",
       "39        3  0.824321          year\n",
       "39       14  0.147349          year\n",
       "722      13  0.992130     yesterday\n",
       "570       1  0.998435         young\n",
       "\n",
       "[1113 rows x 3 columns], R=30, lambda_step=0.01, plot_opts={'xlab': 'PC1', 'ylab': 'PC2'}, topic_order=[2, 19, 10, 20, 4, 11, 7, 3, 15, 17, 12, 1, 13, 9, 8, 5, 14, 16, 6, 18])"
      ]
     },
     "execution_count": 19,
     "metadata": {},
     "output_type": "execute_result"
    }
   ],
   "source": [
    "# The next step is to examine the produced topics and the associated keywords. There is no better tool than pyLDAvis package's\n",
    "# interactive chart and is designed to work well with jupyter notebooks\n",
    "pyLDAvis.enable_notebook()\n",
    "vis = pyLDAvis.gensim.prepare(lda_model, corpus, id2word)\n",
    "vis"
   ]
  },
  {
   "cell_type": "markdown",
   "metadata": {},
   "source": [
    "**Plot Inference**\n",
    "\n",
    "- Each bubble on the left-hand side plot represents a topic. The larger the bubble the more prevalent is that topic\n",
    "- A good topic model will have fairly big, non-overlapping bubbles scattered throughout the chart instead of being clustered in one quadrant\n",
    "- A model with too many topics will typically have many overlaps, small sized bubbles clustered in one region of the chart\n",
    "- Moving the cursor over one of the bubbles, the words and bars on the right-hand side will update. These words are the salient keywords that form the selected topic"
   ]
  },
  {
   "cell_type": "markdown",
   "metadata": {},
   "source": [
    "- We have seen Gensim’s inbuilt version of the LDA algorithm\n",
    "- Mallet’s version, however, often gives a better quality of topics\n",
    "\n",
    "**`We will improve upon this model by using Mallet’s version of LDA algorithm and then we will focus on how to arrive at the optimal number of topics given any large corpus of text`**\n",
    "\n",
    "\n",
    "Gensim provides a wrapper to implement Mallet’s LDA from within Gensim itself. You only need to [download the zipfile](http://mallet.cs.umass.edu/dist/mallet-2.0.8.zip), unzip it and provide the path to mallet in the unzipped directory to gensim.models.wrappers.LdaMallet"
   ]
  },
  {
   "cell_type": "code",
   "execution_count": 21,
   "metadata": {},
   "outputs": [
    {
     "ename": "CalledProcessError",
     "evalue": "Command 'C:/Users/kalya/Python/mallet-2.0.8/mallet-2.0.8/bin/mallet import-file --preserve-case --keep-sequence --remove-stopwords --token-regex \"\\S+\" --input C:\\Users\\kalya\\AppData\\Local\\Temp\\ecd75a_corpus.txt --output C:\\Users\\kalya\\AppData\\Local\\Temp\\ecd75a_corpus.mallet' returned non-zero exit status 1.",
     "output_type": "error",
     "traceback": [
      "\u001b[1;31m---------------------------------------------------------------------------\u001b[0m",
      "\u001b[1;31mCalledProcessError\u001b[0m                        Traceback (most recent call last)",
      "\u001b[1;32m<ipython-input-21-381a8c178d3e>\u001b[0m in \u001b[0;36m<module>\u001b[1;34m\u001b[0m\n\u001b[0;32m      4\u001b[0m \u001b[1;31m# Building LDA Mallet Model\u001b[0m\u001b[1;33m\u001b[0m\u001b[1;33m\u001b[0m\u001b[1;33m\u001b[0m\u001b[0m\n\u001b[0;32m      5\u001b[0m \u001b[0mmallet_path\u001b[0m \u001b[1;33m=\u001b[0m \u001b[1;34mr'C:/Users/kalya/Python/mallet-2.0.8/mallet-2.0.8/bin/mallet'\u001b[0m\u001b[1;33m\u001b[0m\u001b[1;33m\u001b[0m\u001b[0m\n\u001b[1;32m----> 6\u001b[1;33m \u001b[0mldamallet\u001b[0m \u001b[1;33m=\u001b[0m \u001b[0mgensim\u001b[0m\u001b[1;33m.\u001b[0m\u001b[0mmodels\u001b[0m\u001b[1;33m.\u001b[0m\u001b[0mwrappers\u001b[0m\u001b[1;33m.\u001b[0m\u001b[0mLdaMallet\u001b[0m\u001b[1;33m(\u001b[0m\u001b[0mmallet_path\u001b[0m\u001b[1;33m,\u001b[0m \u001b[0mcorpus\u001b[0m\u001b[1;33m=\u001b[0m\u001b[0mcorpus\u001b[0m\u001b[1;33m,\u001b[0m \u001b[0mnum_topics\u001b[0m\u001b[1;33m=\u001b[0m\u001b[1;36m20\u001b[0m\u001b[1;33m,\u001b[0m \u001b[0mid2word\u001b[0m\u001b[1;33m=\u001b[0m\u001b[0mid2word\u001b[0m\u001b[1;33m)\u001b[0m\u001b[1;33m\u001b[0m\u001b[1;33m\u001b[0m\u001b[0m\n\u001b[0m",
      "\u001b[1;32m~\\Anaconda3\\lib\\site-packages\\gensim\\models\\wrappers\\ldamallet.py\u001b[0m in \u001b[0;36m__init__\u001b[1;34m(self, mallet_path, corpus, num_topics, alpha, id2word, workers, prefix, optimize_interval, iterations, topic_threshold, random_seed)\u001b[0m\n\u001b[0;32m    129\u001b[0m         \u001b[0mself\u001b[0m\u001b[1;33m.\u001b[0m\u001b[0mrandom_seed\u001b[0m \u001b[1;33m=\u001b[0m \u001b[0mrandom_seed\u001b[0m\u001b[1;33m\u001b[0m\u001b[1;33m\u001b[0m\u001b[0m\n\u001b[0;32m    130\u001b[0m         \u001b[1;32mif\u001b[0m \u001b[0mcorpus\u001b[0m \u001b[1;32mis\u001b[0m \u001b[1;32mnot\u001b[0m \u001b[1;32mNone\u001b[0m\u001b[1;33m:\u001b[0m\u001b[1;33m\u001b[0m\u001b[1;33m\u001b[0m\u001b[0m\n\u001b[1;32m--> 131\u001b[1;33m             \u001b[0mself\u001b[0m\u001b[1;33m.\u001b[0m\u001b[0mtrain\u001b[0m\u001b[1;33m(\u001b[0m\u001b[0mcorpus\u001b[0m\u001b[1;33m)\u001b[0m\u001b[1;33m\u001b[0m\u001b[1;33m\u001b[0m\u001b[0m\n\u001b[0m\u001b[0;32m    132\u001b[0m \u001b[1;33m\u001b[0m\u001b[0m\n\u001b[0;32m    133\u001b[0m     \u001b[1;32mdef\u001b[0m \u001b[0mfinferencer\u001b[0m\u001b[1;33m(\u001b[0m\u001b[0mself\u001b[0m\u001b[1;33m)\u001b[0m\u001b[1;33m:\u001b[0m\u001b[1;33m\u001b[0m\u001b[1;33m\u001b[0m\u001b[0m\n",
      "\u001b[1;32m~\\Anaconda3\\lib\\site-packages\\gensim\\models\\wrappers\\ldamallet.py\u001b[0m in \u001b[0;36mtrain\u001b[1;34m(self, corpus)\u001b[0m\n\u001b[0;32m    270\u001b[0m \u001b[1;33m\u001b[0m\u001b[0m\n\u001b[0;32m    271\u001b[0m         \"\"\"\n\u001b[1;32m--> 272\u001b[1;33m         \u001b[0mself\u001b[0m\u001b[1;33m.\u001b[0m\u001b[0mconvert_input\u001b[0m\u001b[1;33m(\u001b[0m\u001b[0mcorpus\u001b[0m\u001b[1;33m,\u001b[0m \u001b[0minfer\u001b[0m\u001b[1;33m=\u001b[0m\u001b[1;32mFalse\u001b[0m\u001b[1;33m)\u001b[0m\u001b[1;33m\u001b[0m\u001b[1;33m\u001b[0m\u001b[0m\n\u001b[0m\u001b[0;32m    273\u001b[0m         \u001b[0mcmd\u001b[0m \u001b[1;33m=\u001b[0m \u001b[0mself\u001b[0m\u001b[1;33m.\u001b[0m\u001b[0mmallet_path\u001b[0m \u001b[1;33m+\u001b[0m \u001b[1;34m' train-topics --input %s --num-topics %s  --alpha %s --optimize-interval %s '\u001b[0m\u001b[0;31m\\\u001b[0m\u001b[1;33m\u001b[0m\u001b[1;33m\u001b[0m\u001b[0m\n\u001b[0;32m    274\u001b[0m             \u001b[1;34m'--num-threads %s --output-state %s --output-doc-topics %s --output-topic-keys %s '\u001b[0m\u001b[0;31m\\\u001b[0m\u001b[1;33m\u001b[0m\u001b[1;33m\u001b[0m\u001b[0m\n",
      "\u001b[1;32m~\\Anaconda3\\lib\\site-packages\\gensim\\models\\wrappers\\ldamallet.py\u001b[0m in \u001b[0;36mconvert_input\u001b[1;34m(self, corpus, infer, serialize_corpus)\u001b[0m\n\u001b[0;32m    259\u001b[0m             \u001b[0mcmd\u001b[0m \u001b[1;33m=\u001b[0m \u001b[0mcmd\u001b[0m \u001b[1;33m%\u001b[0m \u001b[1;33m(\u001b[0m\u001b[0mself\u001b[0m\u001b[1;33m.\u001b[0m\u001b[0mfcorpustxt\u001b[0m\u001b[1;33m(\u001b[0m\u001b[1;33m)\u001b[0m\u001b[1;33m,\u001b[0m \u001b[0mself\u001b[0m\u001b[1;33m.\u001b[0m\u001b[0mfcorpusmallet\u001b[0m\u001b[1;33m(\u001b[0m\u001b[1;33m)\u001b[0m\u001b[1;33m)\u001b[0m\u001b[1;33m\u001b[0m\u001b[1;33m\u001b[0m\u001b[0m\n\u001b[0;32m    260\u001b[0m         \u001b[0mlogger\u001b[0m\u001b[1;33m.\u001b[0m\u001b[0minfo\u001b[0m\u001b[1;33m(\u001b[0m\u001b[1;34m\"converting temporary corpus to MALLET format with %s\"\u001b[0m\u001b[1;33m,\u001b[0m \u001b[0mcmd\u001b[0m\u001b[1;33m)\u001b[0m\u001b[1;33m\u001b[0m\u001b[1;33m\u001b[0m\u001b[0m\n\u001b[1;32m--> 261\u001b[1;33m         \u001b[0mcheck_output\u001b[0m\u001b[1;33m(\u001b[0m\u001b[0margs\u001b[0m\u001b[1;33m=\u001b[0m\u001b[0mcmd\u001b[0m\u001b[1;33m,\u001b[0m \u001b[0mshell\u001b[0m\u001b[1;33m=\u001b[0m\u001b[1;32mTrue\u001b[0m\u001b[1;33m)\u001b[0m\u001b[1;33m\u001b[0m\u001b[1;33m\u001b[0m\u001b[0m\n\u001b[0m\u001b[0;32m    262\u001b[0m \u001b[1;33m\u001b[0m\u001b[0m\n\u001b[0;32m    263\u001b[0m     \u001b[1;32mdef\u001b[0m \u001b[0mtrain\u001b[0m\u001b[1;33m(\u001b[0m\u001b[0mself\u001b[0m\u001b[1;33m,\u001b[0m \u001b[0mcorpus\u001b[0m\u001b[1;33m)\u001b[0m\u001b[1;33m:\u001b[0m\u001b[1;33m\u001b[0m\u001b[1;33m\u001b[0m\u001b[0m\n",
      "\u001b[1;32m~\\Anaconda3\\lib\\site-packages\\gensim\\utils.py\u001b[0m in \u001b[0;36mcheck_output\u001b[1;34m(stdout, *popenargs, **kwargs)\u001b[0m\n\u001b[0;32m   1930\u001b[0m             \u001b[0merror\u001b[0m \u001b[1;33m=\u001b[0m \u001b[0msubprocess\u001b[0m\u001b[1;33m.\u001b[0m\u001b[0mCalledProcessError\u001b[0m\u001b[1;33m(\u001b[0m\u001b[0mretcode\u001b[0m\u001b[1;33m,\u001b[0m \u001b[0mcmd\u001b[0m\u001b[1;33m)\u001b[0m\u001b[1;33m\u001b[0m\u001b[1;33m\u001b[0m\u001b[0m\n\u001b[0;32m   1931\u001b[0m             \u001b[0merror\u001b[0m\u001b[1;33m.\u001b[0m\u001b[0moutput\u001b[0m \u001b[1;33m=\u001b[0m \u001b[0moutput\u001b[0m\u001b[1;33m\u001b[0m\u001b[1;33m\u001b[0m\u001b[0m\n\u001b[1;32m-> 1932\u001b[1;33m             \u001b[1;32mraise\u001b[0m \u001b[0merror\u001b[0m\u001b[1;33m\u001b[0m\u001b[1;33m\u001b[0m\u001b[0m\n\u001b[0m\u001b[0;32m   1933\u001b[0m         \u001b[1;32mreturn\u001b[0m \u001b[0moutput\u001b[0m\u001b[1;33m\u001b[0m\u001b[1;33m\u001b[0m\u001b[0m\n\u001b[0;32m   1934\u001b[0m     \u001b[1;32mexcept\u001b[0m \u001b[0mKeyboardInterrupt\u001b[0m\u001b[1;33m:\u001b[0m\u001b[1;33m\u001b[0m\u001b[1;33m\u001b[0m\u001b[0m\n",
      "\u001b[1;31mCalledProcessError\u001b[0m: Command 'C:/Users/kalya/Python/mallet-2.0.8/mallet-2.0.8/bin/mallet import-file --preserve-case --keep-sequence --remove-stopwords --token-regex \"\\S+\" --input C:\\Users\\kalya\\AppData\\Local\\Temp\\ecd75a_corpus.txt --output C:\\Users\\kalya\\AppData\\Local\\Temp\\ecd75a_corpus.mallet' returned non-zero exit status 1."
     ]
    }
   ],
   "source": [
    "from gensim.models.wrappers import LdaMallet\n",
    "os.environ.update({'MALLET_HOME':r'C:/Users/kalya/Python/mallet-2.0.8/mallet-2.0.8/'})\n",
    "\n",
    "# Building LDA Mallet Model\n",
    "mallet_path = r'C:/Users/kalya/Python/mallet-2.0.8/mallet-2.0.8/bin/mallet'\n",
    "ldamallet = gensim.models.wrappers.LdaMallet(mallet_path, corpus=corpus, num_topics=20, id2word=id2word)"
   ]
  },
  {
   "cell_type": "code",
   "execution_count": null,
   "metadata": {},
   "outputs": [],
   "source": [
    "# Show Topics\n",
    "pprint(ldamallet.show_topics(formatted=False))\n",
    "\n",
    "# Compute Coherence Score\n",
    "coherence_model_ldamallet = CoherenceModel(model=ldamallet, texts=data_lemmatized, dictionary=id2word, coherence='c_v')\n",
    "coherence_ldamallet = coherence_model_ldamallet.get_coherence()\n",
    "print('\\nCoherence Score: ', coherence_ldamallet)"
   ]
  },
  {
   "cell_type": "markdown",
   "metadata": {},
   "source": [
    "**Optimal number of topics for LDA**\n",
    "\n",
    "- Build many LDA models with different values of number of topics (k) and pick the one that gives the highest coherence value\n",
    "- Choosing a ‘k’ that marks the end of a rapid growth of topic coherence usually offers meaningful and interpretable topics\n",
    "- Picking an even higher value can sometimes provide more granular sub-topics\n",
    "- `If same keywords are being repeated in multiple topics, it’s probably a sign that the ‘k’ is too large`\n",
    "- The `compute_coherence_values()` trains multiple LDA models and provides the models and their corresponding coherence scores"
   ]
  },
  {
   "cell_type": "code",
   "execution_count": null,
   "metadata": {},
   "outputs": [],
   "source": [
    "def compute_coherence_values(dictionary, corpus, texts, limit, start=2, step=3):\n",
    "    \"\"\"\n",
    "    Compute c_v coherence for various number of topics\n",
    "    Parameters:\n",
    "    ----------\n",
    "    dictionary : Gensim dictionary\n",
    "    corpus : Gensim corpus\n",
    "    texts : List of input texts\n",
    "    limit : Max num of topics\n",
    "    Returns:\n",
    "    -------\n",
    "    model_list : List of LDA topic models\n",
    "    coherence_values : Coherence values corresponding to the LDA model with respective number of topics\n",
    "    \"\"\"\n",
    "    coherence_values = []\n",
    "    model_list = []\n",
    "    for num_topics in range(start, limit, step):\n",
    "        model = gensim.models.wrappers.LdaMallet(mallet_path, corpus=corpus, num_topics=num_topics, id2word=id2word)\n",
    "        model_list.append(model)\n",
    "        coherencemodel = CoherenceModel(model=model, texts=texts, dictionary=dictionary, coherence='c_v')\n",
    "        coherence_values.append(coherencemodel.get_coherence())\n",
    "\n",
    "    return model_list, coherence_values"
   ]
  },
  {
   "cell_type": "code",
   "execution_count": null,
   "metadata": {},
   "outputs": [],
   "source": [
    "# Can take a long time to run.\n",
    "model_list, coherence_values = compute_coherence_values(dictionary=id2word, corpus=corpus, texts=data_lemmatized, start=2, limit=40, step=6)\n",
    "\n",
    "# Show graph\n",
    "limit=40; start=2; step=6;\n",
    "x = range(start, limit, step)\n",
    "plt.plot(x, coherence_values)\n",
    "plt.xlabel(\"Num Topics\")\n",
    "plt.ylabel(\"Coherence score\")\n",
    "plt.legend((\"coherence_values\"), loc='best')\n",
    "plt.show()"
   ]
  },
  {
   "cell_type": "code",
   "execution_count": null,
   "metadata": {},
   "outputs": [],
   "source": [
    "# Print the coherence scores\n",
    "for m, cv in zip(x, coherence_values):\n",
    "    print(\"Num Topics =\", m, \" has Coherence Value of\", round(cv, 4))\n",
    "\n",
    "\"If the coherence score seems to keep increasing, it may make better sense to pick the model that gave the highest CV before flattening out. This is exactly the case here. Hencea bteer score would be 20\""
   ]
  },
  {
   "cell_type": "code",
   "execution_count": null,
   "metadata": {},
   "outputs": [],
   "source": [
    "# Select the model and print the topics\n",
    "optimal_model = model_list[3]\n",
    "model_topics = optimal_model.show_topics(formatted=False)\n",
    "pprint(optimal_model.print_topics(num_words=10))"
   ]
  },
  {
   "cell_type": "markdown",
   "metadata": {},
   "source": [
    "**Refer this [link1](https://www.machinelearningplus.com/nlp/topic-modeling-gensim-python/) and [link2](https://www.machinelearningplus.com/nlp/topic-modeling-visualization-how-to-present-results-lda-models/) for more information**\n",
    "\n",
    "[1. Topic modeling visualization](https://www.machinelearningplus.com/nlp/topic-modeling-visualization-how-to-present-results-lda-models/)\n",
    "\n",
    "[2. Finding the dominant topic](https://www.machinelearningplus.com/nlp/topic-modeling-gensim-python/)\n",
    "\n",
    "[3. Gensim Tutorial](https://www.machinelearningplus.com/nlp/gensim-tutorial/#14howtotrainword2vecmodelusinggensim)\n",
    "\n",
    "[4. Topic Modeling with Gensim](https://www.machinelearningplus.com/nlp/topic-modeling-gensim-python/)"
   ]
  },
  {
   "cell_type": "code",
   "execution_count": null,
   "metadata": {},
   "outputs": [],
   "source": []
  }
 ],
 "metadata": {
  "kernelspec": {
   "display_name": "Python 3",
   "language": "python",
   "name": "python3"
  },
  "language_info": {
   "codemirror_mode": {
    "name": "ipython",
    "version": 3
   },
   "file_extension": ".py",
   "mimetype": "text/x-python",
   "name": "python",
   "nbconvert_exporter": "python",
   "pygments_lexer": "ipython3",
   "version": "3.7.4"
  }
 },
 "nbformat": 4,
 "nbformat_minor": 2
}
